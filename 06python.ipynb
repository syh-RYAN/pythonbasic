{
 "cells": [
  {
   "cell_type": "code",
   "execution_count": null,
   "id": "04237cc2-ff6a-4218-8e36-db5e7a261f07",
   "metadata": {},
   "outputs": [
    {
     "name": "stdin",
     "output_type": "stream",
     "text": [
      "실기점수를 입력하세요: 70 50 85 98 82\n"
     ]
    },
    {
     "name": "stdout",
     "output_type": "stream",
     "text": [
      "이 학생의 평균 점수는 79.0 입니다.\n"
     ]
    }
   ],
   "source": [
    "score = list(map(int,input(\"실기점수를 입력하세요:\").split(\" \")))\n",
    "\n",
    "result = 0\n",
    "\n",
    "large= score[0]\n",
    "\n",
    "small = score[0]\n",
    "\n",
    "for _ in range(len(score)):\n",
    "    result+=score[_]\n",
    "print(result)\n",
    "\n",
    "for ma in range(len(score)):\n",
    "    if large < score[ma]:\n",
    "        large=score[ma]\n",
    "print(large)\n",
    "\n",
    "for mi in range(len(score)):\n",
    "    if small > score[mi]:\n",
    "        small=score[mi]\n",
    "print(small)\n",
    "\n",
    "print(result-large-small)\n",
    "\n",
    "final_result=(result - large - small) / (len(score)-2)\n",
    "\n",
    "print(f'이 학생의 평균 점수는 {final_result} 입니다.')"
   ]
  },
  {
   "cell_type": "code",
   "execution_count": 58,
   "id": "77dd9fa9-6706-40f9-8b7e-19af68e4a93f",
   "metadata": {},
   "outputs": [
    {
     "name": "stdin",
     "output_type": "stream",
     "text": [
      "실기점수를 입력하세요: 70 50 85 98 82\n"
     ]
    },
    {
     "name": "stdout",
     "output_type": "stream",
     "text": [
      "98\n",
      "50\n",
      "이 학생의 평균 점수는 79.0 입니다.\n"
     ]
    }
   ],
   "source": [
    "# 5명의 심사관 점수 입력하여 int list 만들기\n",
    "\n",
    "scores=list(map(int,input(\"실기점수를 입력하세요:\").split()))\n",
    "\n",
    "#총점 구하기\n",
    "total = 0 #총점 초기화\n",
    "for i in scores:\n",
    "    total+=i\n",
    "\n",
    "#최고 점수 구하기\n",
    "largest = 0\n",
    "for i in scores:\n",
    "    if i > largest:\n",
    "        largest = i\n",
    "print(largest)\n",
    "\n",
    "#최저 점수 구하기\n",
    "smallest = 100 #최소값 초기화\n",
    "for i in scores:\n",
    "    if i < smallest :\n",
    "        smallest = i\n",
    "print(smallest)\n",
    "\n",
    "avr = (total - largest - smallest) / (len(scores) -2)\n",
    "print(\"이 학생의 평균 점수는\",avr,\"입니다.\")"
   ]
  },
  {
   "cell_type": "code",
   "execution_count": 74,
   "id": "c844d6d3-7729-478a-a817-ccfdd164fcee",
   "metadata": {},
   "outputs": [
    {
     "name": "stdout",
     "output_type": "stream",
     "text": [
      "[2, 1, 1, 1, 0]\n"
     ]
    }
   ],
   "source": [
    "score=[86,72,98,60,45]\n",
    "\n",
    "grade_counter = [0,0,0,0,0]\n",
    "\n",
    "for i in score:\n",
    "    if 85 <= i <100:\n",
    "        grade_counter[0] +=1 #A학점\n",
    "    elif 70 <= i <85:\n",
    "        grade_counter[1] +=1 #B학점\n",
    "    elif 55 <= i < 70:\n",
    "        grade_counter[2] +=1 #C학점\n",
    "    elif 40 <= i < 55:\n",
    "        grade_counter[3] +=1 #D학점\n",
    "    else:\n",
    "        grade_counter[4] +=1\n",
    "print(grade_counter)"
   ]
  },
  {
   "cell_type": "code",
   "execution_count": 97,
   "id": "834e46ac-9423-43fd-9ebd-9e313d0351b4",
   "metadata": {
    "scrolled": true,
    "tags": []
   },
   "outputs": [
    {
     "name": "stdout",
     "output_type": "stream",
     "text": [
      "1\t2\tFizz\n",
      "4\tFizz\n",
      "Fizz\n",
      "7\t8\tFizz\n",
      "Fizz\n",
      "11\tFizz\n",
      "13\t14\tFizzBuzz\n",
      "16\t17\tFizz\n",
      "19\tFizz\n",
      "Fizz\n",
      "22\t23\tFizz\n",
      "Fizz\n",
      "26\tFizz\n",
      "28\t29\tFizzBuzz\n",
      "31\t32\tFizz\n",
      "34\tFizz\n",
      "Fizz\n",
      "37\t38\tFizz\n",
      "Fizz\n",
      "41\tFizz\n",
      "43\t44\tFizzBuzz\n",
      "46\t47\tFizz\n",
      "49\tFizz\n",
      "Fizz\n",
      "52\t53\tFizz\n",
      "Fizz\n",
      "56\tFizz\n",
      "58\t59\tFizzBuzz\n",
      "61\t62\tFizz\n",
      "64\tFizz\n",
      "Fizz\n",
      "67\t68\tFizz\n",
      "Fizz\n",
      "71\tFizz\n",
      "73\t74\tFizzBuzz\n",
      "76\t77\tFizz\n",
      "79\tFizz\n",
      "Fizz\n",
      "82\t83\tFizz\n",
      "Fizz\n",
      "86\tFizz\n",
      "88\t89\tFizzBuzz\n",
      "91\t92\tFizz\n",
      "94\tFizz\n",
      "Fizz\n",
      "97\t98\tFizz\n",
      "Fizz\n"
     ]
    }
   ],
   "source": [
    "for i in range(1,101):\n",
    "    if i % 3 ==0 and i % 5 ==0:\n",
    "        print(\"FizzBuzz\")\n",
    "    elif i % 3 ==0 or i % 5 ==0:\n",
    "        print(\"Fizz\")\n",
    "    else:\n",
    "        print(i,end='\\t')"
   ]
  },
  {
   "cell_type": "code",
   "execution_count": 98,
   "id": "e1514542-e6fc-407c-87be-151f2f3f76d1",
   "metadata": {},
   "outputs": [
    {
     "name": "stdout",
     "output_type": "stream",
     "text": [
      "1\n",
      "2\n",
      "Fizz\n",
      "4\n",
      "Buzz\n",
      "Fizz\n",
      "7\n",
      "8\n",
      "Fizz\n",
      "Buzz\n",
      "11\n",
      "Fizz\n",
      "13\n",
      "14\n",
      "FizzBuzz\n",
      "16\n",
      "17\n",
      "Fizz\n",
      "19\n",
      "Buzz\n",
      "Fizz\n",
      "22\n",
      "23\n",
      "Fizz\n",
      "Buzz\n",
      "26\n",
      "Fizz\n",
      "28\n",
      "29\n",
      "FizzBuzz\n",
      "31\n",
      "32\n",
      "Fizz\n",
      "34\n",
      "Buzz\n",
      "Fizz\n",
      "37\n",
      "38\n",
      "Fizz\n",
      "Buzz\n",
      "41\n",
      "Fizz\n",
      "43\n",
      "44\n",
      "FizzBuzz\n",
      "46\n",
      "47\n",
      "Fizz\n",
      "49\n",
      "Buzz\n",
      "Fizz\n",
      "52\n",
      "53\n",
      "Fizz\n",
      "Buzz\n",
      "56\n",
      "Fizz\n",
      "58\n",
      "59\n",
      "FizzBuzz\n",
      "61\n",
      "62\n",
      "Fizz\n",
      "64\n",
      "Buzz\n",
      "Fizz\n",
      "67\n",
      "68\n",
      "Fizz\n",
      "Buzz\n",
      "71\n",
      "Fizz\n",
      "73\n",
      "74\n",
      "FizzBuzz\n",
      "76\n",
      "77\n",
      "Fizz\n",
      "79\n",
      "Buzz\n",
      "Fizz\n",
      "82\n",
      "83\n",
      "Fizz\n",
      "Buzz\n",
      "86\n",
      "Fizz\n",
      "88\n",
      "89\n",
      "FizzBuzz\n",
      "91\n",
      "92\n",
      "Fizz\n",
      "94\n",
      "Buzz\n",
      "Fizz\n",
      "97\n",
      "98\n",
      "Fizz\n",
      "Buzz\n"
     ]
    }
   ],
   "source": [
    "for i in range(1,101):\n",
    "    print(\"Fizz\" * (i % 3 ==0) + \"Buzz\" * (i % 5 ==0) or i)"
   ]
  },
  {
   "cell_type": "code",
   "execution_count": 127,
   "id": "1367de96-4f70-4103-b43d-4b8a03b31108",
   "metadata": {},
   "outputs": [
    {
     "name": "stdout",
     "output_type": "stream",
     "text": [
      " m 또는 h가 이름에 포함된 사람은 3명 입니다.\n"
     ]
    }
   ],
   "source": [
    "name_list = ['matthew','mark','luke','john','paul','peter']\n",
    "\n",
    "count = 0\n",
    "\n",
    "for i in range(len(name_list)):\n",
    "    if 'm' in name_list[i] or 'h' in name_list[i]:\n",
    "        count+=1\n",
    "print(f' m 또는 h가 이름에 포함된 사람은 {count}명 입니다.')\n"
   ]
  },
  {
   "cell_type": "code",
   "execution_count": 170,
   "id": "48b57f7d-e0e8-4b10-a020-55b2518e79dc",
   "metadata": {},
   "outputs": [
    {
     "name": "stdout",
     "output_type": "stream",
     "text": [
      "1 번 학생\n",
      "3 번 학생\n",
      "5 번 학생\n",
      "1 번 학생 축하합니다. 합격입니다.\n",
      "3 번 학생 축하합니다. 합격입니다.\n",
      "5 번 학생 축하합니다. 합격입니다.\n"
     ]
    }
   ],
   "source": [
    "marks = [90,25,67,45,80]\n",
    "\n",
    "for i in range(len(marks)):\n",
    "    if marks[i]>=60:\n",
    "        print(i+1,\"번 학생\")\n",
    "        \n",
    "marks = [90,25,67,45,80]\n",
    "number = 0\n",
    "\n",
    "for mark in marks:\n",
    "    number = number + 1\n",
    "    if mark < 60 :\n",
    "        continue\n",
    "    print(number,\"번 학생 축하합니다. 합격입니다.\")"
   ]
  },
  {
   "cell_type": "code",
   "execution_count": 174,
   "id": "ac31bf6c-d5d3-480e-ae19-03196b263279",
   "metadata": {},
   "outputs": [
    {
     "name": "stdout",
     "output_type": "stream",
     "text": [
      "1 번 학생\n",
      "3 번 학생\n",
      "5 번 학생\n",
      "1 번 학생 축하합니다. 합격입니다.\n",
      "3 번 학생 축하합니다. 합격입니다.\n",
      "5 번 학생 축하합니다. 합격입니다.\n"
     ]
    }
   ],
   "source": [
    "marks1 = [90,25,67,45,80]\n",
    "\n",
    "i = 0\n",
    "\n",
    "while i < len(marks1):\n",
    "    if marks1[i] >=60:\n",
    "        print(i+1,\"번 학생\")\n",
    "    i +=1\n",
    "    \n",
    "e = 0\n",
    "\n",
    "while e < len(marks1):\n",
    "    e+=1\n",
    "    if marks1[e-1]<60:\n",
    "        continue\n",
    "    print(e,\"번 학생 축하합니다. 합격입니다.\")"
   ]
  },
  {
   "cell_type": "code",
   "execution_count": 190,
   "id": "ae100b9f-cb4d-492b-b20a-90abbfa08e2d",
   "metadata": {},
   "outputs": [
    {
     "name": "stdout",
     "output_type": "stream",
     "text": [
      "변환된 arr은 [3, 2, 4, 1] 입니다\n"
     ]
    }
   ],
   "source": [
    "arr = [1,4,2,3]\n",
    "left,right = 0, len(arr)-1\n",
    "\n",
    "while left < (len(arr)//2):\n",
    "    arr[left],arr[right], = arr[right],arr[left]\n",
    "    left +=1\n",
    "    right -=1\n",
    "print(\"변환된 arr은\",arr,\"입니다\")"
   ]
  },
  {
   "cell_type": "code",
   "execution_count": 192,
   "id": "1006c08b-6dfe-4811-9b96-1c8411e7a260",
   "metadata": {},
   "outputs": [
    {
     "name": "stdout",
     "output_type": "stream",
     "text": [
      "0 * 1 = 0\n",
      "1 * 2 = 2\n",
      "2 * 3 = 6\n",
      "3 * 4 = 12\n",
      "4 * 5 = 20\n",
      "5 * 6 = 30\n",
      "6 * 7 = 42\n",
      "7 * 8 = 56\n",
      "8 * 9 = 72\n"
     ]
    }
   ],
   "source": [
    "i=1\n",
    "a=0\n",
    "while i <=9:\n",
    "    print(a,'*',i,'=',a*i)\n",
    "    i+=1\n",
    "    a+=1"
   ]
  },
  {
   "cell_type": "code",
   "execution_count": 205,
   "id": "6f7c6155-32e7-4d38-9b96-b11e44780d1d",
   "metadata": {},
   "outputs": [
    {
     "name": "stdout",
     "output_type": "stream",
     "text": [
      "2 x 1 = 2\t3 x 1 = 3\t4 x 1 = 4\t5 x 1 = 5\t6 x 1 = 6\t7 x 1 = 7\t8 x 1 = 8\t9 x 1 = 9\t\n",
      "2 x 2 = 4\t3 x 2 = 6\t4 x 2 = 8\t5 x 2 = 10\t6 x 2 = 12\t7 x 2 = 14\t8 x 2 = 16\t9 x 2 = 18\t\n",
      "2 x 3 = 6\t3 x 3 = 9\t4 x 3 = 12\t5 x 3 = 15\t6 x 3 = 18\t7 x 3 = 21\t8 x 3 = 24\t9 x 3 = 27\t\n",
      "2 x 4 = 8\t3 x 4 = 12\t4 x 4 = 16\t5 x 4 = 20\t6 x 4 = 24\t7 x 4 = 28\t8 x 4 = 32\t9 x 4 = 36\t\n",
      "2 x 5 = 10\t3 x 5 = 15\t4 x 5 = 20\t5 x 5 = 25\t6 x 5 = 30\t7 x 5 = 35\t8 x 5 = 40\t9 x 5 = 45\t\n",
      "2 x 6 = 12\t3 x 6 = 18\t4 x 6 = 24\t5 x 6 = 30\t6 x 6 = 36\t7 x 6 = 42\t8 x 6 = 48\t9 x 6 = 54\t\n",
      "2 x 7 = 14\t3 x 7 = 21\t4 x 7 = 28\t5 x 7 = 35\t6 x 7 = 42\t7 x 7 = 49\t8 x 7 = 56\t9 x 7 = 63\t\n",
      "2 x 8 = 16\t3 x 8 = 24\t4 x 8 = 32\t5 x 8 = 40\t6 x 8 = 48\t7 x 8 = 56\t8 x 8 = 64\t9 x 8 = 72\t\n",
      "2 x 9 = 18\t3 x 9 = 27\t4 x 9 = 36\t5 x 9 = 45\t6 x 9 = 54\t7 x 9 = 63\t8 x 9 = 72\t9 x 9 = 81\t\n"
     ]
    }
   ],
   "source": [
    "for i in range(1,10):\n",
    "    for j in range(2,10):\n",
    "        print(j,'x',i,'=',i*j,end='\\t')\n",
    "    print()"
   ]
  },
  {
   "cell_type": "code",
   "execution_count": 206,
   "id": "fcaf2207-ad7f-407e-a3bc-cd40a3d6624b",
   "metadata": {},
   "outputs": [
    {
     "ename": "SyntaxError",
     "evalue": "cannot assign to operator (2733983668.py, line 7)",
     "output_type": "error",
     "traceback": [
      "\u001b[1;36m  File \u001b[1;32m\"C:\\Users\\Playdata\\AppData\\Local\\Temp\\ipykernel_8924\\2733983668.py\"\u001b[1;36m, line \u001b[1;32m7\u001b[0m\n\u001b[1;33m    j+1=1\u001b[0m\n\u001b[1;37m    ^\u001b[0m\n\u001b[1;31mSyntaxError\u001b[0m\u001b[1;31m:\u001b[0m cannot assign to operator\n"
     ]
    }
   ],
   "source": [
    "i=1\n",
    "j=2\n",
    "\n",
    "while i <10:\n",
    "    while j<10:\n",
    "        print(j,\"x\",i,\"=\",j*i,sep=\"\",end=\"\\t\")\n",
    "        j=1\n",
    "    i+=1\n",
    "    j=2\n",
    "    print()"
   ]
  },
  {
   "cell_type": "markdown",
   "id": "4e18f2f9-f548-4d46-b266-d6ef846179a8",
   "metadata": {},
   "source": [
    "##### 딕셔너리 자료형(Dictionary type)\n",
    "- 딕셔너리 자료형(Dictionary type) 은 비 시퀀스 잘형\n",
    "- 인덱스를 가지 않습니다.\n",
    "- 대신 이 자료형은 교유한 키(key)값을 갖습니다.\n",
    "- 이 키(key)는 1대 1로 매칭되는 값(value)를 갖습니다.\n",
    "- 이를 key-value pair라고 하며 딕셔너리 자료형의 특징\n",
    "\n",
    "key : value -> key-value pair\n",
    "\n",
    "- **중괄호({})를 활용하여 딕셔너리 자료형을 생성할 수 있습니다.\n",
    "- 중괄호 안에는 key-value pair를 작성하며 형태는 key:value와 같다.\n",
    "- key-value pair는 각각 콤마로 구분지어 요소로 등록\n",
    "- 딕셔너리 자료형에서 키(key)는 중복해서 존재하지 않습니다.\n",
    "- 중복해서 넣게되면 가장 최근에 넣은 key-value pair만 남습니다.\n",
    "\n",
    "\n",
    "##### 딕셔너리 자료형 특징\n",
    "1. 키(key)\n",
    "2. 문자열(str)\n",
    "3. 정수(int)\n",
    "4. 실수(float)\n",
    "5. 불(bool)\n",
    "6. 튜플(tuple) \n",
    "- 키에 이 자료형을 섞어서 사용 가능\n",
    "- 단! 키에는 리스트(list),딕셔너리(dictionary),집합(set)을 사용 할 수 없습니다.\n",
    "- 키(key)는 고유한 값을 가져야 합니다,, (인덱스에 겹치는 숫자가 없듯이)\n",
    "- 딕셔너리 자료형에서 값(value)는 모든 자료형을 사용할 수 있다.\n",
    "- 비어있는 빈 딕셔너리를 만들 떄는 중괄호({})만 쓰거나 인자 없이 dict()활용\n",
    "##### dict() 함수로 생성\n",
    "- dict()함수에 키워드 인자값을 활용하면 딕셔너리를 만들 수 있다.\n",
    "- 함수에 사용하는 키워드 인자의 키워드 부분은 변수명처럼 따옴표('',\"\")를 사용하지 않음\n",
    "- 키와 값 한 쌍을 갖는 시퀀스 객체를 요소로 갖는 시퀀스 객체를 생성하여 딕셔너리 자료형을 만들 수 있음\n",
    "\n",
    "##### dict()함수와 zip()함수로 생성\n",
    "- zip()함수를 통하여 키와 값 한 쌍을 갖는 튜플을 요소로 갖는 객체로 딕셔너리 자료형 생성\n",
    "\n",
    "##### 키로 값에 접근하기\n",
    "- 인덱성과 동일\n",
    "- 다만 인덱싱은 0이상의 정수를 활용하여 각 요소에 접근\n",
    "- 딕셔너리 자료형은 키를 활용하여 해당 값에 접근\n",
    "\n",
    "##### 키로 값 변경하기\n",
    "- 키를 통해 접근한 요소에 값을 할당하면 해당 값을 변경할 수 있음.\n",
    "\n",
    "##### 키와 값 추가하기\n",
    "- 딕셔너리 자료형에 없는 키를 활용하여 값을 할당하면 딕셔너리 자료형에 새로운 키와 값의 쌍이 추가\n",
    "\n",
    "##### 특정 키가 딕셔너리 자료형에 있나 확인\n",
    "- 딕셔너리 자료형에서 특정 키가 존재하는 지 확인할 때 in 연산자를 활용할 수 있음\n",
    "\n",
    "##### 특정 키와 값의 쌍을 삭제\n",
    "- 딕셔너리 자료형에서 del 키워드를 활용하여 특정 키와 값의 쌍을 삭제\n",
    "\n",
    "##### 키와 값의 쌍 개수 구하기\n",
    "- 키와 값은 1대1로 한 쌍을 이룸\n",
    "- len() 함수를 통해 딕셔너리 자료형의 크기를 구하면 그건 키의 크기(개수) 이기도 하고 값의 크기 (개수)이기도 하다."
   ]
  },
  {
   "cell_type": "code",
   "execution_count": 230,
   "id": "aad4fbf3-d8a5-4556-b8c6-7690d2cd38f2",
   "metadata": {},
   "outputs": [
    {
     "name": "stdout",
     "output_type": "stream",
     "text": [
      "<class 'dict'>\n",
      "{'key': 'value'}\n",
      "{'key': 'last_value'}\n",
      "[<class 'str'>, <class 'int'>, <class 'float'>, <class 'tuple'>]\n",
      "{'key': 'value', 'key2': 'value2', 'key3': 'value3'}\n",
      "{'key': 'value', 'key2': 'value2', 'key3': 'value3'}\n",
      "<zip object at 0x000001A3E28C4B80>\n",
      "{'key': 'value', 'key2': 'value2', 'key3': 'value3'}\n",
      "value2\n",
      "{'key': 'value', 'key2': 'value2', 'key3': 'value3'}\n",
      "{'key': 'super value', 'key2': 'value2', 'key3': 'value3'}\n",
      "{'key': 'super value', 'key2': 'value2', 'key3': 'value3'}\n",
      "{'key': 'super value', 'key2': 'value2', 'key3': 'value3', 'new one': 'new value'}\n",
      "{'key': 'super value', 'key2': 'value2', 'key3': 'value3', 'new one': 'new value'}\n",
      "True\n",
      "{'key': 'super value', 'key2': 'value2', 'key3': 'value3', 'new one': 'new value'}\n",
      "{'key': 'super value', 'key2': 'value2', 'key3': 'value3'}\n",
      "{'key': 'super value', 'key2': 'value2', 'key3': 'value3'}\n"
     ]
    },
    {
     "data": {
      "text/plain": [
       "3"
      ]
     },
     "execution_count": 230,
     "metadata": {},
     "output_type": "execute_result"
    }
   ],
   "source": [
    "dic_var = {\"key\":\"value\"}\n",
    "print(type(dic_var))\n",
    "print(dic_var)\n",
    "\n",
    "#dictionary_variable = {key:value,key:value,.....}\n",
    "\n",
    "#중복x\n",
    "dic_var = {\"key\":\"value\",\"key\":\"last_value\"}\n",
    "print(dic_var) ##가장 마지막에 넣은 key-value pair만 남음\n",
    "\n",
    "##ex) 키에 이런 자료형을 사용 가능\n",
    "dic_var = {\"key\":\"value\",\n",
    "           1:\"value2\",\n",
    "           1.1:\"value3\",\n",
    "           True:\"value4\",\n",
    "           (\"key\",1,1.1,True):\"value2\"}\n",
    "print(list(map(type,dic_var.keys())))\n",
    "\n",
    "##dict()함수\n",
    "dict_a = dict(key=\"value\",key2=\"value2\",key3=\"value3\")\n",
    "print(dict_a)\n",
    "\n",
    "##키와 값 한 쌍을 갖는 시퀀스 객체를 요소로 갖는 시퀀스 객체\n",
    "dict([(\"key\",\"value\"),(\"key2\",\"value2\")])\n",
    "\n",
    "## dict()함수와 zip()함수\n",
    "dict_b = dict(zip([\"key\",\"key2\",\"key3\"],[\"value\",\"value2\",\"value3\"]))\n",
    "print(dict_b)\n",
    "\n",
    "print(zip([\"key\",\"key2\",\"key3\"],[\"value\",\"value2\",\"value3\"]))\n",
    "[_ for _ in zip([\"key\",\"key2\",\"key3\"],[\"value\",\"value2\",\"value3\"])]\n",
    "\n",
    "# 키로 값에 접근\n",
    "print(dict_b)\n",
    "print(dict_b['key2'])\n",
    "\n",
    "# 키로 값 변경\n",
    "print(dict_b)\n",
    "dict_b['key'] = \"super value\"\n",
    "print(dict_b)\n",
    "\n",
    "#키와 값 추가\n",
    "print(dict_b)\n",
    "dict_b['new one'] = \"new value\"\n",
    "print(dict_b)\n",
    "\n",
    "#특정 키가 딕셔너리 자료형에 있나 확인\n",
    "print(dict_b)\n",
    "print('key' in dict_b)\n",
    "\n",
    "#특정 키와 값의 쌍을 삭제\n",
    "print(dict_b)\n",
    "del dict_b['new one']\n",
    "print(dict_b)\n",
    "\n",
    "#키와 값의 쌍 개수 구하기\n",
    "print(dict_b)\n",
    "len(dict_b)"
   ]
  },
  {
   "cell_type": "code",
   "execution_count": 265,
   "id": "3b34059e-dcca-46e4-9178-4ead4644a7db",
   "metadata": {},
   "outputs": [
    {
     "name": "stdin",
     "output_type": "stream",
     "text": [
      "과일 이름을 입력하세요. 사과\n"
     ]
    },
    {
     "name": "stdout",
     "output_type": "stream",
     "text": [
      "사과의 가격은 1000원입니다.\n"
     ]
    }
   ],
   "source": [
    "dic_fruits = {\"사과\":1000,\"바나나\":700,\"오렌지\":1500,\"파인애플\":2000}\n",
    "\n",
    "input_fruit = input(\"과일 이름을 입력하세요.\")\n",
    "\n",
    "print(f'{input_fruit}의 가격은 {dic_fruits[input_fruit]}원입니다.')"
   ]
  },
  {
   "cell_type": "code",
   "execution_count": 282,
   "id": "6e8569e2-927e-4de9-a112-34c63c691275",
   "metadata": {},
   "outputs": [
    {
     "name": "stdin",
     "output_type": "stream",
     "text": [
      "이름을 기입해 주세요: 뽀로로 루피 크롱 스누피\n",
      "몸무게를 입력해주세요. 20.4 16.2 22.3 5.2\n"
     ]
    },
    {
     "name": "stdout",
     "output_type": "stream",
     "text": [
      "{'뽀로로': 20.4, '루피': 16.2, '크롱': 22.3, '스누피': 5.2}\n"
     ]
    }
   ],
   "source": [
    "name = list(map(str,input(\"이름을 기입해 주세요:\").split(\" \")))\n",
    "\n",
    "weight = list(map(float,input(\"몸무게를 입력해주세요.\").split(\" \")))\n",
    "\n",
    "dict_a = dict(zip(name,weight))\n",
    "print(dict_a)"
   ]
  },
  {
   "cell_type": "code",
   "execution_count": 285,
   "id": "61925a51-fac5-4006-90c9-1a946389f94b",
   "metadata": {},
   "outputs": [
    {
     "name": "stdin",
     "output_type": "stream",
     "text": [
      "이름을 입력하세요: 뽀로로 뤼 크롱 스누피 라이언\n",
      "몸무게를 입력하세요: 20.5 16.2 22.2 5.2 22.2\n"
     ]
    },
    {
     "name": "stdout",
     "output_type": "stream",
     "text": [
      "{'뽀로로': 20.5, '뤼': 16.2, '크롱': 22.2, '스누피': 5.2, '라이언': 22.2}\n"
     ]
    }
   ],
   "source": [
    "names = input(\"이름을 입력하세요:\").split()\n",
    "weights = list(map(float,input(\"몸무게를 입력하세요:\").split()))\n",
    "\n",
    "dict_mm = {}\n",
    "# dict_mm = dict()\n",
    "# len(names) -->4\n",
    "# range(4) -- 0 , 1 ,2 ,3\n",
    "# i --> i = 0 반복 , i=1 반복, i=2 반복, i=3 반복\n",
    "for i in range(len(names)):\n",
    "    dict_mm[names[i]] = weights[i]\n",
    "    \n",
    "print(dict_mm)"
   ]
  },
  {
   "cell_type": "markdown",
   "id": "72631f66-4aa9-48c0-8537-05052c386f90",
   "metadata": {},
   "source": [
    "##### 리스트 생성 방법 - 대괄호 사용\n",
    "- 리스트는 기본적으로 대괄호([])를 활용\n",
    "- 대괄호 안에는 리스트를\n",
    "\n",
    "##### 빈 리스트(empty list)\n",
    "- 비어있는 빈 리스트를 만들 때는 대괄호([])만 쓰거나 인자 없이 list\n",
    "\n",
    "##### 리스트 컴프리헨션(comprehension)\n",
    "- 리스트 컴플리헨션은 대괄호([]) 안에 표현식과 for 문을 작성하여 사용 할 수 있습니다.\n",
    "- 처음보는 형태라 복잡해보이지만 어떻게 동작하는지 하나하나 살펴보겠습니다.\n",
    "- list_variable = [expression for 변수 in inerable]\n",
    "\n",
    "##### 리스트 컴프리헨션 동작 순서\n",
    "1. 반복가능한 객체(iterable)로부터 값을 하나 꺼내와서 변수에 담습니다.\n",
    "2. 요소를 담은 변수를 활용해서 표현식(expression)을 실행 (이때 변수는 활용할 수도 활용하지 않을 수도 있습니다.)\n",
    "3. 표현식 결과 값을 리스트 요소에 넣습니다.\n",
    "4. 반복가능한 객체(interble)로부터 값이 없을 때까지 1~3 과정을 반복합니다."
   ]
  },
  {
   "cell_type": "code",
   "execution_count": 289,
   "id": "baf49348-abec-4b97-acb0-01bf2696c3b6",
   "metadata": {},
   "outputs": [
    {
     "name": "stdout",
     "output_type": "stream",
     "text": [
      "[1, 2, 3, 4, 5, 6, 7, 8, 9]\n"
     ]
    }
   ],
   "source": [
    "# range --> 0, 1, 2, ...9\n",
    "# _ --> _= 0,,,9\n",
    "list_a = [_ for _ in range(1,10)]\n",
    "print(list_a)"
   ]
  },
  {
   "cell_type": "code",
   "execution_count": 291,
   "id": "bc35b666-ab88-4c8e-ab9d-237c0e9238e1",
   "metadata": {},
   "outputs": [
    {
     "name": "stdout",
     "output_type": "stream",
     "text": [
      "Hello world\n",
      "Hello world\n",
      "Hello world\n",
      "Hello world\n",
      "Hello world\n",
      "Hello world\n",
      "Hello world\n",
      "Hello world\n",
      "Hello world\n"
     ]
    },
    {
     "data": {
      "text/plain": [
       "[None, None, None, None, None, None, None, None, None]"
      ]
     },
     "execution_count": 291,
     "metadata": {},
     "output_type": "execute_result"
    }
   ],
   "source": [
    "[print(\"Hello world\") for _ in range(1,10)]"
   ]
  },
  {
   "cell_type": "code",
   "execution_count": 294,
   "id": "742ba00b-94b5-4805-be41-d34b33b77ec7",
   "metadata": {},
   "outputs": [
    {
     "name": "stdout",
     "output_type": "stream",
     "text": [
      "[0, 1, 4, 9, 16, 25, 36, 49, 64, 81]\n",
      "[0, 1, 4, 9, 16, 25, 36, 49, 64, 81]\n"
     ]
    }
   ],
   "source": [
    "list_c = []\n",
    "for _ in range(10):\n",
    "    list_c.append(_**2)\n",
    "print(list_c)\n",
    "\n",
    "list_t = [_**2 for _ in range(0,10)]\n",
    "print(list_t)"
   ]
  },
  {
   "cell_type": "code",
   "execution_count": 293,
   "id": "3455cdbb-e630-401e-8a15-c816965c9ce6",
   "metadata": {},
   "outputs": [
    {
     "name": "stdout",
     "output_type": "stream",
     "text": [
      "[1, 4, 9, 16, 25, 36, 49, 64, 81]\n"
     ]
    }
   ],
   "source": [
    "list_t = [_**2 for _ in range(1,10)]\n",
    "print(list_t)"
   ]
  },
  {
   "cell_type": "code",
   "execution_count": 296,
   "id": "d9693319-decb-4cb0-9442-298accd16184",
   "metadata": {},
   "outputs": [
    {
     "name": "stdout",
     "output_type": "stream",
     "text": [
      "<class 'list'>\n",
      "[1, 4, 9, 16, 25, 36, 49, 64, 81]\n",
      "<class 'list'>\n",
      "[1, 4, 9, 16, 25, 36, 49, 64, 81]\n"
     ]
    }
   ],
   "source": [
    "prac_result = [_**2 for _ in range(1,10)]\n",
    "print(type(prac_result))\n",
    "print(prac_result)\n",
    "\n",
    "# 또 다른 제곱 방식\n",
    "prac_result = [_*_ for _ in range(1,10)]\n",
    "print(type(prac_result))\n",
    "print(prac_result)"
   ]
  },
  {
   "cell_type": "code",
   "execution_count": null,
   "id": "ea73e69b-1cdf-424b-873a-b2f6307f8db1",
   "metadata": {},
   "outputs": [],
   "source": []
  }
 ],
 "metadata": {
  "kernelspec": {
   "display_name": "Python 3 (ipykernel)",
   "language": "python",
   "name": "python3"
  },
  "language_info": {
   "codemirror_mode": {
    "name": "ipython",
    "version": 3
   },
   "file_extension": ".py",
   "mimetype": "text/x-python",
   "name": "python",
   "nbconvert_exporter": "python",
   "pygments_lexer": "ipython3",
   "version": "3.9.13"
  }
 },
 "nbformat": 4,
 "nbformat_minor": 5
}
