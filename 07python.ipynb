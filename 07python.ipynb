{
 "cells": [
  {
   "cell_type": "code",
   "execution_count": 1,
   "id": "6ec29759-58a1-4844-a410-94e859930677",
   "metadata": {},
   "outputs": [
    {
     "name": "stdout",
     "output_type": "stream",
     "text": [
      "[0, 0, 0, 0, 0, 0]\n"
     ]
    }
   ],
   "source": [
    "votes = [2,5,4,5,1,5,1,5,5,3]\n",
    "candidates = [\"\",\"전정국\",\"김남준\",\"박지민\",\"정호석\",\"김태형\"]\n",
    "\n",
    "counts = [0] * len(candidates) #투표 카운트 리스트 생성\n",
    "\n",
    "print(counts)"
   ]
  },
  {
   "cell_type": "code",
   "execution_count": 2,
   "id": "d85df56c-ed3a-42f3-b41f-aab88872b9d9",
   "metadata": {},
   "outputs": [],
   "source": [
    "for vote in votes :\n",
    "    counts[vote] += 1"
   ]
  },
  {
   "cell_type": "code",
   "execution_count": 3,
   "id": "f608ccfc-b599-4960-9457-aea6296a52ff",
   "metadata": {},
   "outputs": [
    {
     "name": "stdout",
     "output_type": "stream",
     "text": [
      "[0, 2, 1, 1, 1, 5]\n"
     ]
    }
   ],
   "source": [
    "print(counts)"
   ]
  },
  {
   "cell_type": "code",
   "execution_count": 8,
   "id": "07f23418-a5da-4b12-9d8d-b9cd67236cba",
   "metadata": {},
   "outputs": [
    {
     "name": "stdout",
     "output_type": "stream",
     "text": [
      "김태형 후보가 총 5표를 받아 당선 되었습니다.\n"
     ]
    }
   ],
   "source": [
    "i = 1\n",
    "max_count = 0\n",
    "elected_perseon = 0 # index용\n",
    "# 1, 2, 3, 4, 5\n",
    "while i < len(counts): # len(counts) >=6\n",
    "    if max_count < counts[i]:\n",
    "        max_count = counts[i]\n",
    "        elected_person = i\n",
    "    i +=1\n",
    "print(f'{candidates[elected_person]} 후보가 총 {max_count}표를 받아 당선 되었습니다.')"
   ]
  },
  {
   "cell_type": "code",
   "execution_count": 18,
   "id": "0338caa5-3eac-4793-8498-1e8891f2a566",
   "metadata": {},
   "outputs": [
    {
     "name": "stdout",
     "output_type": "stream",
     "text": [
      "[1, 3, 5, 7, 9]\n"
     ]
    }
   ],
   "source": [
    "prac_result2 = [ _ for _ in range(1,10,2)]\n",
    "print(prac_result2)"
   ]
  },
  {
   "cell_type": "code",
   "execution_count": 20,
   "id": "ca2c27b9-6a39-4cbb-babc-4d4efa4ac2f9",
   "metadata": {},
   "outputs": [
    {
     "name": "stdout",
     "output_type": "stream",
     "text": [
      "['a', 'b', 'c', 'd', 'e', 'f', 'g', 'h', 'i', 'j', 'k', 'l', 'm', 'n', 'o', 'p', 'q', 'r', 's', 't', 'u', 'v', 'w', 'x', 'y', 'z']\n"
     ]
    }
   ],
   "source": [
    "prac_result3 = [ _ for _ in 'abcdefghijklmnopqrstuvwxyz']\n",
    "\n",
    "print(prac_result3)"
   ]
  },
  {
   "cell_type": "code",
   "execution_count": 55,
   "id": "8dd741c7-d941-40f7-8d3a-ca94168ad19c",
   "metadata": {},
   "outputs": [
    {
     "name": "stdout",
     "output_type": "stream",
     "text": [
      "['2', '3', '4', '5', '6', '7', '8', '9', '10', 'J', 'Q', 'K', 'A']\n"
     ]
    }
   ],
   "source": [
    "prac_result4 = [ str(_) for _ in range(2,11)] + [i for i in 'JQKA']\n",
    "\n",
    "print(prac_result4)"
   ]
  },
  {
   "cell_type": "code",
   "execution_count": 56,
   "id": "e3ec3311-9e8e-49a1-986b-5c7c2b0415c9",
   "metadata": {},
   "outputs": [
    {
     "name": "stdout",
     "output_type": "stream",
     "text": [
      "[['2', '3', '4', '5', '6', '7', '8', '9', '10', 'J', 'Q', 'K', 'A'], ['2', '3', '4', '5', '6', '7', '8', '9', '10', 'J', 'Q', 'K', 'A'], ['2', '3', '4', '5', '6', '7', '8', '9', '10', 'J', 'Q', 'K', 'A'], ['2', '3', '4', '5', '6', '7', '8', '9', '10', 'J', 'Q', 'K', 'A']]\n"
     ]
    }
   ],
   "source": [
    "prac_result5 = [prac_result4 for i in range(4)]\n",
    "print(prac_result5)"
   ]
  },
  {
   "cell_type": "code",
   "execution_count": 58,
   "id": "1e4376aa-2002-4a60-b661-6582efbc55ce",
   "metadata": {},
   "outputs": [
    {
     "name": "stdout",
     "output_type": "stream",
     "text": [
      "['two', '3', '4', '5', '6', '7', '8', '9', '10', 'J', 'Q', 'K', 'A']\n"
     ]
    }
   ],
   "source": [
    "prac_result4[0] = 'two'\n",
    "print(prac_result4)"
   ]
  },
  {
   "cell_type": "code",
   "execution_count": 59,
   "id": "e625d3f0-91c4-4eca-98a7-5a1293ad959d",
   "metadata": {},
   "outputs": [
    {
     "name": "stdout",
     "output_type": "stream",
     "text": [
      "[['two', '3', '4', '5', '6', '7', '8', '9', '10', 'J', 'Q', 'K', 'A'], ['two', '3', '4', '5', '6', '7', '8', '9', '10', 'J', 'Q', 'K', 'A'], ['two', '3', '4', '5', '6', '7', '8', '9', '10', 'J', 'Q', 'K', 'A'], ['two', '3', '4', '5', '6', '7', '8', '9', '10', 'J', 'Q', 'K', 'A']]\n"
     ]
    }
   ],
   "source": [
    "print(prac_result5)"
   ]
  },
  {
   "cell_type": "code",
   "execution_count": 61,
   "id": "ce4c64c6-f59e-4452-86a8-825b6b580c0b",
   "metadata": {},
   "outputs": [
    {
     "name": "stdout",
     "output_type": "stream",
     "text": [
      "prac_result4의 id: 2807273053568\n",
      "prac_result5[0]:2807273053568\n",
      "prac_result5[1]:2807273053568\n",
      "prac_result5[2]:2807273053568\n",
      "prac_result5[3]:2807273053568\n"
     ]
    }
   ],
   "source": [
    "print(\"prac_result4의 id:\", id(prac_result4))\n",
    "\n",
    "for i, v in enumerate(prac_result5):\n",
    "    print(\"prac_result5[\",i,\"]:\",id(v),sep=\"\")"
   ]
  },
  {
   "cell_type": "markdown",
   "id": "7d830a4f-c165-4839-a899-cfde95de35e6",
   "metadata": {},
   "source": [
    "##### 기존 리스트의 전체 범위의 슬라이싱 결과는 새로운 객체이다.\n",
    "- 리스트변수명[:]으로 전체를 동일하게 가져오는, 즉 슬라이싱으로 반환받는 리스트 객체는 다른 객체이다"
   ]
  },
  {
   "cell_type": "code",
   "execution_count": 62,
   "id": "006ea4b2-9cf6-4eb3-a1ee-c49d6e4c999a",
   "metadata": {},
   "outputs": [
    {
     "name": "stdout",
     "output_type": "stream",
     "text": [
      "pra_result4의 id: 2807273053568\n",
      "prac_result6[0]:2807270880320\n",
      "prac_result6[1]:2807273087744\n",
      "prac_result6[2]:2807270934336\n",
      "prac_result6[3]:2807270935488\n"
     ]
    }
   ],
   "source": [
    "prac_result6 = [prac_result4[:] for _ in range(4)]\n",
    "\n",
    "print(\"pra_result4의 id:\", id(prac_result4))\n",
    "for i, v in enumerate(prac_result6):\n",
    "    print(\"prac_result6[\",i,\"]:\",id(v),sep=\"\")"
   ]
  },
  {
   "cell_type": "markdown",
   "id": "83fee806-e26f-442d-8b84-96757679f18f",
   "metadata": {},
   "source": [
    "### 리스트 전체 범위 slicing을 통한 리스트 복사\n",
    "- 리스트 객체를 slicing을 통해 리스트 전체 범위를 반환받았을 때 그 리스트는 원래의 리스트와 같은 객체는 아니다\n",
    "- 리스트의 슬라이싱의 결과는 새로운 객체를 복사한 결과를 반환\n",
    "\n",
    "리스트변수[:] -> 새로운 객체를 반환"
   ]
  },
  {
   "cell_type": "code",
   "execution_count": 64,
   "id": "2b0718a3-1eb9-48a2-8131-de1f5a101767",
   "metadata": {
    "tags": []
   },
   "outputs": [
    {
     "name": "stdout",
     "output_type": "stream",
     "text": [
      "[0, 1, 2, 3, 4, 5, 6, 7, 8, 9]\n",
      "[0, 1, 2, 3, 4, 5, 6, 7, 8, 9]\n",
      "2807270895488\n",
      "2807270880896\n",
      "False\n",
      "True\n"
     ]
    }
   ],
   "source": [
    "# [1, 2, 3, 4, 5, 6, 7, 8, 9]\n",
    "\n",
    "old_list = list(range(10))\n",
    "new_list = old_list[:]\n",
    "\n",
    "print(old_list)\n",
    "print(new_list)\n",
    "print(id(old_list))\n",
    "print(id(new_list))\n",
    "print(old_list is new_list)\n",
    "print(old_list == new_list)"
   ]
  },
  {
   "cell_type": "code",
   "execution_count": 67,
   "id": "89f62068-2e5b-4799-bf79-b0cb8fc6ace3",
   "metadata": {},
   "outputs": [
    {
     "name": "stdout",
     "output_type": "stream",
     "text": [
      "2807273088880\n",
      "2807273088880\n"
     ]
    }
   ],
   "source": [
    "str_smaple = \"This is str.\"\n",
    "str2 = str_smaple[:]\n",
    "\n",
    "print(id(str_smaple))\n",
    "print(id(str2))"
   ]
  },
  {
   "cell_type": "markdown",
   "id": "32b23596-fe6e-4ee0-a3d0-d28e4d0d4023",
   "metadata": {},
   "source": [
    "## 문자열 튜플의 경우에는 불변(immutable)의 특징을 갖습니다.\n",
    "- 따라서 요소가 동일하다면 재사용해도 문제될 것이 없습니다. 그래서 효율을 위해 동등하게 복사하기도 합니다."
   ]
  },
  {
   "cell_type": "code",
   "execution_count": 68,
   "id": "d7826f14-6313-49fa-87d1-c859808bdb4e",
   "metadata": {},
   "outputs": [
    {
     "name": "stdout",
     "output_type": "stream",
     "text": [
      "2807267057136\n",
      "2807267057136\n"
     ]
    }
   ],
   "source": [
    "str_a = \"hello\"\n",
    "str_b = \"hello\"\n",
    "\n",
    "print(id(str_a))\n",
    "print(id(str_b))"
   ]
  },
  {
   "cell_type": "markdown",
   "id": "3790a98f-e5e3-4ca7-b799-517ee59a38f3",
   "metadata": {},
   "source": [
    "### 리스트 변수를 할당해서 복사하는 경우\n",
    "- 리스트 객체를 담고 있는 변수는 메모리 주소 정보를 담고 있습니다.\n",
    "- 변수를 다른 변수에 대입하면 메모리 주소 정보를 복사\n",
    "- 두 변수는 동일한 객체를 바라보게 됩니다."
   ]
  },
  {
   "cell_type": "markdown",
   "id": "ba5aad06-67c5-442f-8ac6-d7d42d11a002",
   "metadata": {},
   "source": [
    "### 리스트 복사(copy() 메서드)\n",
    "- 리스트.copy() 메서드는 리스트 객체를 새롭게 복사\n",
    "- 이 반환 값은 새로운 객체가 됩니다."
   ]
  },
  {
   "cell_type": "code",
   "execution_count": 136,
   "id": "1988fe10-d20e-44d0-8129-05f2ffe3d44e",
   "metadata": {},
   "outputs": [
    {
     "name": "stdout",
     "output_type": "stream",
     "text": [
      "[0, 1, 2, 3, 4, 5, 6, 7, 8, 9]\n",
      "[0, 1, 2, 3, 4, 5, 6, 7, 8, 9]\n",
      "[999, 1, 2, 3, 4, 5, 6, 7, 8, 9]\n",
      "[0, 1, 2, 3, 4, 5, 6, 7, 8, 9]\n"
     ]
    }
   ],
   "source": [
    "list_g = list(range(10))\n",
    "list_h = list_g.copy()\n",
    "\n",
    "print(list_g)\n",
    "print(list_h)\n",
    "\n",
    "list_g[0] = 999\n",
    "print(list_g)\n",
    "print(list_h)"
   ]
  },
  {
   "cell_type": "markdown",
   "id": "83cf4bb5-e195-4195-8144-f3d2025b6380",
   "metadata": {},
   "source": [
    "### 얕은 복사(Shallow copy)\n",
    "- 리스트 내에 있는 값을 그대로 복사\n",
    "- 리스트 요소 중 메모리 주소를 담고 있는 참조 변수가 있으면 객체 주소만 복사\n",
    "- 리스트에 에스터리스크(*)를 사용하면 얕은 복사가 됨\n",
    "- 앞서 에스터리스크뿐만 아니라 슬라이싱, copy()메서드를 통한 복사도 얕은 복사"
   ]
  },
  {
   "cell_type": "code",
   "execution_count": 139,
   "id": "c25c789b-c470-41ed-b7f3-ef2495eba0d8",
   "metadata": {},
   "outputs": [
    {
     "name": "stdout",
     "output_type": "stream",
     "text": [
      "[[0], [0], [0]]\n",
      "[[999], [999], [999]]\n"
     ]
    }
   ],
   "source": [
    "list_i = [[0]] *3\n",
    "\n",
    "print(list_i)\n",
    "\n",
    "list_i[0][0] = 999\n",
    "print(list_i)"
   ]
  },
  {
   "cell_type": "code",
   "execution_count": 144,
   "id": "2be3eff5-4ce8-47a2-8d65-a4fd8198290c",
   "metadata": {},
   "outputs": [
    {
     "name": "stdout",
     "output_type": "stream",
     "text": [
      "False\n",
      "True\n",
      "[[11, 2], [3, 4]]\n",
      "[[11, 2], [3, 4]]\n"
     ]
    }
   ],
   "source": [
    "# list_j[0] --> list 객체\n",
    "# list_j[1] --> list 객체\n",
    "list_j = [[1,2],[3,4]]\n",
    "list_k = list_j[:]\n",
    "\n",
    "print(list_k is list_j)\n",
    "\n",
    "print(list_j[0] is list_k[0])\n",
    "\n",
    "list_j[0][0] = 11\n",
    "print(list_j)\n",
    "\n",
    "print(list_k)"
   ]
  },
  {
   "cell_type": "code",
   "execution_count": 147,
   "id": "7efd4ceb-4744-4a7f-bbb7-f095c91eb110",
   "metadata": {},
   "outputs": [
    {
     "name": "stdout",
     "output_type": "stream",
     "text": [
      "False\n",
      "[[5, 6], [7, 88]]\n",
      "[[5, 6], [7, 88]]\n"
     ]
    }
   ],
   "source": [
    "list_l = [[5,6],[7,8]]\n",
    "list_m = list_l.copy()\n",
    "print(list_l is list_m)\n",
    "\n",
    "list_l[1][1] = 88\n",
    "print(list_l)\n",
    "print(list_m)"
   ]
  },
  {
   "cell_type": "code",
   "execution_count": 123,
   "id": "9e2766e4-6b9b-4a1c-b3e4-e9bc222aa95f",
   "metadata": {},
   "outputs": [
    {
     "name": "stdin",
     "output_type": "stream",
     "text": [
      "순환할 숫자를 입력하세요: 10\n"
     ]
    },
    {
     "name": "stdout",
     "output_type": "stream",
     "text": [
      "1 2 3 4 5 6 7 8 9 10 \n",
      "2 3 4 5 6 7 8 9 10 1 \n",
      "3 4 5 6 7 8 9 10 1 2 \n",
      "4 5 6 7 8 9 10 1 2 3 \n",
      "5 6 7 8 9 10 1 2 3 4 \n",
      "6 7 8 9 10 1 2 3 4 5 \n",
      "7 8 9 10 1 2 3 4 5 6 \n",
      "8 9 10 1 2 3 4 5 6 7 \n",
      "9 10 1 2 3 4 5 6 7 8 \n",
      "10 1 2 3 4 5 6 7 8 9 \n"
     ]
    }
   ],
   "source": [
    "num = int(input(\"순환할 숫자를 입력하세요:\"))\n",
    "for _ in range(num):\n",
    "    for __ in range(num):\n",
    "        print((_+__)%num +1 ,end =\" \")\n",
    "    print()"
   ]
  },
  {
   "cell_type": "code",
   "execution_count": 118,
   "id": "dbfa409d-48c6-43c1-8e44-40c0aac38410",
   "metadata": {},
   "outputs": [
    {
     "name": "stdin",
     "output_type": "stream",
     "text": [
      "순환할 숫자를 입력하세요: 10\n"
     ]
    },
    {
     "name": "stdout",
     "output_type": "stream",
     "text": [
      "1\n",
      "2\n",
      "3\n",
      "4\n",
      "5\n",
      "6\n",
      "7\n",
      "8\n",
      "9\n",
      "10\n"
     ]
    }
   ],
   "source": [
    "num = int(input(\"순환할 숫자를 입력하세요:\"))\n",
    "for _ in range(num):\n",
    "    for __ in range(num):\n",
    "        print((_+__)%num +1 ,end =\" \")\n",
    "    print()\n",
    "\n",
    "    \n",
    "_ = 0\n",
    "num = 0\n",
    "num = int(input(\"순환할 숫자를 입력하세요:\"))\n",
    "while _ < num:\n",
    "    __ = 0\n",
    "    while __ < num:\n",
    "        print((_+__)%num +1 ,end=\" \")\n",
    "        __+=1\n",
    "    print()\n",
    "    _+=1\n",
    "\n",
    "num = int(input(\"순활할 숫자를 입력하세요.\"))\n",
    "for i in range(num):\n",
    "    for j in range(1, num + 1):\n",
    "        if j + i >= 1:\n",
    "            result = j + i\n",
    "            if result > num:\n",
    "                result = result - num\n",
    "            print(result, end = \" \")\n",
    "    print()"
   ]
  },
  {
   "cell_type": "code",
   "execution_count": 127,
   "id": "7a11f400-491e-4a37-acc1-08e40bdbe5da",
   "metadata": {},
   "outputs": [
    {
     "name": "stdin",
     "output_type": "stream",
     "text": [
      "순환할 숫자를 입력하세요: 10\n"
     ]
    },
    {
     "name": "stdout",
     "output_type": "stream",
     "text": [
      "1\t2\t3\t4\t5\t6\t7\t8\t9\t10\t2\t3\t4\t5\t6\t7\t8\t9\t10\t1\t3\t4\t5\t6\t7\t8\t9\t10\t1\t2\t4\t5\t6\t7\t8\t9\t10\t1\t2\t3\t5\t6\t7\t8\t9\t10\t1\t2\t3\t4\t6\t7\t8\t9\t10\t1\t2\t3\t4\t5\t7\t8\t9\t10\t1\t2\t3\t4\t5\t6\t8\t9\t10\t1\t2\t3\t4\t5\t6\t7\t9\t10\t1\t2\t3\t4\t5\t6\t7\t8\t10\t1\t2\t3\t4\t5\t6\t7\t8\t9\t"
     ]
    }
   ],
   "source": [
    "num = int(input(\"순환할 숫자를 입력하세요:\"))\n",
    "for _ in range(num):\n",
    "    for __ in range(num):\n",
    "        print((_+__)%num +1,end='\\t')"
   ]
  },
  {
   "cell_type": "code",
   "execution_count": 133,
   "id": "6157ec27-d579-4618-8ffe-04d0fdee38dd",
   "metadata": {},
   "outputs": [
    {
     "name": "stdin",
     "output_type": "stream",
     "text": [
      "순환할 숫자를 입력하세요: 15\n"
     ]
    },
    {
     "name": "stdout",
     "output_type": "stream",
     "text": [
      "1 2 3 4 5 6 7 8 9 10 11 12 13 14 15 \n",
      "2 3 4 5 6 7 8 9 10 11 12 13 14 15 1 \n",
      "3 4 5 6 7 8 9 10 11 12 13 14 15 1 2 \n",
      "4 5 6 7 8 9 10 11 12 13 14 15 1 2 3 \n",
      "5 6 7 8 9 10 11 12 13 14 15 1 2 3 4 \n",
      "6 7 8 9 10 11 12 13 14 15 1 2 3 4 5 \n",
      "7 8 9 10 11 12 13 14 15 1 2 3 4 5 6 \n",
      "8 9 10 11 12 13 14 15 1 2 3 4 5 6 7 \n",
      "9 10 11 12 13 14 15 1 2 3 4 5 6 7 8 \n",
      "10 11 12 13 14 15 1 2 3 4 5 6 7 8 9 \n",
      "11 12 13 14 15 1 2 3 4 5 6 7 8 9 10 \n",
      "12 13 14 15 1 2 3 4 5 6 7 8 9 10 11 \n",
      "13 14 15 1 2 3 4 5 6 7 8 9 10 11 12 \n",
      "14 15 1 2 3 4 5 6 7 8 9 10 11 12 13 \n",
      "15 1 2 3 4 5 6 7 8 9 10 11 12 13 14 \n"
     ]
    }
   ],
   "source": [
    "num = int(input(\"순환할 숫자를 입력하세요:\"))\n",
    "\n",
    "# i => 1 ~ 입력한 숫자까지\n",
    "for i in range(1, num + 1):\n",
    "    for j in range(i, num + i):\n",
    "        if j % num == 0:\n",
    "            print(num, end=\" \")\n",
    "        else:\n",
    "            print(j % num, end=\" \")\n",
    "    print()"
   ]
  },
  {
   "cell_type": "markdown",
   "id": "42d4de31-5cbf-42ac-9622-286705f5abce",
   "metadata": {},
   "source": [
    "### 깊은 복사(Deep copy)\n",
    "\n",
    "- 리스트 내 요소가 메모리 주소를 담고있는 객체더라도 객체를 완전하게 깊이에 상관없이 다 새롭게 복사해 만듬\n",
    "- 전혀 다른 메모리 공간을 차지하는 완전한 리스트로 복사\n",
    "- 두 리스트 간에 값은 같으나(==) 객체는 완전히 다릅니다.\n",
    "- deepcopy()를 위해서 copy 라이브러리를 필요합니다."
   ]
  },
  {
   "cell_type": "code",
   "execution_count": 148,
   "id": "bf7afb92-9b5e-4631-b0ef-fd14131d94f4",
   "metadata": {},
   "outputs": [
    {
     "name": "stdout",
     "output_type": "stream",
     "text": [
      "False\n"
     ]
    }
   ],
   "source": [
    "import copy \n",
    "\n",
    "list_n = [[9,10],[11,12]]\n",
    "list_o = copy.deepcopy(list_n)\n",
    "print(list_n[0] is list_o)"
   ]
  },
  {
   "cell_type": "markdown",
   "id": "19375453-cd0d-4310-9bbb-640fd88f1a34",
   "metadata": {},
   "source": [
    "### 리스트 컴프리헨션(comprehension)\n",
    "- for 문과 if문이 동시에 있는 리스트 컴프리헨션 동작 순서\n",
    "1. 반복가능한 객체(inerable)로부터 값을 하나 꺼내와서 조건식에 넣습니다.\n",
    "2. 조건식이 True이면 변수를 활용해서 표헌식(expression)을 실행 / 이때 변수는 활용할 수도 활용하지 않을 수도 있습니다.\n",
    "3. 조건식이 False이면 1번부터 다시 시작\n",
    "4. 표현식 결과 값을 리스트 요소에 넣습니다\n",
    "5. 반복가능한 객체(iterable)로부터 값이 없을 때까지 1~3과정을 반복"
   ]
  },
  {
   "cell_type": "code",
   "execution_count": 149,
   "id": "ab0ced9a-8e3f-44ea-adb0-71cfd4bbc562",
   "metadata": {},
   "outputs": [
    {
     "name": "stdout",
     "output_type": "stream",
     "text": [
      "[0, 3, 6, 9]\n"
     ]
    }
   ],
   "source": [
    "list_p = [i for i in range(10) if i % 3 ==0]\n",
    "print(list_p)"
   ]
  },
  {
   "cell_type": "code",
   "execution_count": 150,
   "id": "a16de332-9486-4cda-bd73-524a58a61226",
   "metadata": {},
   "outputs": [
    {
     "name": "stdout",
     "output_type": "stream",
     "text": [
      "1\n",
      "2\n",
      "3\n",
      "4\n",
      "5\n",
      "3\n",
      "4\n"
     ]
    }
   ],
   "source": [
    "easy_list = [[1,2,3,4,5],[3,4]]\n",
    "for item in easy_list:\n",
    "    for i in item:\n",
    "        print(i)"
   ]
  },
  {
   "cell_type": "code",
   "execution_count": 151,
   "id": "bf0483cc-1800-4920-ab19-0c0e2f765a0e",
   "metadata": {},
   "outputs": [
    {
     "name": "stdout",
     "output_type": "stream",
     "text": [
      "1\n",
      "2\n",
      "3\n",
      "4\n",
      "5\n",
      "3\n",
      "4\n"
     ]
    }
   ],
   "source": [
    "# 중첨 리스트\n",
    "# while문으로 looping을 해도 동일\n",
    "# 단순히 요소로 가져온 값이 리스트여서 또 인덱싱으로 값을 꺼내올 뿐\n",
    "\n",
    "easy_list = [[1,2,3,4,5],[3,4]]\n",
    "i = 0 # easy_list 인덱스용\n",
    "\n",
    "while i < len(easy_list):\n",
    "    j = 0 # easy_list[0], easy_list[1] 인덱스용\n",
    "    while j < len(easy_list[i]):\n",
    "        print(easy_list[i][j])\n",
    "        j +=1\n",
    "    i +=1"
   ]
  },
  {
   "cell_type": "code",
   "execution_count": 153,
   "id": "1f897839-84af-487c-856d-587998292bdd",
   "metadata": {},
   "outputs": [
    {
     "name": "stdout",
     "output_type": "stream",
     "text": [
      "<generator object <genexpr> at 0x0000028DA0410F90>\n"
     ]
    }
   ],
   "source": [
    "# 제너레이터 컴프리헨션을 사용할때 튜플은 tuple()로 사용해야한다\n",
    "\n",
    "generator_variable = (_ for _ in range(10))\n",
    "\n",
    "print(generator_variable)"
   ]
  },
  {
   "cell_type": "code",
   "execution_count": 155,
   "id": "abce0213-ce89-4fe3-8596-2c83c5a55bc8",
   "metadata": {},
   "outputs": [
    {
     "data": {
      "text/plain": [
       "False"
      ]
     },
     "execution_count": 155,
     "metadata": {},
     "output_type": "execute_result"
    }
   ],
   "source": [
    "# iterable\n",
    "# tuple(인수), list(인수)\n",
    "\n",
    "hasattr(generator_variable,\"_iter_\") ## 반복 가능한게 있는지 확인 하는 방법"
   ]
  },
  {
   "cell_type": "code",
   "execution_count": 156,
   "id": "5b0bad7f-363b-4e77-9223-e4b75f7201dc",
   "metadata": {},
   "outputs": [
    {
     "name": "stdout",
     "output_type": "stream",
     "text": [
      "['alpha', 'bravo', 'delta', 'hotel', 'india']\n"
     ]
    }
   ],
   "source": [
    "a =['alpha','bravo','charlie','delta','echo','foxtrot','golf','hotel','india']\n",
    "b = [t for t in a if len(t) ==5]\n",
    "\n",
    "print(b)\n",
    "\n",
    "easy_list = [[1,2,3,4,5],[3,4]]\n",
    "for item in easy_list:\n",
    "    for i in item:\n",
    "        print(i)"
   ]
  },
  {
   "cell_type": "code",
   "execution_count": 217,
   "id": "c8dfe7db-c6be-42a1-b117-be68f0561135",
   "metadata": {},
   "outputs": [
    {
     "name": "stdin",
     "output_type": "stream",
     "text": [
      "정수 두 개 입력하세요 20 30\n"
     ]
    }
   ],
   "source": [
    "a,b=list(map(int,input(\"정수 두 개 입력하세요\").split()))\n",
    "\n",
    "\n",
    "if a > b:\n",
    "    list(map(int,input(\"정수 두 개 입력하세요\").split()))\n",
    "    if b< 10 or b > 31:\n",
    "        list(map(int,input(\"정수 두 개 입력하세요\").split()))\n",
    "        if a < 0 or a > 21 :\n",
    "            list(map(int,input(\"정수 두 개 입력하세요\").split()))\n",
    "            print(\"첫번째 값의 범위는 1~20 입니다.\")\n",
    "        print(\"두 번째 값의 범위는 10~30 입니다.\")\n",
    "    print(\"첫 번째 입력 값은 두 번째 입력 값보다 작게 입력하세요\")\n",
    "\n",
    "     \n",
    "\n",
    "\n"
   ]
  },
  {
   "cell_type": "code",
   "execution_count": 230,
   "id": "e3c8cbf0-d6af-4b71-9ffb-ba43ccad5142",
   "metadata": {},
   "outputs": [
    {
     "name": "stdin",
     "output_type": "stream",
     "text": [
      "정수 두 개 입력하세요 40 20\n"
     ]
    },
    {
     "name": "stdout",
     "output_type": "stream",
     "text": [
      "첫 번째 값의 범위는 1~20입니다.\n"
     ]
    },
    {
     "name": "stdin",
     "output_type": "stream",
     "text": [
      "정수 두 개 입력하세요 30 20\n"
     ]
    },
    {
     "name": "stdout",
     "output_type": "stream",
     "text": [
      "첫 번째 값의 범위는 1~20입니다.\n"
     ]
    },
    {
     "name": "stdin",
     "output_type": "stream",
     "text": [
      "정수 두 개 입력하세요 10 20\n"
     ]
    },
    {
     "name": "stdout",
     "output_type": "stream",
     "text": [
      "[1024, 4096, 8192, 16384, 32768, 65536, 131072, 262144, 1048576]\n"
     ]
    }
   ],
   "source": [
    "while True :\n",
    "    a,b=list(map(int,input(\"정수 두 개 입력하세요\").split()))\n",
    "    if  a < 1 or a > 20:\n",
    "        print(\"첫 번째 값의 범위는 1~20입니다.\")\n",
    "    elif b < 10 or  b > 30:\n",
    "        print(\"두 번째 값의 범위는 10~30입니다.\")\n",
    "    elif a >= b:\n",
    "        print(\"첫 번째 입력 값은 두 번쨰 입력 값보다 작게 입력하세요.\")\n",
    "    else :\n",
    "        j = [2 ** t for t in range(a,b+1)]\n",
    "        del j [1]\n",
    "        del j[len(j)-2]\n",
    "        print(j)\n",
    "        break\n",
    "    continue\n"
   ]
  },
  {
   "cell_type": "code",
   "execution_count": 237,
   "id": "a268dfea-7477-471a-8d0b-cc1544ce86ce",
   "metadata": {},
   "outputs": [
    {
     "name": "stdout",
     "output_type": "stream",
     "text": [
      "5050 101\n"
     ]
    }
   ],
   "source": [
    "i = 0\n",
    "total = 0\n",
    "\n",
    "while True:\n",
    "    total +=i\n",
    "    i+=1\n",
    "    if i % 2 == 0 :\n",
    "        i**2\n",
    "    elif i % 3 == 0:\n",
    "        i**2\n",
    "        continue\n",
    "    if i >100:\n",
    "        break\n",
    "print(total,i)"
   ]
  },
  {
   "cell_type": "code",
   "execution_count": 249,
   "id": "91e16e4b-784c-40f1-9cde-92d26c529d8d",
   "metadata": {},
   "outputs": [
    {
     "name": "stdout",
     "output_type": "stream",
     "text": [
      "2\t4\t6\t8\t10\t12\t14\t16\t18\t20\t22\t24\t26\t28\t30\t32\t34\t36\t38\t40\t42\t44\t46\t48\t50\t52\t54\t56\t58\t60\t62\t64\t66\t68\t70\t72\t74\t76\t78\t80\t82\t84\t86\t88\t90\t92\t94\t96\t98\t100\t"
     ]
    }
   ],
   "source": [
    "i = 0\n",
    "\n",
    "while i < 100 :\n",
    "    i +=1\n",
    "    if i % 2 !=0:\n",
    "        i * i\n",
    "        continue\n",
    "    print(i,end=\"\\t\")"
   ]
  },
  {
   "cell_type": "code",
   "execution_count": 251,
   "id": "1dab4bf3-0342-4fba-8047-72f9fe166730",
   "metadata": {},
   "outputs": [
    {
     "name": "stdout",
     "output_type": "stream",
     "text": [
      "- 1 + 4 - 9 + 16 - 25 + 36 - 49 + 64 - 81 + 100 \n",
      "- 121 + 144 - 169 + 196 - 225 + 256 - 289 + 324 - 361 + 400 \n",
      "- 441 + 484 - 529 + 576 - 625 + 676 - 729 + 784 - 841 + 900 \n",
      "- 961 + 1024 - 1089 + 1156 - 1225 + 1296 - 1369 + 1444 - 1521 + 1600 \n",
      "- 1681 + 1764 - 1849 + 1936 - 2025 + 2116 - 2209 + 2304 - 2401 + 2500 \n",
      "- 2601 + 2704 - 2809 + 2916 - 3025 + 3136 - 3249 + 3364 - 3481 + 3600 \n",
      "- 3721 + 3844 - 3969 + 4096 - 4225 + 4356 - 4489 + 4624 - 4761 + 4900 \n",
      "- 5041 + 5184 - 5329 + 5476 - 5625 + 5776 - 5929 + 6084 - 6241 + 6400 \n",
      "- 6561 + 6724 - 6889 + 7056 - 7225 + 7396 - 7569 + 7744 - 7921 + 8100 \n",
      "- 8281 + 8464 - 8649 + 8836 - 9025 + 9216 - 9409 + 9604 - 9801 + 10000 \n",
      "= 5050 입니다.\n"
     ]
    }
   ],
   "source": [
    "i = 1\n",
    "line = 0\n",
    "total = 0\n",
    "\n",
    "while i <=100:\n",
    "    if i % 2 ==0:\n",
    "        total += i*i\n",
    "        print(\"+\",i*i,end=\" \")\n",
    "    else:\n",
    "        total -= i*i\n",
    "        print(\"-\",i*i,end=\" \")\n",
    "    i += 1\n",
    "    line +=1\n",
    "    if line == 10:\n",
    "        line = 0\n",
    "        print()\n",
    "print(\"=\",total,\"입니다.\")"
   ]
  },
  {
   "cell_type": "code",
   "execution_count": null,
   "id": "bc0db0ec-d50c-44f0-83ae-08b3fdc44811",
   "metadata": {},
   "outputs": [],
   "source": []
  }
 ],
 "metadata": {
  "kernelspec": {
   "display_name": "Python 3 (ipykernel)",
   "language": "python",
   "name": "python3"
  },
  "language_info": {
   "codemirror_mode": {
    "name": "ipython",
    "version": 3
   },
   "file_extension": ".py",
   "mimetype": "text/x-python",
   "name": "python",
   "nbconvert_exporter": "python",
   "pygments_lexer": "ipython3",
   "version": "3.9.13"
  }
 },
 "nbformat": 4,
 "nbformat_minor": 5
}
