{
 "cells": [
  {
   "cell_type": "markdown",
   "id": "f6857753-8c0b-446a-bce8-c6a139f8b7b8",
   "metadata": {},
   "source": [
    "### 문자열 메서드 join()\n",
    "\n",
    "- 문자열(str) 클래스의 join() 메서드는 문자열로 이뤄진 리스트를 하나의 문자열로\n",
    "- 리스트 내 요소인 문자열과 문자열 사이에 채울 문자 값.join(문자로 만들 리스트)와 같이 작성"
   ]
  },
  {
   "cell_type": "code",
   "execution_count": 1,
   "id": "b64e3e59-0aa9-4ff6-a8cb-9003e36967a4",
   "metadata": {},
   "outputs": [
    {
     "name": "stdout",
     "output_type": "stream",
     "text": [
      "list_strs=['a', 'b', 'c', 'd', 'e', 'f', 'g', 'h', 'i', 'j', 'k', 'l', 'm', 'n', 'o', 'p', 'q', 'r', 's', 't', 'u', 'v', 'w', 'x', 'y', 'z']\n",
      "\n",
      "whole_str=a*b*c*d*e*f*g*h*i*j*k*l*m*n*o*p*q*r*s*t*u*v*w*x*y*z\n"
     ]
    }
   ],
   "source": [
    "list_strs = [_ for _ in \"abcdefghijklmnopqrstuvwxyz\"]\n",
    "print(f'list_strs={list_strs}')\n",
    "\n",
    "# str.join(list)\n",
    "# str 요소들로 이뤄진 list를 합쳐 하나의 문자열로 만듭니다.\n",
    "whole_str = \"*\".join(list_strs)\n",
    "print(f'\\nwhole_str={whole_str}')"
   ]
  },
  {
   "cell_type": "code",
   "execution_count": 40,
   "id": "06e9bbc4-ce88-4f2c-b197-1be6f41eccac",
   "metadata": {},
   "outputs": [
    {
     "name": "stdout",
     "output_type": "stream",
     "text": [
      "40\n"
     ]
    },
    {
     "name": "stdin",
     "output_type": "stream",
     "text": [
      "숫자를 입력해 주세요 20\n"
     ]
    },
    {
     "name": "stdout",
     "output_type": "stream",
     "text": [
      "그보다 큽니다.\n"
     ]
    },
    {
     "name": "stdin",
     "output_type": "stream",
     "text": [
      "숫자를 입력해 주세요 30\n"
     ]
    },
    {
     "name": "stdout",
     "output_type": "stream",
     "text": [
      "그보다 큽니다.\n"
     ]
    },
    {
     "name": "stdin",
     "output_type": "stream",
     "text": [
      "숫자를 입력해 주세요 40\n"
     ]
    },
    {
     "name": "stdout",
     "output_type": "stream",
     "text": [
      "맞췄습니다\n",
      "3번만에 맞추셨습니다\n",
      "입력한 숫자는 다음과 같습니다. 20,30,40\n"
     ]
    }
   ],
   "source": [
    "import random\n",
    "\n",
    "PLS = random.randint(1,100)\n",
    "\n",
    "print(PLS)\n",
    "\n",
    "i = 0\n",
    "b = []\n",
    "while True:\n",
    "    i +=1\n",
    "    a = int(input(\"숫자를 입력해 주세요\"))\n",
    "    b.append(a)\n",
    "    if a < 1 or a > 100 :\n",
    "        print(\"1~100 사이의 숫자를 입력하세요\")\n",
    "    elif a < PLS :\n",
    "        print(\"그보다 큽니다.\")\n",
    "    elif a > PLS :\n",
    "        print(\"그보다 작습니다\")\n",
    "    elif a == PLS :\n",
    "        print(\"맞췄습니다\")\n",
    "        break\n",
    "        \n",
    "result = \",\".join(list(map(str,b)))       \n",
    "print(f'{i}번만에 맞추셨습니다')\n",
    "print(f'입력한 숫자는 다음과 같습니다. {result}')"
   ]
  },
  {
   "cell_type": "code",
   "execution_count": 47,
   "id": "f41a8873-abf7-45ce-9739-4482caf67957",
   "metadata": {},
   "outputs": [
    {
     "name": "stdin",
     "output_type": "stream",
     "text": [
      "숫자를 입력해 주세요 32\n"
     ]
    },
    {
     "name": "stdout",
     "output_type": "stream",
     "text": [
      "그보다 큽니다.\n"
     ]
    },
    {
     "name": "stdin",
     "output_type": "stream",
     "text": [
      "숫자를 입력해 주세요 35\n"
     ]
    },
    {
     "name": "stdout",
     "output_type": "stream",
     "text": [
      "그보다 큽니다.\n"
     ]
    },
    {
     "name": "stdin",
     "output_type": "stream",
     "text": [
      "숫자를 입력해 주세요 37\n"
     ]
    },
    {
     "name": "stdout",
     "output_type": "stream",
     "text": [
      "그보다 큽니다.\n"
     ]
    },
    {
     "name": "stdin",
     "output_type": "stream",
     "text": [
      "숫자를 입력해 주세요 45\n"
     ]
    },
    {
     "name": "stdout",
     "output_type": "stream",
     "text": [
      "그보다 큽니다.\n"
     ]
    },
    {
     "name": "stdin",
     "output_type": "stream",
     "text": [
      "숫자를 입력해 주세요 50\n"
     ]
    },
    {
     "name": "stdout",
     "output_type": "stream",
     "text": [
      "그보다 큽니다.\n"
     ]
    },
    {
     "name": "stdin",
     "output_type": "stream",
     "text": [
      "숫자를 입력해 주세요 70\n"
     ]
    },
    {
     "name": "stdout",
     "output_type": "stream",
     "text": [
      "그보다 큽니다.\n"
     ]
    },
    {
     "name": "stdin",
     "output_type": "stream",
     "text": [
      "숫자를 입력해 주세요 80\n"
     ]
    },
    {
     "name": "stdout",
     "output_type": "stream",
     "text": [
      "그보다 작습니다\n"
     ]
    },
    {
     "name": "stdin",
     "output_type": "stream",
     "text": [
      "숫자를 입력해 주세요 75\n"
     ]
    },
    {
     "name": "stdout",
     "output_type": "stream",
     "text": [
      "그보다 큽니다.\n"
     ]
    },
    {
     "name": "stdin",
     "output_type": "stream",
     "text": [
      "숫자를 입력해 주세요 76\n"
     ]
    },
    {
     "name": "stdout",
     "output_type": "stream",
     "text": [
      "맞췄습니다\n",
      "9번만에 맞추셨습니다\n",
      "입력한 숫자는 다음과 같습니다. 32,35,37,45,50,70,80,75,76\n"
     ]
    }
   ],
   "source": [
    "# 1부터 100까지 범위의 업다운 \n",
    "import random\n",
    "\n",
    "PLS = random.randint(1,100)\n",
    "i = 0\n",
    "b = []\n",
    "while True:\n",
    "    i +=1\n",
    "    a = int(input(\"숫자를 입력해 주세요\"))\n",
    "    b.append(a)\n",
    "    if a < 1 or a > 100 :\n",
    "        print(\"1~100 사이의 숫자를 입력하세요\")\n",
    "    elif a < PLS :\n",
    "        print(\"그보다 큽니다.\")\n",
    "    elif a > PLS :\n",
    "        print(\"그보다 작습니다\")\n",
    "    elif a == PLS :\n",
    "        print(\"맞췄습니다\")\n",
    "        break\n",
    "        \n",
    "result = \",\".join([str(j) for j in b])       \n",
    "print(f'{i}번만에 맞추셨습니다')\n",
    "print(f'입력한 숫자는 다음과 같습니다. {result}')"
   ]
  },
  {
   "cell_type": "code",
   "execution_count": null,
   "id": "0c0c87b4-bed4-4df5-9b7e-86fa4c8a048e",
   "metadata": {},
   "outputs": [],
   "source": [
    "import random\n",
    "\n",
    "target_number = random.randint(1,100) # 1~100중 숫자 하나 생성\n",
    "input_value = []\n",
    "\n",
    "while True:\n",
    "    input_values.append(input(\"1~100중 숫자를 맞춰보세요\"))\n",
    "    _ = int(input_values[-1])"
   ]
  },
  {
   "cell_type": "code",
   "execution_count": 48,
   "id": "9b00ec7d-99bc-4453-b7c0-e931bad40b95",
   "metadata": {},
   "outputs": [
    {
     "data": {
      "text/plain": [
       "21.11111111111111"
      ]
     },
     "execution_count": 48,
     "metadata": {},
     "output_type": "execute_result"
    }
   ],
   "source": [
    "def to_celsius(fahrenhet):\n",
    "    \"\"\"\n",
    "    화씨 온도를 섭씨 온도로 변경하는 함수\n",
    "    \"\"\"\n",
    "    return ((fahrenhet-32)*5/9)\n",
    "\n",
    "to_celsius(70)"
   ]
  },
  {
   "cell_type": "code",
   "execution_count": 99,
   "id": "e0e78ed7-4433-48f5-8b5e-9a3e7f43dec0",
   "metadata": {},
   "outputs": [],
   "source": [
    "def odd_even(numbers):\n",
    "    \"\"\"number가 짝수면 \"짝수\", 홀수면 \"홀수\" 반환\"\"\"\n",
    "    if numbers is str(numbers) or int(numbers) < 0:\n",
    "        return\n",
    "    if numbers % 2 == 0:\n",
    "        return(\"짝수\")\n",
    "    elif numbers % 2 !=0:\n",
    "        return(\"홀수\")"
   ]
  },
  {
   "cell_type": "code",
   "execution_count": 101,
   "id": "0a828da3-7aa7-4311-b926-2cbbbfd13d4b",
   "metadata": {},
   "outputs": [
    {
     "name": "stdout",
     "output_type": "stream",
     "text": [
      "number가 짝수면 \"짝수\", 홀수면 \"홀수\" 반환\n",
      "짝수\n",
      "홀수\n",
      "None\n"
     ]
    }
   ],
   "source": [
    "print(odd_even.__doc__)\n",
    "print(odd_even(10))\n",
    "print(odd_even(9))\n",
    "print(odd_even(\"가\"))"
   ]
  },
  {
   "cell_type": "code",
   "execution_count": 102,
   "id": "4df0ea6b-6a9e-4d2a-afdd-298a73999448",
   "metadata": {},
   "outputs": [],
   "source": [
    "def odd_even1(number):\n",
    "    \"\"\"number가 짝수면 \"짝수, 홀수면 \"홀수\" 반환\"\"\"\n",
    "    if type(number) is int and number > 0:\n",
    "        return \"짝수\" * (number % 2 ==0) or \"홀수\"\n",
    "    else:\n",
    "        return"
   ]
  },
  {
   "cell_type": "code",
   "execution_count": 111,
   "id": "9f02485c-0d70-4852-b3a8-d22116b650e4",
   "metadata": {},
   "outputs": [],
   "source": [
    "def check_leap_year(year):\n",
    "    \"\"\"\n",
    "    윤년,평년을 표시해주는 함수\n",
    "    \"\"\"\n",
    "    if (year % 4 ==0 and year % 100 !=0) or year % 400==0:\n",
    "        return \"윤년\"\n",
    "    else:\n",
    "        return \"평년\""
   ]
  },
  {
   "cell_type": "code",
   "execution_count": 112,
   "id": "1da583ea-7cec-418a-8cfb-70636013b845",
   "metadata": {},
   "outputs": [
    {
     "data": {
      "text/plain": [
       "'평년'"
      ]
     },
     "execution_count": 112,
     "metadata": {},
     "output_type": "execute_result"
    }
   ],
   "source": [
    "check_leap_year(1900)"
   ]
  },
  {
   "cell_type": "code",
   "execution_count": 140,
   "id": "b728a3bb-5b80-437a-a3a8-879590c52e96",
   "metadata": {},
   "outputs": [],
   "source": [
    "def days(month):\n",
    "    \"\"\"\n",
    "    월을 나타내는 숫자를 넣으면 그 달의 날짜 개수를 반환하는 함수\n",
    "    \"\"\"\n",
    "    m = [1,3,5,7,8,10,12]\n",
    "    m1 = [4,6,9,11]\n",
    "    if int(month) in m :\n",
    "        return 31\n",
    "    elif int(month) in m1 :\n",
    "        return 30\n",
    "    elif int(month) == 2:\n",
    "        return 28"
   ]
  },
  {
   "cell_type": "code",
   "execution_count": 141,
   "id": "eebc647f-5cc2-4969-867c-29626ff53a26",
   "metadata": {},
   "outputs": [
    {
     "data": {
      "text/plain": [
       "28"
      ]
     },
     "execution_count": 141,
     "metadata": {},
     "output_type": "execute_result"
    }
   ],
   "source": [
    "days(2)"
   ]
  },
  {
   "cell_type": "code",
   "execution_count": 159,
   "id": "3de52bed-0dc3-4ee3-8fb1-885860ce76e2",
   "metadata": {},
   "outputs": [],
   "source": [
    "def day(year,month):\n",
    "    \"\"\"\n",
    "    윤년,평년 구분하여 연도와 그 달의 날짜 개수를 반환하는 함수\n",
    "    \"\"\"\n",
    "    m31 = [1,3,5,7,8,10,12]\n",
    "    m30 = [4,6,9,11]\n",
    "    \n",
    "    if month in m31 :\n",
    "        return 31\n",
    "    elif month in m30 :\n",
    "        return 30\n",
    "    elif ((year % 4 ==0 and year % 100 !=0) or year % 400==0) and month ==2:\n",
    "        return 29\n",
    "    else:\n",
    "        return 28"
   ]
  },
  {
   "cell_type": "code",
   "execution_count": 160,
   "id": "d1b83239-6d7e-463a-9fa3-fd35c63d94b2",
   "metadata": {
    "collapsed": true,
    "jupyter": {
     "outputs_hidden": true
    },
    "tags": []
   },
   "outputs": [
    {
     "name": "stdout",
     "output_type": "stream",
     "text": [
      "30\n",
      "31\n",
      "28\n",
      "29\n"
     ]
    }
   ],
   "source": [
    "print(day(1900,11))\n",
    "print(day(2004,10))\n",
    "print(day(1900,2))\n",
    "print(day(2000,2))"
   ]
  },
  {
   "cell_type": "code",
   "execution_count": 190,
   "id": "375f8fad-2ecb-4878-971e-970193a3bdd2",
   "metadata": {},
   "outputs": [
    {
     "name": "stdout",
     "output_type": "stream",
     "text": [
      "몫: 3, 나머지: 1\n"
     ]
    }
   ],
   "source": [
    "a= 10\n",
    "b= 3\n",
    "def get_quotient_remainder(a,b):\n",
    "    \"\"\"\n",
    "    몫과 나머지 구하는 함수\n",
    "    \"\"\" \n",
    "    return a//b, a%b\n",
    "quitient,remainder = get_quotient_remainder(a,b) \n",
    "print(f'몫: {quitient}, 나머지: {remainder}')"
   ]
  },
  {
   "cell_type": "code",
   "execution_count": 194,
   "id": "42ad0da2-9c3d-4abc-9797-d2ecad6f0814",
   "metadata": {},
   "outputs": [
    {
     "name": "stdout",
     "output_type": "stream",
     "text": [
      "중요한 것은 꺽이지 않는 마음\n"
     ]
    }
   ],
   "source": [
    "# 지역 범위에서 전역 변수 할당하기\n",
    "\n",
    "important_is_an_unbroken_heart = \"중요한 것은 꺽이지 않는 마음\" #전역변수\n",
    "\n",
    "def trials_and_tribulations():\n",
    "    important_is_an_unbroken_heart = \"흔들흔들\" ##지역 범위 지역 변수 선언\n",
    "    \n",
    "trials_and_tribulations()\n",
    "print(important_is_an_unbroken_heart) # 지역 범위에서 값을 입력 시도 했지만 변경되지 않음"
   ]
  },
  {
   "cell_type": "code",
   "execution_count": 195,
   "id": "3b733553-569c-4267-9039-0e4edee68310",
   "metadata": {},
   "outputs": [
    {
     "name": "stdout",
     "output_type": "stream",
     "text": [
      "global 키워드 활용해서 변경 완료\n"
     ]
    }
   ],
   "source": [
    "# 지역 범위에서 전역 변수를 변경할려면 global 키워드 사용\n",
    "\n",
    "global_variable = \"변경이 됩니까?\"\n",
    "def heartbreaker():\n",
    "    global global_variable # global 키워드를 활용하여 전역 변수를 사용하겠다고 설정\n",
    "    global_variable = \"global 키워드 활용해서 변경 완료\"\n",
    "    \n",
    "heartbreaker()\n",
    "print(global_variable)"
   ]
  },
  {
   "cell_type": "code",
   "execution_count": 196,
   "id": "d8374c8d-d223-451d-a5c3-af3a6b47b1b7",
   "metadata": {},
   "outputs": [],
   "source": [
    "def level1():\n",
    "    message = \"This is level 1.\"\n",
    "    def level2():\n",
    "        print(message)\n",
    "    level2()"
   ]
  },
  {
   "cell_type": "code",
   "execution_count": 197,
   "id": "dc63a657-a161-4800-9d9c-ad075a9a4e23",
   "metadata": {},
   "outputs": [
    {
     "name": "stdout",
     "output_type": "stream",
     "text": [
      "This is level 1.\n"
     ]
    }
   ],
   "source": [
    "level1()"
   ]
  },
  {
   "cell_type": "code",
   "execution_count": 199,
   "id": "c722d2dc-16f4-4f12-873b-d2a75a3c0c4b",
   "metadata": {},
   "outputs": [],
   "source": [
    "def level1():\n",
    "    message = \"This is level 1.\"\n",
    "    def level2():\n",
    "        nonlocal message # nonlocal 키워드를 통해 바깥 영역의 변수를 사용하겠다고 설정\n",
    "        message = \"Level2 is better than level1.\"\n",
    "    level2()\n",
    "    print(message)"
   ]
  },
  {
   "cell_type": "code",
   "execution_count": 200,
   "id": "2665af2c-6b5b-4901-baea-6fcb55e0ee8e",
   "metadata": {},
   "outputs": [
    {
     "name": "stdout",
     "output_type": "stream",
     "text": [
      "Level2 is better than level1.\n"
     ]
    }
   ],
   "source": [
    "level1()"
   ]
  },
  {
   "cell_type": "markdown",
   "id": "200e4b67-b0a1-4aba-8972-3bcacbe802f4",
   "metadata": {},
   "source": [
    "global, nonlocal 특징과 권고사항\n",
    "\n",
    "- global 키워드는 함수의 중첩된 정도와 상관없이 전역 범위의 변수를 매칭합니다.\n",
    "\n",
    "- 중첩된 함수마다 같은 이름의 변수가 있다면 nonlocal 키워드는 제일 가까운 바깥 변수를 매칭합니다.\n",
    "\n",
    "- 가급적이면 함수마다 이름이 같은 변수를 사용하기보단 다른 변수명을 사용하는게 좋습니다."
   ]
  },
  {
   "cell_type": "markdown",
   "id": "7245dfbf-89c4-4a1d-858b-771b02f783e4",
   "metadata": {
    "tags": []
   },
   "source": [
    "### 변수 범위 정리\n",
    "- 함수 안에서 선언한 변수는 함수를 호출해 실행되는 동안만 사용할 수 있습니다.\n",
    "- 범위마다 같은 이름의 변수를 사용해도 각각 독립적으로 동작\n",
    "- 지역 변수(local variable)를 저장하는 이름 공간을 지역 영역(local scope)라고 합니다.\n",
    "- 전역 변수(global variable)를 저장하는 이름 공간을 전역 영역(global scope)라고 합니다.\n",
    "- 파이썬 자체에서 정의한 이름 공간을 내장 영역(built-in scope)이라고 합니다.\n",
    "- 함수에서 변수를 호출하면 지역 영역 -> 전역 영역 -> 내장 영역 순으로 해당하는 변수를 확인"
   ]
  },
  {
   "cell_type": "code",
   "execution_count": 201,
   "id": "cc47c669-03ff-4dec-8378-ab305b55c217",
   "metadata": {},
   "outputs": [
    {
     "name": "stdout",
     "output_type": "stream",
     "text": [
      "전역 변수입니다.\n"
     ]
    }
   ],
   "source": [
    "# 지역 범위(local scop) 전역 변수(global variable)에 접근 출력\n",
    "\n",
    "global_v = \"전역 변수입니다.\"\n",
    "\n",
    "def local_scope() :\n",
    "    print(global_v)\n",
    "\n",
    "local_scope()"
   ]
  },
  {
   "cell_type": "code",
   "execution_count": 203,
   "id": "27d85c8b-bc03-4a72-ba9d-9f063f5ceeec",
   "metadata": {},
   "outputs": [
    {
     "name": "stdout",
     "output_type": "stream",
     "text": [
      "전역 변수입니다.\n"
     ]
    }
   ],
   "source": [
    "# 지역 범위(local scop) 전역 변수(global variable)에 접근 후 재할당\n",
    "global_v2 = \"전역 변수입니다.\"\n",
    "\n",
    "def local_scope2() :\n",
    "    global_v2 = \"지역 범위입니다.\"\n",
    "\n",
    "local_scope2()\n",
    "print(global_v2)\n",
    "# 사실은 전역 범위에서 global_v2를 만들어 할당한 것과\n",
    "# 로컬 범위에서 global_v2를 만들어 할당한 것 두가지 일을 각각 독립적으로 실행한 결과를 확인했다."
   ]
  },
  {
   "cell_type": "code",
   "execution_count": 204,
   "id": "334a8938-8d7f-4891-ab54-f5146204a0b4",
   "metadata": {},
   "outputs": [
    {
     "name": "stdout",
     "output_type": "stream",
     "text": [
      "지역 범위에서 변경입니다.\n"
     ]
    }
   ],
   "source": [
    "# 지역 범위(local scop) 전역 변수(global variable)에 접근 후 재할당\n",
    "global_v3 = \"전역 변수입니다.\"\n",
    "\n",
    "def local_scope3() :\n",
    "    global global_v3 # 전역 범위에 있는 전역 변수인 global_v3를 사용하겠다.\n",
    "    global_v3 = \"지역 범위에서 변경입니다.\"\n",
    "\n",
    "local_scope3()\n",
    "print(global_v3)\n",
    "\n",
    "# global 키워드를 활용하면 지역 범위에 있어도 전역 변수에 대한 변경이 가능하도록 할 수 있었다."
   ]
  },
  {
   "cell_type": "code",
   "execution_count": 206,
   "id": "584519c8-442d-415f-9211-59c96bbe2b42",
   "metadata": {},
   "outputs": [
    {
     "name": "stdout",
     "output_type": "stream",
     "text": [
      "바깥 지역 범위입니다.\n"
     ]
    }
   ],
   "source": [
    "# 지역 범위(local scop) 안에 지역 범위가 중첩되어 있을 경우\n",
    "# 비교적 바깥에 있는 지역 범위의 지역 번수에 접근하여 출력\n",
    "\n",
    "def local_scope4() :\n",
    "    global_v4 = \"바깥 지역 범위입니다.\"\n",
    "    def local_scope5():\n",
    "        print(global_v4)\n",
    "    local_scope5()\n",
    "    \n",
    "print(global_v4) #지역 범위 안에 있는 지역 변수는 그 함수 실행과 반환 사이동안만 살아있었다.\n",
    "\n",
    "local_scope4()"
   ]
  },
  {
   "cell_type": "code",
   "execution_count": 209,
   "id": "7dea030f-b33d-4aae-9c0c-a7c4c3f56a50",
   "metadata": {},
   "outputs": [
    {
     "name": "stdout",
     "output_type": "stream",
     "text": [
      "바깥 지역 범위입니다.\n"
     ]
    }
   ],
   "source": [
    "# 지역 범위(local scop) 안에 지역 범위가 중첩되어 있을 경우\n",
    "# 비교적 바깥에 있는 지역 범위의 지역 번수에 접근하여 출력\n",
    "\n",
    "def local_scope6() :\n",
    "    global_v5 = \"바깥 지역 범위입니다.\" # 더 넓은 범위의 로컬 변수로 선언\n",
    "    def local_scope7():\n",
    "        global_v5 = \"안쪽 지역 범위입니다.\" # 더 좁은 범위의 로컬 변수로 선언\n",
    "    local_scope7()\n",
    "    print(global_v5)\n",
    "    \n",
    "local_scope6()\n",
    "\n",
    "# 그래서 local_scope6 범위의 global_v5는\n",
    "# local_scope7 범위의 global_v5와 각각 독립적으로 생성이 된 것을 봤다."
   ]
  },
  {
   "cell_type": "code",
   "execution_count": 210,
   "id": "5674d9af-0446-49d1-8af8-93f14d825e72",
   "metadata": {},
   "outputs": [
    {
     "name": "stdout",
     "output_type": "stream",
     "text": [
      "안쪽 지역 범위입니다.\n"
     ]
    }
   ],
   "source": [
    "# 지역 범위(local scop) 안에 지역 범위가 중첩되어 있을 경우\n",
    "# 비교적 바깥에 있는 지역 범위의 지역 번수에 접근하여 출력\n",
    "\n",
    "def local_scope8() :\n",
    "    global_v6 = \"바깥 지역 범위입니다.\" \n",
    "    def local_scope9():\n",
    "        # 현 영역(지금의 로컬 영역 바깥의 변수 global_v6를 찾아서 그 변수를 사용하겠다.)\n",
    "        nonlocal global_v6\n",
    "        global_v6 = \"안쪽 지역 범위입니다.\" \n",
    "    local_scope9()\n",
    "    print(global_v6)\n",
    "    \n",
    "local_scope8()"
   ]
  },
  {
   "cell_type": "markdown",
   "id": "1c748123-3a8d-41d4-8952-66b5d1f0be9a",
   "metadata": {},
   "source": [
    "### 람다(Lambda)\n",
    "- 호출될 때 값이 구해지는 하나의 표현식입니다. 또 이름이 없는 인라인 함수입니다.\n",
    "\n",
    "- lambda parameters : expression<- Lambda 표현식\n",
    "         매개변수지정: 반환값으로 사용할 식\n",
    "\n",
    "- 비교 일반 함수 정의절 -> def func_name(parameter):\n",
    "                                return expression"
   ]
  },
  {
   "cell_type": "code",
   "execution_count": 212,
   "id": "704fbe23-121b-4081-9599-342c9c7b4234",
   "metadata": {},
   "outputs": [
    {
     "data": {
      "text/plain": [
       "60"
      ]
     },
     "execution_count": 212,
     "metadata": {},
     "output_type": "execute_result"
    }
   ],
   "source": [
    "# 람다 표현식을 바로 호출하는 방법\n",
    "# 람다 표현식 전체를 소괄호(())로 감싸고 뒤에 함수 호출하듯이 소괄호를 붙임\n",
    "\n",
    "(lambda x: x+10)(50)"
   ]
  },
  {
   "cell_type": "markdown",
   "id": "32012b82-502f-432b-809b-018ece69e185",
   "metadata": {},
   "source": [
    "### 조건 표현식(Conditional Expression), inline if else\n",
    "\n",
    "- if else를 한 줄로 작성할 수 있는 방법\n",
    "- lambda에 사용하면 활용도가 아주 좋다\n",
    "- if만 사용할수 없다 반드시 else와 같이 써야한다\n",
    "- 중첩해서 사용 가능하게한다\n",
    "\n",
    "ex) True일때 값 if 조건식 else False일때 값"
   ]
  },
  {
   "cell_type": "code",
   "execution_count": 213,
   "id": "4be2731a-2800-4a52-bfaa-ec0b37d97cf2",
   "metadata": {},
   "outputs": [
    {
     "data": {
      "text/plain": [
       "'B'"
      ]
     },
     "execution_count": 213,
     "metadata": {},
     "output_type": "execute_result"
    }
   ],
   "source": [
    "score = 90\n",
    "'A' if 90<score<=100 else 'B' if 80 < score else 'C'"
   ]
  },
  {
   "cell_type": "markdown",
   "id": "b1d65e9b-a8b9-48e5-8b12-eaac29863435",
   "metadata": {},
   "source": [
    "### 람다(Lambda) feat. map()\n",
    "- 람다와 map() 함수를 같이 쓸 때 다음과 같이 사용\n",
    "- 이때 필요에 따라 parameter와 iterable의 개수를 맞춰서 사용하면 됨\n",
    "- 어느 한쪽 iterable의 길이가 짧아도 상관없이 동작하며, 길이가 작은 쪽에 맞춰 값을 반환\n",
    "\n",
    "map(lambda parameter1, parameter2, .... : expression, iterable1, iterable2,...)"
   ]
  },
  {
   "cell_type": "code",
   "execution_count": 214,
   "id": "78d9f4e3-4ab3-455f-b295-927aca2d4cd1",
   "metadata": {},
   "outputs": [
    {
     "name": "stdout",
     "output_type": "stream",
     "text": [
      "[2, 8, 18, 32, 50]\n"
     ]
    }
   ],
   "source": [
    "a = [_ for _ in range(1,6)]\n",
    "b = [_ for _ in range(2,11,2)]\n",
    "print(list(map(lambda x,y : x*y,a,b)))"
   ]
  },
  {
   "cell_type": "code",
   "execution_count": 216,
   "id": "5c4a9831-d0cd-4ad8-ad93-be75391f90f9",
   "metadata": {},
   "outputs": [
    {
     "name": "stdout",
     "output_type": "stream",
     "text": [
      "[0, 4, 12, 24, 40]\n",
      "100\n"
     ]
    }
   ],
   "source": [
    "a = [_ for _ in range(5)] #0,1,2,3,4\n",
    "b = [_ for _ in range(2,11,2)] #2,4,6,8,10\n",
    "\n",
    "c = list(map(lambda x,y : x*y,a,b))\n",
    "\n",
    "print(c)\n",
    "\n",
    "print((lambda x:x**2)(10))"
   ]
  },
  {
   "cell_type": "markdown",
   "id": "115cc2f5-2f85-4437-a706-25f53bc6444a",
   "metadata": {},
   "source": [
    "## 람다(Lambda) feat. filter()\n",
    "- 람다와 filter() 함수를 같이 쓸 때 다음과 같이 사용\n",
    "- filter의 첫 인수로 들어가는 함수의 반환 값이 True일 때만 해당 요소를 가져옴\n",
    "- 리스트 컴프리헨션으로도 표현 가능한 부분(속도와 가독성 모두 리스트 컴프리헨션이 더 낫습니다.)\n",
    "\n",
    "ex ) map(lambda parameter : expression, iterable)"
   ]
  },
  {
   "cell_type": "code",
   "execution_count": 217,
   "id": "c7378b5b-5643-444b-a251-9d45392a03fa",
   "metadata": {},
   "outputs": [
    {
     "data": {
      "text/plain": [
       "[3, 9, 9]"
      ]
     },
     "execution_count": 217,
     "metadata": {},
     "output_type": "execute_result"
    }
   ],
   "source": [
    "a = [3,2,8,22,10,7,0,11,9,9]\n",
    "list(filter(lambda x: x%3 == 0 and 0 <x <10 ,a))"
   ]
  },
  {
   "cell_type": "markdown",
   "id": "1b3af88b-bf60-4111-9e50-bee545749bc4",
   "metadata": {},
   "source": [
    "### 객체지향(Object Oriented) 프로그래밍\n",
    "- 객체지향 프로그래밍은 복잡한 문제를 잘게 나누어 객체로 만들고, 객체를 조합해서 문제를 해결\n",
    "\n",
    "- 현실 세계의 복잡한 문제를 처리하는데 유용하며 기능을 개선하고 발전시킬 때도 해당 클래스만 수정하면 되므로 큰 프로젝트의 유지보수에도 매우 효율적입니다.\n",
    "\n",
    "- 객체가 가진 데이터를 클래스의 속성(Attribute)이라 부르고 객체가 갖는 기능을 메서드(Method)라고 부릅니다."
   ]
  },
  {
   "cell_type": "markdown",
   "id": "01ce4941-629b-4fb4-859d-e01c5500218b",
   "metadata": {},
   "source": [
    "### 클래스(Class)\n",
    "- 클래스는 사용자 정의 객체를 만들기 위한 주형이라고 생각하면 됩니다.\n",
    "\n",
    "- 클래스 정의는 보통 클래스의 인스턴스를 대상으로 연산하는 메서드를 정의를 포함\n",
    "\n",
    "ex ) class ClassName :\n",
    "        def method_name(self):\n",
    "            method_body\n",
    "     class_body\n",
    "     ..."
   ]
  },
  {
   "cell_type": "markdown",
   "id": "87a4ad81-cd5a-43ff-8eec-abc8b4e497b0",
   "metadata": {},
   "source": [
    "### 객체(Object)? 인스턴스(Instance)?\n",
    "\n",
    "객체를 언급할 땐 단어 하나만 활용하여 단지 '객체'라고 표현합니다. 그와 달리\n",
    "인스턴스(Instance)는 특정 클래스로부터 만들어진 실체로 언급을 많이 합니다.\n",
    "예를들어 인스턴스의 경우 '리스트 클래스로 만들어진 인스턴스다'라고 말할 수 있습니다.\n",
    "부르는 구체적인 것은 조금 달라도 결국 둘은 같은 말입니다.\n",
    "\n",
    "인스턴스의 생성은 아래의 예제처럼 클래스명 오른편에 소괄호를 붙여서 만듭니다.\n",
    "\n",
    "instance_variable = Class Name()"
   ]
  },
  {
   "cell_type": "markdown",
   "id": "54933799-0b32-4638-8199-b3458d94542c",
   "metadata": {},
   "source": [
    "### 메서드(Method)\n",
    "\n",
    "메서드(Method)는 클래스 바디 안에서 정의되는 함수\n",
    "클래스의 인스턴스의 어트리뷰트(attribute)로서 호출되면, 그 메서드는 첫 번째 인자로 인스턴스 객체(self)를 받습니다.\n",
    "첫 번째 인자를 설정 안 하면 에러가 발생합니다. 이 첫 번째 인자를 'self'라고 씁니다."
   ]
  },
  {
   "cell_type": "code",
   "execution_count": 239,
   "id": "a3ce8a76-947d-4cf2-9e3c-795d51dd801a",
   "metadata": {},
   "outputs": [],
   "source": [
    "class Student() :\n",
    "    def __init__(self):\n",
    "        self.hello = \"안녕하세요.\""
   ]
  },
  {
   "cell_type": "code",
   "execution_count": 221,
   "id": "5f54f817-ba75-4fe2-951f-7e3c8f32b3ab",
   "metadata": {},
   "outputs": [],
   "source": [
    "gh = Student() # 독립적인 값을 보장하는 인스턴스로 생성됩니다."
   ]
  },
  {
   "cell_type": "code",
   "execution_count": 240,
   "id": "688331da-9654-4467-8014-f5d9ecb67a58",
   "metadata": {},
   "outputs": [],
   "source": [
    "class Person:\n",
    "    def __inint__(self):\n",
    "        self.hello = \"안녕하세요.\""
   ]
  },
  {
   "cell_type": "code",
   "execution_count": 241,
   "id": "fddb03af-019c-4099-8202-f8d645c003f8",
   "metadata": {},
   "outputs": [],
   "source": [
    "james = Person()"
   ]
  },
  {
   "cell_type": "markdown",
   "id": "1e02d244-ef45-43b5-b292-a96a296c74a6",
   "metadata": {},
   "source": [
    "### self란\n",
    "self는 인스턴스 자기 자신을 의미합니다.\n",
    "\n",
    "위 예제에서 인스턴스가 생성될 때 self.hello = '안녕하세요' 처럼 자기 자신에 속성을 추가하여 사용했었습니다.\n",
    "\n",
    "__init__의 매개변수 self에 들어가는 값은 Person()인스턴스라고 할 수 있습니다.\n",
    "self가 완성된 후에는 변수인 james에 할당되었습니다.\n",
    "\n",
    "이후 메서드를 호출하면 현재 인스턴스가 자동으로 매개변수 self에 들어옵니다. 그래서 greeting 메서드에서 print(self.hello)처럼 속성을 출력"
   ]
  },
  {
   "cell_type": "code",
   "execution_count": 4,
   "id": "39497a01-3dd6-4ab8-a963-7a34df62381b",
   "metadata": {},
   "outputs": [
    {
     "name": "stdout",
     "output_type": "stream",
     "text": [
      "안녕하세요\n"
     ]
    }
   ],
   "source": [
    "class Person:\n",
    "    def __init__(self):\n",
    "        self.hello = \"안녕하세요\"\n",
    "        \n",
    "    def greeting(self):\n",
    "        print(self.hello)\n",
    "        \n",
    "james = Person()\n",
    "james.greeting()"
   ]
  },
  {
   "cell_type": "code",
   "execution_count": null,
   "id": "1d55a3f7-bc88-4571-9380-3f1776996d0b",
   "metadata": {},
   "outputs": [],
   "source": [
    "#"
   ]
  }
 ],
 "metadata": {
  "kernelspec": {
   "display_name": "Python 3 (ipykernel)",
   "language": "python",
   "name": "python3"
  },
  "language_info": {
   "codemirror_mode": {
    "name": "ipython",
    "version": 3
   },
   "file_extension": ".py",
   "mimetype": "text/x-python",
   "name": "python",
   "nbconvert_exporter": "python",
   "pygments_lexer": "ipython3",
   "version": "3.9.13"
  }
 },
 "nbformat": 4,
 "nbformat_minor": 5
}
