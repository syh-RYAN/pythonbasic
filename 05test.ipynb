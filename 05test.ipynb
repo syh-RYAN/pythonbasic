{
 "cells": [
  {
   "cell_type": "code",
   "execution_count": 56,
   "id": "944ff406-1253-49b5-8692-983a4f559792",
   "metadata": {},
   "outputs": [
    {
     "name": "stdin",
     "output_type": "stream",
     "text": [
      "현재시간을 입력하세요 15:00\n"
     ]
    },
    {
     "name": "stdout",
     "output_type": "stream",
     "text": [
      "정각입니다.\n"
     ]
    }
   ],
   "source": [
    " hour,minute = input(\"현재시간을 입력하세요\").split(\":\")\n",
    "\n",
    "if minute =='00':\n",
    "    print(\"정각입니다.\")\n",
    "else:\n",
    "    print(\"정각이 아닙니다.\")"
   ]
  },
  {
   "cell_type": "code",
   "execution_count": 7,
   "id": "7d4725ff-da09-48fb-8cee-0cc3c23eed33",
   "metadata": {},
   "outputs": [
    {
     "name": "stdout",
     "output_type": "stream",
     "text": [
      "Pt\n"
     ]
    }
   ],
   "source": [
    "language = 'Python'\n",
    "\n",
    "print(language[0],language[2],sep=\"\")"
   ]
  },
  {
   "cell_type": "code",
   "execution_count": 8,
   "id": "17f5b4c3-f8af-45c7-818a-fff5628679bb",
   "metadata": {},
   "outputs": [
    {
     "name": "stdout",
     "output_type": "stream",
     "text": [
      "\"Hello\" world\n"
     ]
    }
   ],
   "source": [
    "print(\"\\\"Hello\\\" world\")"
   ]
  },
  {
   "cell_type": "code",
   "execution_count": 9,
   "id": "e87376f6-7e59-47ae-ba1a-6cb214f608cf",
   "metadata": {},
   "outputs": [
    {
     "data": {
      "text/plain": [
       "['10', '9', '8', '7']"
      ]
     },
     "execution_count": 9,
     "metadata": {},
     "output_type": "execute_result"
    }
   ],
   "source": [
    "'10 9 8 7'.split()"
   ]
  },
  {
   "cell_type": "code",
   "execution_count": 10,
   "id": "5aecb53c-2952-4e1d-9d1c-b5dde82df3c0",
   "metadata": {},
   "outputs": [
    {
     "data": {
      "text/plain": [
       "[0, 0, 0, 0, 0, 0, 0, 0, 0, 0]"
      ]
     },
     "execution_count": 10,
     "metadata": {},
     "output_type": "execute_result"
    }
   ],
   "source": [
    "[0]*10"
   ]
  },
  {
   "cell_type": "code",
   "execution_count": 11,
   "id": "99e39901-351e-4b9c-8b65-4db745d54309",
   "metadata": {},
   "outputs": [
    {
     "data": {
      "text/plain": [
       "[0, 1, 2, 3, 4, 5, 6, 7, 8, 9]"
      ]
     },
     "execution_count": 11,
     "metadata": {},
     "output_type": "execute_result"
    }
   ],
   "source": [
    "list(range(10))"
   ]
  },
  {
   "cell_type": "code",
   "execution_count": 12,
   "id": "5cb0e8d2-d40f-4c40-b69f-0fd60a73ab71",
   "metadata": {},
   "outputs": [
    {
     "data": {
      "text/plain": [
       "(10, 20, 30)"
      ]
     },
     "execution_count": 12,
     "metadata": {},
     "output_type": "execute_result"
    }
   ],
   "source": [
    "10,20,30"
   ]
  },
  {
   "cell_type": "code",
   "execution_count": 13,
   "id": "c3ff020c-41f5-4024-aed2-816df8d3fb6a",
   "metadata": {},
   "outputs": [
    {
     "data": {
      "text/plain": [
       "[-1, '가', 100.2]"
      ]
     },
     "execution_count": 13,
     "metadata": {},
     "output_type": "execute_result"
    }
   ],
   "source": [
    "[-1,'가',100.2]"
   ]
  },
  {
   "cell_type": "code",
   "execution_count": null,
   "id": "9931ca7d-f264-46ef-9bae-7444578680b7",
   "metadata": {},
   "outputs": [],
   "source": [
    "input_value = int(input(\"1부터 입력한 자연수까지의 모든 홀수의 합을 구합니다\"))\n",
    "result = 0\n",
    "for i in range(1,input_value+1):\n",
    "    if i % 2 ==1:\n",
    "        if (input_value -1) == i or input_value ==i:\n",
    "            print(i,end=' = ')\n",
    "        else:\n",
    "            print(i,end=' + ')\n",
    "        result += i\n",
    "print(result)"
   ]
  },
  {
   "cell_type": "code",
   "execution_count": 23,
   "id": "7fcf2b27-76b0-47f2-9983-e45601f01abc",
   "metadata": {},
   "outputs": [
    {
     "name": "stdout",
     "output_type": "stream",
     "text": [
      "1부터 10까지 홀수의 합은 25 입니다.\n"
     ]
    }
   ],
   "source": [
    "result = 0\n",
    "for i in range(1,10,2):\n",
    "    result+=i\n",
    "\n",
    "print(\"1부터 10까지 홀수의 합은\",result,\"입니다.\")\n"
   ]
  },
  {
   "cell_type": "code",
   "execution_count": 24,
   "id": "1cfd6dde-05d8-42c8-9f3f-cd65052992ee",
   "metadata": {},
   "outputs": [
    {
     "data": {
      "text/plain": [
       "(-10, -7, -4, -1, 2, 5, 8)"
      ]
     },
     "execution_count": 24,
     "metadata": {},
     "output_type": "execute_result"
    }
   ],
   "source": [
    "tuple(range(-10,10,3))"
   ]
  },
  {
   "cell_type": "code",
   "execution_count": 61,
   "id": "99976443-a2e2-4c82-9434-eb36e8b3e61b",
   "metadata": {},
   "outputs": [
    {
     "name": "stdout",
     "output_type": "stream",
     "text": [
      "[1, 2, 3, 4, 5, 6, 7, 8, 9, 10]\n",
      "[3, 6, 9]\n",
      "3\n",
      "[1, 2, '짝', 4, 5, '짝', 7, 8, '짝', 10]\n"
     ]
    }
   ],
   "source": [
    "list_a = list(range(1,11))\n",
    "print(list_a)\n",
    "print(list_a[2::3])\n",
    "print(len(list_a[2::3]))\n",
    "\n",
    "list_a[2::3] = [\"짝\"] * len(list_a[2::3])\n",
    "print(list_a)"
   ]
  },
  {
   "cell_type": "markdown",
   "id": "ae22acbd-76ae-4aa1-8912-dbe7d8d8960c",
   "metadata": {},
   "source": [
    "문제1) : reverse() 리스트 요소 순서를 뒤집어주며 반환값이 없고 \n",
    "           reversed() 반환값을 주지만 해당 시퀀스를 변경하지 않음\n",
    "\n",
    "문제2) time = input(\"현재시간을 입력하세요\") or hour,minute = input(\"현재시간을 입력하세요\").split(\":\")\n",
    "\n",
    "result1 = time.split(\":\")\n",
    "\n",
    "if result1[1] =='00':\n",
    "    print(\"정각입니다.\")\n",
    "else:\n",
    "    print(\"정각이 아닙니다.\")\n",
    "\n",
    "\n",
    "문제3) Pt\n",
    "\n",
    "문제4) 3번\n",
    "\n",
    "문제5) 5번\n",
    "\n",
    "문제5) list_a = list(range(1,11))\n",
    "list_a[2::3] = \"짝\" * len(list_a[2::3])\n",
    "print(list_a)\n",
    "\n",
    "문제6) 4번\n",
    "\n",
    "문제7) 1번,2번,3번,5번\n",
    "\n",
    "문제8) result = 0\n",
    "for i in range(1,10,2):\n",
    "    result+=i\n",
    "\n",
    "print(\"1부터 10까지 홀수의 합은\",result,\"입니다.\")\n",
    "\n",
    "문제9) 4번\n",
    "\n",
    "문제10) 5번"
   ]
  },
  {
   "cell_type": "code",
   "execution_count": null,
   "id": "dcda7a43-5a76-4d7b-8879-6940d1395c09",
   "metadata": {},
   "outputs": [],
   "source": []
  }
 ],
 "metadata": {
  "kernelspec": {
   "display_name": "Python 3 (ipykernel)",
   "language": "python",
   "name": "python3"
  },
  "language_info": {
   "codemirror_mode": {
    "name": "ipython",
    "version": 3
   },
   "file_extension": ".py",
   "mimetype": "text/x-python",
   "name": "python",
   "nbconvert_exporter": "python",
   "pygments_lexer": "ipython3",
   "version": "3.9.13"
  }
 },
 "nbformat": 4,
 "nbformat_minor": 5
}
