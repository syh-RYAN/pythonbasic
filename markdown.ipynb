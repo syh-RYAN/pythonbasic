{
 "cells": [
  {
   "cell_type": "markdown",
   "id": "061e91c2-4f5e-4402-b745-e5420e01436e",
   "metadata": {},
   "source": [
    "# 1. 마크다운 학습\n",
    "# 1.1. 부제목 \n",
    "글자크기 \"##\""
   ]
  },
  {
   "cell_type": "markdown",
   "id": "2cd9c825-e242-46a7-b9df-68ee4cb79e82",
   "metadata": {},
   "source": [
    "일반 텍스트는 그냥 입력하시면 됩니다.\n",
    "**굵은 글씨**는 이렇게 사용합니다.(**)굵은 글씨\n",
    "*기울인 글씨*는 이렇게 씁니다. (*)기울인 글씨\n",
    "~~취소선~~은 이렇게 씁니다. (~~)취소선"
   ]
  },
  {
   "cell_type": "markdown",
   "id": "acfedaf7-91da-405a-adbe-ea373ea933c5",
   "metadata": {},
   "source": [
    "> 구확이\n",
    "> 잡힌\n",
    "> 글입니다.\n",
    "\"구확이 잡힌 글 \">\""
   ]
  },
  {
   "cell_type": "markdown",
   "id": "0c0c1d50-3b19-4c94-b0da-3e3911e39683",
   "metadata": {
    "tags": []
   },
   "source": [
    "- 목록1\n",
    "- 목록2\n",
    "- 목록3"
   ]
  },
  {
   "cell_type": "markdown",
   "id": "bc51ab5d-7da7-4ef7-b1b3-6a4ab7ce8089",
   "metadata": {},
   "source": [
    "* 목록1\n",
    "* 목록2\n",
    "* 목록3"
   ]
  },
  {
   "cell_type": "markdown",
   "id": "457b9b70-acee-4266-b052-5a3f6a3884c2",
   "metadata": {},
   "source": [
    "1. 순서가 있는 목록1\n",
    "2. 순서가 있는 목록2\n",
    "3. 순서가 있는 목록3"
   ]
  },
  {
   "cell_type": "markdown",
   "id": "6a702bc8-61a8-43c9-a721-e8c0a751b803",
   "metadata": {
    "tags": []
   },
   "source": [
    "[Google](https://www.google.com)"
   ]
  },
  {
   "cell_type": "markdown",
   "id": "0d030bdb-59df-46f0-a1cb-b0cdb1cbb993",
   "metadata": {},
   "source": [
    "![이미지에 대한 설명](https://dimg.donga.com/wps/NEWS/IMAGE/2020/08/22/102591473.3.jpg)"
   ]
  },
  {
   "cell_type": "markdown",
   "id": "03fb2a76-9af5-4047-8a1a-fdb274197b74",
   "metadata": {},
   "source": [
    "|제목 셀|제목 셀|제목 셀|\n",
    "|:--|--:|:--:|\n",
    "|값1|값2|값3|"
   ]
  },
  {
   "cell_type": "markdown",
   "id": "50ae4bc9-1f56-485c-b414-bd86560ea120",
   "metadata": {},
   "source": [
    "![이미지](C:\\python\\123.jpg)"
   ]
  },
  {
   "cell_type": "markdown",
   "id": "2795038f-23aa-4ee1-871e-ccc3987b3219",
   "metadata": {},
   "source": [
    "```python\n",
    "x = int(input(\"인사를 몇 번 할까요?\"))\n",
    "for _ in range(x):\n",
    "print(\"Hello world\")\n",
    "```"
   ]
  },
  {
   "cell_type": "code",
   "execution_count": null,
   "id": "c5ec23e6-a2fa-4876-a460-e2e76d3962c8",
   "metadata": {},
   "outputs": [],
   "source": []
  }
 ],
 "metadata": {
  "kernelspec": {
   "display_name": "Python 3 (ipykernel)",
   "language": "python",
   "name": "python3"
  },
  "language_info": {
   "codemirror_mode": {
    "name": "ipython",
    "version": 3
   },
   "file_extension": ".py",
   "mimetype": "text/x-python",
   "name": "python",
   "nbconvert_exporter": "python",
   "pygments_lexer": "ipython3",
   "version": "3.9.13"
  }
 },
 "nbformat": 4,
 "nbformat_minor": 5
}
