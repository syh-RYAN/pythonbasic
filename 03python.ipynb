{
 "cells": [
  {
   "cell_type": "code",
   "execution_count": 8,
   "id": "4035af75-7edf-4451-86a8-ed706d09fb68",
   "metadata": {},
   "outputs": [
    {
     "name": "stdout",
     "output_type": "stream",
     "text": [
      "False\n"
     ]
    }
   ],
   "source": [
    "#[국어,영어,한국사,선택 교과1, 선택 교과2]\n",
    "scores = [88,73,89,59,77]\n",
    "\n",
    "print(scores[0] >= 60 and scores[1] >= 60 and scores[2] >= 60 and scores[3] >= 60 and scores[4] >= 60)   "
   ]
  },
  {
   "cell_type": "code",
   "execution_count": 1,
   "id": "7633dc54-cb0a-4636-a087-fe9d3e4d7f45",
   "metadata": {},
   "outputs": [],
   "source": [
    "numbers = [1,2,3,4,5,6,7,8]"
   ]
  },
  {
   "cell_type": "code",
   "execution_count": 2,
   "id": "f925f7cd-a281-4d11-8c4a-2a167c7da65c",
   "metadata": {},
   "outputs": [
    {
     "name": "stdout",
     "output_type": "stream",
     "text": [
      "[1, 2, 3, 4, 5, 6, 7, 8, 8]\n"
     ]
    }
   ],
   "source": [
    "numbers.append(8)\n",
    "print(numbers)"
   ]
  },
  {
   "cell_type": "markdown",
   "id": "735c6d5d-304c-45bc-a6f2-c76e22ec1d7f",
   "metadata": {},
   "source": [
    "### insert는 요소를 원하는 인덱스 위치에 넣을 수 있다.\n",
    "insert(인덱스,요소)"
   ]
  },
  {
   "cell_type": "code",
   "execution_count": 3,
   "id": "a8a1e372-442b-44b5-80cc-08987387afa9",
   "metadata": {},
   "outputs": [],
   "source": [
    "numbers.insert(0,0)\n",
    "numbers.insert(4,0)\n",
    "numbers.insert(6,0)\n",
    "numbers.insert(len(numbers),0)"
   ]
  },
  {
   "cell_type": "code",
   "execution_count": 4,
   "id": "1b48a541-13b0-406e-9a06-33bee4c7727a",
   "metadata": {},
   "outputs": [
    {
     "name": "stdout",
     "output_type": "stream",
     "text": [
      "[0, 1, 2, 3, 0, 4, 0, 5, 6, 7, 8, 8, 0]\n"
     ]
    }
   ],
   "source": [
    "print(numbers)"
   ]
  },
  {
   "cell_type": "markdown",
   "id": "838ed4f7-c7f5-4796-84f6-385e3ba27d45",
   "metadata": {},
   "source": [
    "### extend는 리스트에 리스트를 뒤로 붙인다.\n",
    "리스트1.extend(리스트2)"
   ]
  },
  {
   "cell_type": "code",
   "execution_count": 5,
   "id": "32a01d71-8c75-49fa-b9b8-97c5ccdf4cc3",
   "metadata": {},
   "outputs": [
    {
     "name": "stdout",
     "output_type": "stream",
     "text": [
      "[0, 1, 2, 3, 0, 4, 0, 5, 6, 7, 8, 8, 0, 9, 10, 11]\n"
     ]
    }
   ],
   "source": [
    "numbers.extend([9,10,11])\n",
    "print(numbers)"
   ]
  },
  {
   "cell_type": "markdown",
   "id": "56f272c3-5cb9-408d-8cff-e5cca42ca0bc",
   "metadata": {},
   "source": [
    "### remove(요소) 리스트에서 요소와 같은 걸 삭제한다"
   ]
  },
  {
   "cell_type": "code",
   "execution_count": 6,
   "id": "e47a4aee-d0f5-4e93-9e99-a702066f4f53",
   "metadata": {},
   "outputs": [
    {
     "name": "stdout",
     "output_type": "stream",
     "text": [
      "[1, 2, 3, 0, 4, 0, 5, 6, 7, 8, 8, 0, 9, 10, 11]\n"
     ]
    }
   ],
   "source": [
    "numbers.remove(0)\n",
    "print(numbers)"
   ]
  },
  {
   "cell_type": "code",
   "execution_count": 7,
   "id": "ae40aa77-8386-4bcd-87a6-1f8162ab6230",
   "metadata": {},
   "outputs": [],
   "source": [
    "del numbers[0]"
   ]
  },
  {
   "cell_type": "code",
   "execution_count": 8,
   "id": "4b0fb621-4332-4048-8f2e-6246e7c7f0b5",
   "metadata": {},
   "outputs": [
    {
     "name": "stdout",
     "output_type": "stream",
     "text": [
      "[2, 3, 0, 4, 0, 5, 6, 7, 8, 8, 0, 9, 10, 11]\n"
     ]
    }
   ],
   "source": [
    "print(numbers)"
   ]
  },
  {
   "cell_type": "markdown",
   "id": "2e722ee2-f94d-453f-8eaf-f908de32a311",
   "metadata": {},
   "source": [
    "### pop() --> 제일 뒤에 오는 요소를 반환한다. 그리고 리스트에서 삭제한다."
   ]
  },
  {
   "cell_type": "code",
   "execution_count": 9,
   "id": "f7bcef12-7030-4d7c-955f-3907a53d9f59",
   "metadata": {},
   "outputs": [
    {
     "name": "stdout",
     "output_type": "stream",
     "text": [
      "11\n"
     ]
    }
   ],
   "source": [
    "print(numbers.pop())"
   ]
  },
  {
   "cell_type": "code",
   "execution_count": 10,
   "id": "393469c7-c379-4d80-b827-765e691901f0",
   "metadata": {},
   "outputs": [
    {
     "name": "stdout",
     "output_type": "stream",
     "text": [
      "[2, 3, 0, 4, 0, 5, 6, 7, 8, 8, 0, 9, 10]\n"
     ]
    }
   ],
   "source": [
    "print(numbers)"
   ]
  },
  {
   "cell_type": "markdown",
   "id": "e8022a72-8335-498c-a5a3-c0c85eaf6546",
   "metadata": {},
   "source": [
    "### index(인자) 리스트 안에 인자과 같은 요소를 앞에서 부터 찾습니다. 제일 처음 발견된 요소의 인덱스 위치를 반환합니다."
   ]
  },
  {
   "cell_type": "code",
   "execution_count": 11,
   "id": "5354cdf2-5939-4727-8761-532b1ef1a226",
   "metadata": {},
   "outputs": [
    {
     "name": "stdout",
     "output_type": "stream",
     "text": [
      "3\n"
     ]
    }
   ],
   "source": [
    "print(numbers.index(4))"
   ]
  },
  {
   "cell_type": "markdown",
   "id": "80c133c4-6407-4b2d-b8a2-5f776199c975",
   "metadata": {},
   "source": [
    "### count(인자) 리스트 안에서 인자와 같은 요소가 몇개가 있는지 반환한다."
   ]
  },
  {
   "cell_type": "code",
   "execution_count": 12,
   "id": "b5a90dea-1ad6-46e0-b415-fc2509d38105",
   "metadata": {},
   "outputs": [
    {
     "name": "stdout",
     "output_type": "stream",
     "text": [
      "[2, 3, 0, 4, 0, 5, 6, 7, 8, 8, 0, 9, 10]\n",
      "3\n"
     ]
    }
   ],
   "source": [
    "print(numbers)\n",
    "print(numbers.count(0))"
   ]
  },
  {
   "cell_type": "markdown",
   "id": "d913ad85-4c24-4937-8d59-8d9fc007c7c0",
   "metadata": {},
   "source": [
    "### 리스트 정렬하기\n",
    "- sort() 리스트 요소를 오름차순으로 정렬\n",
    "- reverse()는 순서를 역순(반대로)\n",
    "  반환 값을 둘 다 None"
   ]
  },
  {
   "cell_type": "code",
   "execution_count": 13,
   "id": "756bac39-ddc3-45d0-b0cc-bcddc53dbf58",
   "metadata": {},
   "outputs": [
    {
     "name": "stdout",
     "output_type": "stream",
     "text": [
      "[2, 3, 0, 4, 0, 5, 6, 7, 8, 8, 0, 9, 10]\n"
     ]
    }
   ],
   "source": [
    "print(numbers)"
   ]
  },
  {
   "cell_type": "code",
   "execution_count": 14,
   "id": "a62259a8-470a-4f99-8db3-603a0dbe30c7",
   "metadata": {},
   "outputs": [
    {
     "name": "stdout",
     "output_type": "stream",
     "text": [
      "None\n"
     ]
    }
   ],
   "source": [
    "print(numbers.sort())"
   ]
  },
  {
   "cell_type": "code",
   "execution_count": 15,
   "id": "2a36bd67-8ce5-4bd3-aa6d-a08b68825fcf",
   "metadata": {},
   "outputs": [
    {
     "name": "stdout",
     "output_type": "stream",
     "text": [
      "[0, 0, 0, 2, 3, 4, 5, 6, 7, 8, 8, 9, 10]\n"
     ]
    }
   ],
   "source": [
    "print(numbers)"
   ]
  },
  {
   "cell_type": "code",
   "execution_count": 16,
   "id": "b3f014f6-b1f0-4eb7-8546-668b149e4b67",
   "metadata": {},
   "outputs": [
    {
     "name": "stdout",
     "output_type": "stream",
     "text": [
      "None\n"
     ]
    }
   ],
   "source": [
    "print(numbers.reverse())"
   ]
  },
  {
   "cell_type": "code",
   "execution_count": 17,
   "id": "e4fa19bd-a6b4-4602-8bc5-ef5c829b4e3f",
   "metadata": {},
   "outputs": [
    {
     "name": "stdout",
     "output_type": "stream",
     "text": [
      "[10, 9, 8, 8, 7, 6, 5, 4, 3, 2, 0, 0, 0]\n"
     ]
    }
   ],
   "source": [
    "print(numbers)"
   ]
  },
  {
   "cell_type": "markdown",
   "id": "70eb428e-9bc4-41ac-b781-a674f53856c1",
   "metadata": {},
   "source": [
    "### Stack은 후입선출(Last In First Out) 구조\n",
    "- stack에서 자료를 꺼낼 때 pop()으로만 꺼내어 Stack 자료 구조처럼 활용 가능"
   ]
  },
  {
   "cell_type": "code",
   "execution_count": 18,
   "id": "8aea7991-b280-4552-b7ec-20f41e7398dc",
   "metadata": {},
   "outputs": [
    {
     "name": "stdout",
     "output_type": "stream",
     "text": [
      "[3, 4, 5, 6, 7]\n",
      "7\n",
      "[3, 4, 5, 6]\n",
      "6\n",
      "5\n",
      "[3, 4]\n"
     ]
    }
   ],
   "source": [
    "stack = [3,4,5]\n",
    "stack.append(6)\n",
    "stack.append(7)\n",
    "print(stack)\n",
    "\n",
    "print(stack.pop())\n",
    "\n",
    "print(stack)\n",
    "\n",
    "print(stack.pop())\n",
    "\n",
    "print(stack.pop())\n",
    "\n",
    "print(stack)"
   ]
  },
  {
   "cell_type": "markdown",
   "id": "ffdb9a4e-ceae-4b0d-b1d1-14c01c5c7f7b",
   "metadata": {},
   "source": [
    "### 튜플(tuple)\n",
    "- 튜플은 리스트와 거의 비슷하지만, 수정이 불가\n",
    "- 튜플은 불변(immutable)의 특징을 갖음\n",
    "- 튜플은 소괄호 사이에 요소들을 콤마로 구분지어 작성\n",
    "- 소괄호는 생략 가능\n",
    "튜플변수명 = (항목1,항목2,항목2)"
   ]
  },
  {
   "cell_type": "code",
   "execution_count": 19,
   "id": "ec1774e8-f42e-40f7-b1e3-b6f9dbf893b2",
   "metadata": {},
   "outputs": [
    {
     "ename": "TypeError",
     "evalue": "'tuple' object does not support item assignment",
     "output_type": "error",
     "traceback": [
      "\u001b[1;31m---------------------------------------------------------------------------\u001b[0m",
      "\u001b[1;31mTypeError\u001b[0m                                 Traceback (most recent call last)",
      "\u001b[1;32m~\\AppData\\Local\\Temp\\ipykernel_8124\\1661870440.py\u001b[0m in \u001b[0;36m<module>\u001b[1;34m\u001b[0m\n\u001b[0;32m      1\u001b[0m \u001b[0mtuple_variable\u001b[0m \u001b[1;33m=\u001b[0m \u001b[1;33m(\u001b[0m\u001b[1;36m1\u001b[0m\u001b[1;33m,\u001b[0m\u001b[1;36m2\u001b[0m\u001b[1;33m,\u001b[0m\u001b[1;36m3\u001b[0m\u001b[1;33m,\u001b[0m\u001b[1;36m4\u001b[0m\u001b[1;33m,\u001b[0m\u001b[1;36m5\u001b[0m\u001b[1;33m,\u001b[0m\u001b[1;34m\"hello\"\u001b[0m\u001b[1;33m)\u001b[0m\u001b[1;33m\u001b[0m\u001b[1;33m\u001b[0m\u001b[0m\n\u001b[1;32m----> 2\u001b[1;33m \u001b[0mtuple_variable\u001b[0m\u001b[1;33m[\u001b[0m\u001b[1;36m0\u001b[0m\u001b[1;33m]\u001b[0m \u001b[1;33m=\u001b[0m \u001b[1;36m0\u001b[0m\u001b[1;33m\u001b[0m\u001b[1;33m\u001b[0m\u001b[0m\n\u001b[0m",
      "\u001b[1;31mTypeError\u001b[0m: 'tuple' object does not support item assignment"
     ]
    }
   ],
   "source": [
    "tuple_variable = (1,2,3,4,5,\"hello\")\n",
    "tuple_variable[0] = 0"
   ]
  },
  {
   "cell_type": "code",
   "execution_count": 20,
   "id": "62e85b9d-19eb-407f-8eba-4dc30342be01",
   "metadata": {},
   "outputs": [
    {
     "ename": "TypeError",
     "evalue": "'tuple' object does not support item assignment",
     "output_type": "error",
     "traceback": [
      "\u001b[1;31m---------------------------------------------------------------------------\u001b[0m",
      "\u001b[1;31mTypeError\u001b[0m                                 Traceback (most recent call last)",
      "\u001b[1;32m~\\AppData\\Local\\Temp\\ipykernel_8124\\3686479573.py\u001b[0m in \u001b[0;36m<module>\u001b[1;34m\u001b[0m\n\u001b[1;32m----> 1\u001b[1;33m \u001b[0mtuple_variable\u001b[0m\u001b[1;33m[\u001b[0m\u001b[1;36m1\u001b[0m\u001b[1;33m:\u001b[0m\u001b[1;36m3\u001b[0m\u001b[1;33m]\u001b[0m \u001b[1;33m=\u001b[0m \u001b[1;33m(\u001b[0m\u001b[1;34m\"음\"\u001b[0m\u001b[1;33m,\u001b[0m\u001b[1;34m\"오\"\u001b[0m\u001b[1;33m)\u001b[0m\u001b[1;33m\u001b[0m\u001b[1;33m\u001b[0m\u001b[0m\n\u001b[0m",
      "\u001b[1;31mTypeError\u001b[0m: 'tuple' object does not support item assignment"
     ]
    }
   ],
   "source": [
    "tuple_variable[1:3] = (\"음\",\"오\")"
   ]
  },
  {
   "cell_type": "markdown",
   "id": "be923e98-c25e-4d8e-838a-2a51f6dda783",
   "metadata": {},
   "source": [
    "### 튜플에서는 요소에 대한 삭제도 불가하다."
   ]
  },
  {
   "cell_type": "code",
   "execution_count": 21,
   "id": "4acd6c1b-da62-424e-90af-54b8e6f9d0a9",
   "metadata": {},
   "outputs": [
    {
     "ename": "TypeError",
     "evalue": "'tuple' object doesn't support item deletion",
     "output_type": "error",
     "traceback": [
      "\u001b[1;31m---------------------------------------------------------------------------\u001b[0m",
      "\u001b[1;31mTypeError\u001b[0m                                 Traceback (most recent call last)",
      "\u001b[1;32m~\\AppData\\Local\\Temp\\ipykernel_8124\\3932902972.py\u001b[0m in \u001b[0;36m<module>\u001b[1;34m\u001b[0m\n\u001b[1;32m----> 1\u001b[1;33m \u001b[1;32mdel\u001b[0m \u001b[0mtuple_variable\u001b[0m\u001b[1;33m[\u001b[0m\u001b[1;36m0\u001b[0m\u001b[1;33m]\u001b[0m\u001b[1;33m\u001b[0m\u001b[1;33m\u001b[0m\u001b[0m\n\u001b[0m",
      "\u001b[1;31mTypeError\u001b[0m: 'tuple' object doesn't support item deletion"
     ]
    }
   ],
   "source": [
    "del tuple_variable[0]"
   ]
  },
  {
   "cell_type": "code",
   "execution_count": 23,
   "id": "9d3db34d-91f6-474b-bbf7-ea20ff8a4a59",
   "metadata": {},
   "outputs": [
    {
     "name": "stdout",
     "output_type": "stream",
     "text": [
      "<class 'tuple'>\n",
      "('음', '오', '아', '예')\n"
     ]
    }
   ],
   "source": [
    "t_v2 = '음','오','아','예'\n",
    "print(type(t_v2))\n",
    "print(t_v2)"
   ]
  },
  {
   "cell_type": "markdown",
   "id": "5a828ff9-c6ed-48f0-9918-7dd918c8a3dc",
   "metadata": {},
   "source": [
    "### 튜플\n",
    "- 리스트가 더 봄용적인데 튜플은 왜 쓸까?\n",
    "- 리스트는 크기가 바뀔 수 있기 때문에 그에 따른 초과 할당까지 고려해서 메모리에 데이터를 저장할 수 있을지 신경 써야한다.\n",
    "- 튜플은 빠르게 생성할 수 있고 리스트보다 메모리 부담이 적은 대신 그 내용을 변경 할 수 없다."
   ]
  },
  {
   "cell_type": "code",
   "execution_count": 24,
   "id": "7cb0f5ed-51f0-46a3-8bad-e1ce8c5281ae",
   "metadata": {},
   "outputs": [
    {
     "name": "stdout",
     "output_type": "stream",
     "text": [
      "0.23100876808166504\n"
     ]
    }
   ],
   "source": [
    "import time\n",
    "\n",
    "curr = time.time()\n",
    "total = []\n",
    "\n",
    "for i in range(1000) :\n",
    "    for j in range(1000) :\n",
    "        total.append((i,j))\n",
    "\n",
    "last = time.time()\n",
    "print(last - curr)"
   ]
  },
  {
   "cell_type": "code",
   "execution_count": 25,
   "id": "7358cbb3-3e51-45f2-8cf2-a187baf63421",
   "metadata": {},
   "outputs": [
    {
     "name": "stdout",
     "output_type": "stream",
     "text": [
      "0.5250256061553955\n"
     ]
    }
   ],
   "source": [
    "import time\n",
    "\n",
    "curr = time.time()\n",
    "total = []\n",
    "\n",
    "for i in range(1000) :\n",
    "    for j in range(1000) :\n",
    "        total.append([i,j])\n",
    "\n",
    "last = time.time()\n",
    "print(last - curr)"
   ]
  },
  {
   "cell_type": "markdown",
   "id": "46deb2e0-4aab-44b5-af23-5b6a2a6425b8",
   "metadata": {},
   "source": [
    "##### **연습 문제**\n",
    "1. 처음 20번째까지 소수(Prime number) : 튜플  이유 : 1~20번째까지의 소수이기 때문에 정해져 있는 숫자여서 나중에 변동이 없을거 같아서.\n",
    "2. 프로그래밍 언어의 종류 : 튜플  이유 : 프로그래밍 언어도 정해져 있는 언어이기 때문에 변동이 있으면 안될거 같아서.\n",
    "3. 사람의 나이, 몸무게, 키 : 리스트  이유 : 사람의 나이,몸무게,키는 매번 변동이 있기 때문에\n",
    "4. 사람의 생일과 출생지 : 튜플 : 사람의 생일과 출생지는 변함이 없기 때문에\n",
    "5. 롤 게임의 결과 : 튜플 : 이미 정해진 결과는 변동이 없기 때문에\n",
    "6. 잇단 롤 게임의 결과 : 튜플 이유 : 이미 정해진 결과는 변동이 없기 떄문에"
   ]
  },
  {
   "cell_type": "code",
   "execution_count": 26,
   "id": "c7211d2b-42c6-45b6-b5f0-5492da50fcdf",
   "metadata": {},
   "outputs": [
    {
     "name": "stdout",
     "output_type": "stream",
     "text": [
      "text1\n",
      "text2\n"
     ]
    }
   ],
   "source": [
    "s1,s2 = 'text1','text2'\n",
    "print(s1)\n",
    "print(s2)"
   ]
  },
  {
   "cell_type": "code",
   "execution_count": 28,
   "id": "24c1dd46-19ac-4d66-9aae-cdecc52de5f9",
   "metadata": {},
   "outputs": [
    {
     "name": "stdout",
     "output_type": "stream",
     "text": [
      "이렇게 리스트도 가능합니다.\n"
     ]
    }
   ],
   "source": [
    "s3,s4,s5 = ['이렇게','리스트도','가능합니다.']\n",
    "print(s3,s4,s5)"
   ]
  },
  {
   "cell_type": "code",
   "execution_count": 30,
   "id": "d8fbb135-af49-4190-94fb-fdd60a2241bf",
   "metadata": {},
   "outputs": [
    {
     "name": "stdout",
     "output_type": "stream",
     "text": [
      "문 자 열 도\n",
      "문\n"
     ]
    }
   ],
   "source": [
    "s6,s7,s8,s9 = \"문자열도\"\n",
    "print(s6,s7,s8,s9)\n",
    "print(s6)"
   ]
  },
  {
   "cell_type": "markdown",
   "id": "af4f7fe8-ade2-4bf0-982e-a5d0c2fb2f5e",
   "metadata": {},
   "source": [
    "##### input() 내장 함수를 사용해서 사용자로부터 값을 받아올 수 있습니다\n",
    "- 이때 받아온 값은 문자열로 받습니다.\n",
    "- input(\"메시지\")->return 사용자가 입력한 값(str)"
   ]
  },
  {
   "cell_type": "code",
   "execution_count": 32,
   "id": "c70a4a35-62f1-40b5-90ad-dc1422315382",
   "metadata": {},
   "outputs": [
    {
     "name": "stdin",
     "output_type": "stream",
     "text": [
      "Message 12345\n"
     ]
    }
   ],
   "source": [
    "input_value = input(\"Message\")"
   ]
  },
  {
   "cell_type": "code",
   "execution_count": 33,
   "id": "7cca6703-3dab-4834-a23e-e993bc18ea98",
   "metadata": {},
   "outputs": [
    {
     "name": "stdout",
     "output_type": "stream",
     "text": [
      "input_value: 12345 \n",
      "type: <class 'str'>\n"
     ]
    }
   ],
   "source": [
    "print(\"input_value:\",input_value, \"\\ntype:\",type(input_value))"
   ]
  },
  {
   "cell_type": "code",
   "execution_count": 34,
   "id": "9b8f0089-b2f1-4da8-93bd-2ee9278e4cbe",
   "metadata": {},
   "outputs": [
    {
     "name": "stdout",
     "output_type": "stream",
     "text": [
      "12345\n"
     ]
    }
   ],
   "source": [
    "print(input_value)"
   ]
  },
  {
   "cell_type": "code",
   "execution_count": 35,
   "id": "0a52848e-a485-4561-8e14-c0b5de134f76",
   "metadata": {},
   "outputs": [
    {
     "name": "stdin",
     "output_type": "stream",
     "text": [
      "정수 외에 다른 값을 입력해 보세요. 1.1\n"
     ]
    }
   ],
   "source": [
    "input_value2 = input(\"정수 외에 다른 값을 입력해 보세요.\")"
   ]
  },
  {
   "cell_type": "code",
   "execution_count": 36,
   "id": "33592054-26db-48c2-b856-84049b94d75f",
   "metadata": {},
   "outputs": [
    {
     "ename": "ValueError",
     "evalue": "invalid literal for int() with base 10: '1.1'",
     "output_type": "error",
     "traceback": [
      "\u001b[1;31m---------------------------------------------------------------------------\u001b[0m",
      "\u001b[1;31mValueError\u001b[0m                                Traceback (most recent call last)",
      "\u001b[1;32m~\\AppData\\Local\\Temp\\ipykernel_8124\\1061107786.py\u001b[0m in \u001b[0;36m<module>\u001b[1;34m\u001b[0m\n\u001b[1;32m----> 1\u001b[1;33m \u001b[0minput_value2\u001b[0m \u001b[1;33m=\u001b[0m \u001b[0mint\u001b[0m\u001b[1;33m(\u001b[0m\u001b[0minput_value2\u001b[0m\u001b[1;33m)\u001b[0m\u001b[1;33m\u001b[0m\u001b[1;33m\u001b[0m\u001b[0m\n\u001b[0m",
      "\u001b[1;31mValueError\u001b[0m: invalid literal for int() with base 10: '1.1'"
     ]
    }
   ],
   "source": [
    "input_value2 = int(input_value2)"
   ]
  },
  {
   "cell_type": "code",
   "execution_count": 39,
   "id": "071941c8-e024-4943-a4b3-9249a95fa36e",
   "metadata": {},
   "outputs": [
    {
     "name": "stdout",
     "output_type": "stream",
     "text": [
      "1.1\n"
     ]
    }
   ],
   "source": [
    "input_value2 = float(input_value2)\n",
    "print(input_value2)"
   ]
  },
  {
   "cell_type": "code",
   "execution_count": 40,
   "id": "7f6ed07f-b44a-42bd-a547-58f295d7f5aa",
   "metadata": {},
   "outputs": [
    {
     "name": "stdout",
     "output_type": "stream",
     "text": [
      "1\n"
     ]
    }
   ],
   "source": [
    "input_value2 = int(input_value2)\n",
    "print(input_value2)"
   ]
  },
  {
   "cell_type": "code",
   "execution_count": 45,
   "id": "c0372feb-ad0f-438a-ba91-57ca05085f14",
   "metadata": {},
   "outputs": [
    {
     "name": "stdin",
     "output_type": "stream",
     "text": [
      "정수를 입력해주세요: 5\n"
     ]
    }
   ],
   "source": [
    "input_value4 = int(input(\"정수를 입력해주세요:\"))"
   ]
  },
  {
   "cell_type": "code",
   "execution_count": 46,
   "id": "c355ae9c-e508-4491-958f-b4feb849986e",
   "metadata": {},
   "outputs": [
    {
     "name": "stdout",
     "output_type": "stream",
     "text": [
      "5\n"
     ]
    }
   ],
   "source": [
    "print(input_value4)"
   ]
  },
  {
   "cell_type": "code",
   "execution_count": 47,
   "id": "0e7ce527-9c52-420c-9434-6710823307f1",
   "metadata": {},
   "outputs": [
    {
     "name": "stdin",
     "output_type": "stream",
     "text": [
      "이름을 입력하시오: 서영호\n"
     ]
    },
    {
     "name": "stdout",
     "output_type": "stream",
     "text": [
      "서영호 씨, 안녕하세요?\n"
     ]
    }
   ],
   "source": [
    "input_value5 = input(\"이름을 입력하시오:\")\n",
    "print(input_value5,\"씨, 안녕하세요?\")"
   ]
  },
  {
   "cell_type": "code",
   "execution_count": 49,
   "id": "52ec3e5f-fe62-47c1-ae9e-fee89f1cd38f",
   "metadata": {},
   "outputs": [
    {
     "name": "stdin",
     "output_type": "stream",
     "text": [
      "이름을 입력하시오: 라이언\n"
     ]
    },
    {
     "name": "stdout",
     "output_type": "stream",
     "text": [
      "라이언 씨, 안녕하세요?\n",
      "파이썬에 오신 것을 환영합니다.\n"
     ]
    },
    {
     "name": "stdin",
     "output_type": "stream",
     "text": [
      "첫 번째 정수를 입력하세요: 200\n",
      "두 번째 정수를 입력하세요: 300\n"
     ]
    },
    {
     "name": "stdout",
     "output_type": "stream",
     "text": [
      "200 과 300 의 합은 500 입니다.\n"
     ]
    }
   ],
   "source": [
    "input_value5 = input(\"이름을 입력하시오:\")\n",
    "print(input_value5,\"씨, 안녕하세요?\")\n",
    "print(\"파이썬에 오신 것을 환영합니다.\")\n",
    "input_value6 = int(input(\"첫 번째 정수를 입력하세요:\"))\n",
    "input_value7 = int(input(\"두 번째 정수를 입력하세요:\"))\n",
    "print(input_value6,\"과\",input_value7,\"의 합은\",input_value6+input_value7,\"입니다.\")"
   ]
  },
  {
   "cell_type": "code",
   "execution_count": 51,
   "id": "765b6c3d-e615-459d-863d-171bd179173f",
   "metadata": {},
   "outputs": [
    {
     "name": "stdin",
     "output_type": "stream",
     "text": [
      "이름을 입력하시오: 춘식이\n"
     ]
    },
    {
     "name": "stdout",
     "output_type": "stream",
     "text": [
      "춘식이 씨, 안녕하세요?\n",
      "파이썬에 오신 것을 환영합니다.\n"
     ]
    },
    {
     "name": "stdin",
     "output_type": "stream",
     "text": [
      "첫 번째 정수를 입력하세요: 300\n",
      "두 번째 정수를 입력하세요: 200\n"
     ]
    },
    {
     "name": "stdout",
     "output_type": "stream",
     "text": [
      "300 과 200 의 합은 500 입니다.\n"
     ]
    }
   ],
   "source": [
    "input_value5 = input(\"이름을 입력하시오:\")\n",
    "print(input_value5,\"씨, 안녕하세요?\")\n",
    "print(\"파이썬에 오신 것을 환영합니다.\")\n",
    "input_value6 = input(\"첫 번째 정수를 입력하세요:\")\n",
    "input_value7 = input(\"두 번째 정수를 입력하세요:\")\n",
    "print(input_value6,\"과\",input_value7,\"의 합은\",int(input_value6)+int(input_value7),\"입니다.\")"
   ]
  },
  {
   "cell_type": "code",
   "execution_count": 59,
   "id": "c023dc52-06ee-4ef2-a8e7-54c747c52f26",
   "metadata": {},
   "outputs": [
    {
     "name": "stdin",
     "output_type": "stream",
     "text": [
      "경기장은 어디입니까? 고척\n",
      "이긴 팀은 어디입니까? sk\n",
      "진팀은 어디입니가? kt\n",
      "우수 선수는 누구입니까? 라이언\n",
      "스코어는 몇대몇입니까? 10:5\n"
     ]
    },
    {
     "name": "stdout",
     "output_type": "stream",
     "text": [
      "[속보] sk 가 10:5 로 승리... \n",
      "오늘 고척 경기장에서 야구 경기가 있었습니다. sk 와 kt 는 치열한 공반전을 펼쳤습니다.\n",
      " 이 경기에서 라이언 가 맹활약을 했습니다.\n",
      " 그 끝내 sk 가 kt 를 10:5 로 승리하였습니다.\n",
      " 기사 끝.\n"
     ]
    }
   ],
   "source": [
    "value8 = input(\"경기장은 어디입니까?\")\n",
    "value9 = input(\"이긴 팀은 어디입니까?\")\n",
    "value10 = input(\"진팀은 어디입니가?\")\n",
    "value11 = input(\"우수 선수는 누구입니까?\")\n",
    "value12 = input(\"스코어는 몇대몇입니까?\")\n",
    "\n",
    "print(\"[속보]\",value9,\"가\",value12,\"로 승리...\",\"\\n오늘\",value8,\"경기장에서 야구 경기가 있었습니다.\",value9,\"와\",value10,\n",
    "      \"는 치열한 공반전을 펼쳤습니다.\\n 이 경기에서\",value11,\"가 맹활약을 했습니다.\\n\",\"그 끝내\",value9,\"가\",value10,\"를\",value12,\"로 승리하였습니다.\\n\",\n",
    "      \"기사 끝.\")"
   ]
  },
  {
   "cell_type": "markdown",
   "id": "dcc5a0f2-1d3f-4d5c-931a-f21dbfb66088",
   "metadata": {},
   "source": [
    "##### 입력 값을 여러 개의 변수에 저장\n",
    "- split()함수\n",
    "- split()함수는 인자로 전달된 구분자를 활용하여 문자여을 쪼갬\n",
    "- 그 결과를 list자료형을 반환"
   ]
  },
  {
   "cell_type": "code",
   "execution_count": 64,
   "id": "010b7716-4c32-404c-9fb7-0a02e1d9d8a6",
   "metadata": {},
   "outputs": [
    {
     "name": "stdout",
     "output_type": "stream",
     "text": [
      "<class 'list'>\n",
      "['1', '2', '3']\n"
     ]
    }
   ],
   "source": [
    "result = \"1,2,3\".split(\",\")\n",
    "print(type(result))\n",
    "print(result)"
   ]
  },
  {
   "cell_type": "code",
   "execution_count": 71,
   "id": "e1d61e69-246d-4c37-b2f3-0ad5bc7c1462",
   "metadata": {},
   "outputs": [
    {
     "name": "stdin",
     "output_type": "stream",
     "text": [
      "hh:mm:ss 의 형태로 시간을 입력해주세요 12:33:23\n"
     ]
    },
    {
     "name": "stdout",
     "output_type": "stream",
     "text": [
      "실행 결과:\n",
      "시 : 12\n",
      "분 : 33\n",
      "시 : 23\n"
     ]
    }
   ],
   "source": [
    "time = input(\"hh:mm:ss 의 형태로 시간을 입력해주세요\")\n",
    "result1 = time.split(\":\")\n",
    "print(\"실행 결과:\")\n",
    "print(\"시 :\",result1[0])\n",
    "print(\"분 :\",result1[1])\n",
    "print(\"시 :\",result1[2])"
   ]
  },
  {
   "cell_type": "code",
   "execution_count": 72,
   "id": "5b30fb87-6801-491d-bea4-bf1bc4474cdf",
   "metadata": {},
   "outputs": [
    {
     "name": "stdin",
     "output_type": "stream",
     "text": [
      "hh:mm:ss 의 형태로 시간을 입력해주세요 12:33:23\n"
     ]
    },
    {
     "name": "stdout",
     "output_type": "stream",
     "text": [
      "실행 결과:\n",
      "시 : 12\n",
      "분 : 33\n",
      "시 : 23\n"
     ]
    }
   ],
   "source": [
    "h,m,s = input(\"hh:mm:ss 의 형태로 시간을 입력해주세요\").split(\":\")\n",
    "\n",
    "print(\"실행 결과:\")\n",
    "print(\"시 :\",h)\n",
    "print(\"분 :\",m)\n",
    "print(\"시 :\",s)"
   ]
  },
  {
   "cell_type": "markdown",
   "id": "63449c5c-e5a5-4859-8ac7-b167b3aed42a",
   "metadata": {},
   "source": [
    "##### map() 내장 함수\n",
    "- iterable 객체에서 요소를 하나하나 꺼내어 특정 함수를 각각 적용하고 싶을 때\n",
    "- 반환은 map 클래스를 반환하는데 이는 iterable한 객체\n",
    "- list()함수 또는 tuple() 함수를 활용하여 map 클래스를 list 혹은 tuple로 변경 가능\n",
    "\n",
    "map(function,iterable) -> <class 'map'>(iterable)"
   ]
  },
  {
   "cell_type": "code",
   "execution_count": 96,
   "id": "9fbad3d8-cfb4-46cb-8bf1-0757df8558d1",
   "metadata": {},
   "outputs": [
    {
     "name": "stdout",
     "output_type": "stream",
     "text": [
      "[1.2, 2.5, 3.7, 4.6]\n",
      "[1.2, 2.5, 3.7, 4.6]\n"
     ]
    }
   ],
   "source": [
    "a = [1.2,2.5,3.7,4.6]\n",
    "a1 = list(map(float,a))\n",
    "\n",
    "print(a)\n",
    "print(a1)"
   ]
  },
  {
   "cell_type": "code",
   "execution_count": 95,
   "id": "0b8bf9ee-3029-42e8-9fb3-236f6a4ce493",
   "metadata": {},
   "outputs": [
    {
     "name": "stdin",
     "output_type": "stream",
     "text": [
      "국어,영어,수학,과학,점수를 입력해주세요 98,100,96,100\n"
     ]
    },
    {
     "name": "stdout",
     "output_type": "stream",
     "text": [
      "실행 결과:\n",
      "평균 점수는 98.5 점입니다.\n"
     ]
    }
   ],
   "source": [
    "a = input(\"국어,영어,수학,과학,점수를 입력해주세요\").split(\",\")\n",
    "kor,eng,mat,sci = list(map(int,a))\n",
    "\n",
    "print(\"실행 결과:\")\n",
    "print(\"평균 점수는\",(kor+eng+mat+sci)/4,\"점입니다.\")"
   ]
  },
  {
   "cell_type": "code",
   "execution_count": 97,
   "id": "bfae2e8e-e912-49b4-894b-5f270dda405c",
   "metadata": {},
   "outputs": [
    {
     "name": "stdin",
     "output_type": "stream",
     "text": [
      "국어,영어,수학,과학,점수를 입력해주세요 98,100,96,100\n"
     ]
    },
    {
     "name": "stdout",
     "output_type": "stream",
     "text": [
      "평균 점수는 98.5 점입니다.\n"
     ]
    }
   ],
   "source": [
    "kor,eng,mat,sci = map(int,input(\"국어,영어,수학,과학,점수를 입력해주세요\").split(\",\"))\n",
    "avg = (kor+eng+mat+sci)/4\n",
    "print(\"평균 점수는\",avg,\"점입니다.\")"
   ]
  },
  {
   "cell_type": "markdown",
   "id": "2cf26828-4c9b-4ae7-89eb-be3e4cf33156",
   "metadata": {},
   "source": [
    "##### print()함수를 여러 인자 값으로 사용한다면, 값과 값을 구분하는 기본 문자는 공백으로 되어있는걸 확인\n",
    "- **맨 마지막에** 'sep=구분 기호'를 작성하여 이를 공백이 아닌 다른 문자로 변경 가능합니다."
   ]
  },
  {
   "cell_type": "code",
   "execution_count": 98,
   "id": "6a5739e9-a1b6-43ad-a9b9-07be561fe0f1",
   "metadata": {},
   "outputs": [
    {
     "name": "stdout",
     "output_type": "stream",
     "text": [
      "value,1,1.1,[1, 2, 'text']\n"
     ]
    }
   ],
   "source": [
    "print(\"value\",1,1.1,[1,2,\"text\"],sep=\",\")"
   ]
  },
  {
   "cell_type": "code",
   "execution_count": 99,
   "id": "22303cca-37ee-4797-996f-b2701e988552",
   "metadata": {},
   "outputs": [
    {
     "name": "stdout",
     "output_type": "stream",
     "text": [
      "value 1 1.1 [1, 2, 'text']\n"
     ]
    }
   ],
   "source": [
    "print(\"value\",1,1.1,[1,2,\"text\"])"
   ]
  },
  {
   "cell_type": "code",
   "execution_count": 104,
   "id": "04500e1c-63b8-4f4c-9156-216b3bd19904",
   "metadata": {},
   "outputs": [
    {
     "name": "stdout",
     "output_type": "stream",
     "text": [
      "줄이 바뀌지 않습니다.그 이유는 end=\"\\n\"과 같이 기본 설정된 값을 빈 스트링으로 변경했기 때문입니다.\n",
      "sep,end는 맨 뒤에 서야하며 둘 간 순서는 상관없습니다.어떻게 사용하는지\n",
      "이해가 되시나요?"
     ]
    }
   ],
   "source": [
    "print(\"줄이 바뀌지 않습니다.\",end=\"\")\n",
    "print(\"그 이유는 end=\\\"\\\\n\\\"과 같이 기본 설정된 값을 빈 스트링으로 변경했기 때문입니다.\")\n",
    "print(\"sep\",\"end는 맨 뒤에 서야하며 둘 간 순서는 상관없습니다.\",sep=\",\",end=\"\")\n",
    "print(\"어떻게 사용하는지\",\"이해가 되시나요\",sep=\"\\n\",end=\"?\")"
   ]
  },
  {
   "cell_type": "code",
   "execution_count": 112,
   "id": "5fd459b6-8580-4843-a71a-2df1f7d93018",
   "metadata": {},
   "outputs": [
    {
     "name": "stdout",
     "output_type": "stream",
     "text": [
      "2021/02/03 18:33:23"
     ]
    }
   ],
   "source": [
    "year = '2021'\n",
    "month = '02'\n",
    "day = '03'\n",
    "hour = '18'\n",
    "minute = '33'\n",
    "second = '23'\n",
    "\n",
    "print(year,month,day,sep=\"/\",end=\" \")\n",
    "print(hour,minute,second,sep=\":\",end=\"\")"
   ]
  },
  {
   "cell_type": "code",
   "execution_count": 118,
   "id": "6ce1b49c-1c4b-4790-818e-4c75d8e6613f",
   "metadata": {},
   "outputs": [
    {
     "name": "stdin",
     "output_type": "stream",
     "text": [
      "사과와 귤을 몇개 드릴까요? 10,20\n"
     ]
    },
    {
     "name": "stdout",
     "output_type": "stream",
     "text": [
      "실행 결과:\n",
      "총 가격은 14000원입니다.\n"
     ]
    }
   ],
   "source": [
    "apple,orange = map(int,input(\"사과와 귤을 몇개 드릴까요?\").split(\",\"))\n",
    "price = (apple*1000) + (orange*200)\n",
    "\n",
    "print(\"실행 결과:\")\n",
    "print(\"총 가격은\",price,end=\"\")\n",
    "print(\"원입니다.\")"
   ]
  },
  {
   "cell_type": "markdown",
   "id": "0fb0e936-8d13-49ae-b559-9cdecdb391fb",
   "metadata": {},
   "source": [
    "#### if문과 elif문\n",
    "만약 이 조건에 True면 아래 들여쓰기한 부분 실행 :\n",
    "    들여쓰기(4칸)\n",
    "    들여쓰기(4칸)\n",
    "위 조건이 아니고 만약 이 조건이 True면 아래 들여쓰기한 부분을 실행:\n",
    "    들여쓰기(4칸)"
   ]
  },
  {
   "cell_type": "markdown",
   "id": "a11b4597-8233-467a-aa70-c423dc5f0f21",
   "metadata": {},
   "source": [
    "##### 객체 타입을 비교할 땐 is 키워드\n",
    "아래와 같이 작성\n",
    "좌 is 우\n",
    "좌,우 객체를 비교하여 동일한 종류의 객체라면 True / 다른 종류의 객체라면 False를 반환"
   ]
  },
  {
   "cell_type": "code",
   "execution_count": 119,
   "id": "ac5388a9-dd6e-44c6-85b2-6f4fc969b32c",
   "metadata": {},
   "outputs": [
    {
     "data": {
      "text/plain": [
       "True"
      ]
     },
     "execution_count": 119,
     "metadata": {},
     "output_type": "execute_result"
    }
   ],
   "source": [
    "type(input_value4) is int"
   ]
  },
  {
   "cell_type": "code",
   "execution_count": 120,
   "id": "7dd34117-bb13-4f04-b885-e070af5c6d60",
   "metadata": {},
   "outputs": [
    {
     "name": "stdout",
     "output_type": "stream",
     "text": [
      "input_value4는 정수입니다.\n"
     ]
    }
   ],
   "source": [
    "if type(input_value4) is int :\n",
    "    print(\"input_value4는 정수입니다.\")"
   ]
  },
  {
   "cell_type": "markdown",
   "id": "d69ab880-6478-4cfd-80c8-bf9b34576dd9",
   "metadata": {},
   "source": [
    "### if문에 True와 False를 복합적으로 다를 떄는 논리 연산자!\n",
    "논리 연사자를 사용하자!\n",
    "- and : 좌, 우 모두 True일 때 True를 반환합니다.\n",
    "        반대로 하나라도 False이면 False를 반환합니다."
   ]
  },
  {
   "cell_type": "code",
   "execution_count": 122,
   "id": "be08a810-1301-4c2b-80d7-374686c8f6e3",
   "metadata": {},
   "outputs": [
    {
     "name": "stdout",
     "output_type": "stream",
     "text": [
      "20대 입니다.\n",
      "감사합니다.\n"
     ]
    }
   ],
   "source": [
    "age = 29\n",
    "\n",
    "if 20 <= age < 30:\n",
    "    print(\"20대 입니다.\")\n",
    "elif 30 <= age < 40:\n",
    "    print(\"30대 입니다.\")\n",
    "    \n",
    "print(\"감사합니다.\")"
   ]
  },
  {
   "cell_type": "code",
   "execution_count": 229,
   "id": "96b96172-e643-4e6a-a1af-889e2e69820c",
   "metadata": {},
   "outputs": [
    {
     "name": "stdin",
     "output_type": "stream",
     "text": [
      "아이디를 입력하세요: qwe1232\n",
      "회원 등급을 입력해주세요: 2\n"
     ]
    },
    {
     "name": "stdout",
     "output_type": "stream",
     "text": [
      "제한적인 권한을 갖습니다.\n"
     ]
    }
   ],
   "source": [
    "ID = input(\"아이디를 입력하세요:\")\n",
    "\n",
    "\n",
    "if ID == \"admin\":\n",
    "    print(\"최고 관리자, 모든 권한을 갖습니다.\")\n",
    "else :\n",
    "    grade = int(input(\"회원 등급을 입력해주세요:\"))\n",
    "    \n",
    "    if  1 <= grade <= 3:\n",
    "        print(\"제한적인 권한을 갖습니다.\")\n",
    "    else :\n",
    "        print(\"권한이 없습니다.\")"
   ]
  },
  {
   "cell_type": "code",
   "execution_count": null,
   "id": "a1f32cdb-d667-4f62-b87e-42c197274cbd",
   "metadata": {},
   "outputs": [],
   "source": []
  }
 ],
 "metadata": {
  "kernelspec": {
   "display_name": "Python 3 (ipykernel)",
   "language": "python",
   "name": "python3"
  },
  "language_info": {
   "codemirror_mode": {
    "name": "ipython",
    "version": 3
   },
   "file_extension": ".py",
   "mimetype": "text/x-python",
   "name": "python",
   "nbconvert_exporter": "python",
   "pygments_lexer": "ipython3",
   "version": "3.9.13"
  }
 },
 "nbformat": 4,
 "nbformat_minor": 5
}
