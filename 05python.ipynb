{
 "cells": [
  {
   "cell_type": "code",
   "execution_count": 22,
   "id": "f3e4e329-2075-49b7-bae3-db82a632783f",
   "metadata": {},
   "outputs": [
    {
     "name": "stdout",
     "output_type": "stream",
     "text": [
      "*****\n",
      "*****\n",
      "*****\n",
      "*****\n",
      "*****\n"
     ]
    }
   ],
   "source": [
    "for i in range(5):\n",
    "    for a in range(5):\n",
    "        print('*',end='')\n",
    "    print()"
   ]
  },
  {
   "cell_type": "code",
   "execution_count": 24,
   "id": "71642db2-0e9b-4913-9747-da91b653ad40",
   "metadata": {},
   "outputs": [
    {
     "name": "stdout",
     "output_type": "stream",
     "text": [
      "*****\n",
      "*****\n",
      "*****\n",
      "*****\n",
      "*****\n"
     ]
    }
   ],
   "source": [
    "for i in range(5):\n",
    "    print('*'*5,end='\\n')"
   ]
  },
  {
   "cell_type": "markdown",
   "id": "58c3f941-35cc-461b-bb5a-4cb1fa9938dc",
   "metadata": {},
   "source": [
    "##### whil문\n",
    "- whil 반복문은 조건식으로만 동작\n",
    "- 아래 예제에서는 반복할 코드 안에 조건식에 영향을 주는 변화식이 포함\n",
    "- 실행 순서\n",
    "    1. 조건식을 판별\n",
    "    2. 조건식이 True인 동안 내내 while문의 바디를 실행\n",
    "    3. 조건식이 False가 되면 while문을 빠져나감\n",
    "ex)\n",
    "- i = 0 # 초기식\n",
    "- while i < 100: # while 조건식\n",
    "-    print(\"Hello world!\") # 반복할 코드\n",
    "-    i += 1 # 변화식"
   ]
  },
  {
   "cell_type": "code",
   "execution_count": 30,
   "id": "45b7fe07-72d8-461b-b6bf-5811049bb522",
   "metadata": {
    "scrolled": true,
    "tags": []
   },
   "outputs": [
    {
     "name": "stdout",
     "output_type": "stream",
     "text": [
      "Hello wolrd!\n",
      "Hello wolrd!\n",
      "Hello wolrd!\n",
      "Hello wolrd!\n",
      "Hello wolrd!\n",
      "Hello wolrd!\n",
      "Hello wolrd!\n",
      "Hello wolrd!\n",
      "Hello wolrd!\n",
      "Hello wolrd!\n",
      "Hello wolrd!\n",
      "Hello wolrd!\n",
      "Hello wolrd!\n",
      "Hello wolrd!\n",
      "Hello wolrd!\n",
      "Hello wolrd!\n",
      "Hello wolrd!\n",
      "Hello wolrd!\n",
      "Hello wolrd!\n",
      "Hello wolrd!\n",
      "Hello wolrd!\n",
      "Hello wolrd!\n",
      "Hello wolrd!\n",
      "Hello wolrd!\n",
      "Hello wolrd!\n",
      "Hello wolrd!\n",
      "Hello wolrd!\n",
      "Hello wolrd!\n",
      "Hello wolrd!\n",
      "Hello wolrd!\n",
      "Hello wolrd!\n",
      "Hello wolrd!\n",
      "Hello wolrd!\n",
      "Hello wolrd!\n",
      "Hello wolrd!\n",
      "Hello wolrd!\n",
      "Hello wolrd!\n",
      "Hello wolrd!\n",
      "Hello wolrd!\n",
      "Hello wolrd!\n",
      "Hello wolrd!\n",
      "Hello wolrd!\n",
      "Hello wolrd!\n",
      "Hello wolrd!\n",
      "Hello wolrd!\n",
      "Hello wolrd!\n",
      "Hello wolrd!\n",
      "Hello wolrd!\n",
      "Hello wolrd!\n",
      "Hello wolrd!\n",
      "Hello wolrd!\n",
      "Hello wolrd!\n",
      "Hello wolrd!\n",
      "Hello wolrd!\n",
      "Hello wolrd!\n",
      "Hello wolrd!\n",
      "Hello wolrd!\n",
      "Hello wolrd!\n",
      "Hello wolrd!\n",
      "Hello wolrd!\n",
      "Hello wolrd!\n",
      "Hello wolrd!\n",
      "Hello wolrd!\n",
      "Hello wolrd!\n",
      "Hello wolrd!\n",
      "Hello wolrd!\n",
      "Hello wolrd!\n",
      "Hello wolrd!\n",
      "Hello wolrd!\n",
      "Hello wolrd!\n",
      "Hello wolrd!\n",
      "Hello wolrd!\n",
      "Hello wolrd!\n",
      "Hello wolrd!\n",
      "Hello wolrd!\n",
      "Hello wolrd!\n",
      "Hello wolrd!\n",
      "Hello wolrd!\n",
      "Hello wolrd!\n",
      "Hello wolrd!\n",
      "Hello wolrd!\n",
      "Hello wolrd!\n",
      "Hello wolrd!\n",
      "Hello wolrd!\n",
      "Hello wolrd!\n",
      "Hello wolrd!\n",
      "Hello wolrd!\n",
      "Hello wolrd!\n",
      "Hello wolrd!\n",
      "Hello wolrd!\n",
      "Hello wolrd!\n",
      "Hello wolrd!\n",
      "Hello wolrd!\n",
      "Hello wolrd!\n",
      "Hello wolrd!\n",
      "Hello wolrd!\n",
      "Hello wolrd!\n",
      "Hello wolrd!\n",
      "Hello wolrd!\n",
      "Hello wolrd!\n"
     ]
    }
   ],
   "source": [
    "i=0\n",
    "\n",
    "while i <100:\n",
    "    print(\"Hello wolrd!\")\n",
    "    i += 1"
   ]
  },
  {
   "cell_type": "code",
   "execution_count": 32,
   "id": "a45f929f-f5a3-4b3a-bf66-da3a98aa1cb5",
   "metadata": {},
   "outputs": [
    {
     "name": "stdin",
     "output_type": "stream",
     "text": [
      "반복할 횟수를 입력하세요: 3\n"
     ]
    },
    {
     "name": "stdout",
     "output_type": "stream",
     "text": [
      "Hello world 3\n",
      "Hello world 2\n",
      "Hello world 1\n"
     ]
    }
   ],
   "source": [
    "##입력한 횟수대로 반복하는 예제, 다만 숫자를 감소시켜서 제어하고 있습니다.\n",
    "\n",
    "count = int(input(\"반복할 횟수를 입력하세요:\"))\n",
    "\n",
    "while count > 0:\n",
    "    print(\"Hello world\",count)\n",
    "    count -=1"
   ]
  },
  {
   "cell_type": "code",
   "execution_count": 42,
   "id": "72c75df8-4035-4f35-a796-77dae5bb9169",
   "metadata": {},
   "outputs": [
    {
     "name": "stdout",
     "output_type": "stream",
     "text": [
      "2\t4\t6\t8\t10\t12\t14\t16\t18\t20\t22\t24\t26\t28\t30\t32\t34\t36\t38\t40\t42\t44\t46\t48\t50\t52\t54\t56\t58\t60\t62\t64\t66\t68\t70\t72\t74\t76\t78\t80\t82\t84\t86\t88\t90\t92\t94\t96\t98\t100\t"
     ]
    }
   ],
   "source": [
    "## 1이상 100이하의 짝수를 '\\t'로 구분자로 해서 출력\n",
    "\n",
    "i = 0\n",
    "while i <=100:\n",
    "    i +=1\n",
    "    if i%2==0:\n",
    "        print(i,end=\"\\t\")"
   ]
  },
  {
   "cell_type": "code",
   "execution_count": 41,
   "id": "01c017f2-845f-4234-9189-0b068df673f3",
   "metadata": {},
   "outputs": [
    {
     "name": "stdout",
     "output_type": "stream",
     "text": [
      "2\t4\t6\t8\t10\t12\t14\t16\t18\t20\t22\t24\t26\t28\t30\t32\t34\t36\t38\t40\t42\t44\t46\t48\t50\t52\t54\t56\t58\t60\t62\t64\t66\t68\t70\t72\t74\t76\t78\t80\t82\t84\t86\t88\t90\t92\t94\t96\t98\t100\t"
     ]
    }
   ],
   "source": [
    "i = 1\n",
    "while i <=50:\n",
    "    print(i*2,end=\"\\t\")\n",
    "    i+=1"
   ]
  },
  {
   "cell_type": "code",
   "execution_count": 43,
   "id": "7c8da4bc-d397-43b3-b732-829868da01dd",
   "metadata": {},
   "outputs": [
    {
     "name": "stdin",
     "output_type": "stream",
     "text": [
      "구구단을 알려드립니다. 숫자를 입력하세요 9\n"
     ]
    },
    {
     "name": "stdout",
     "output_type": "stream",
     "text": [
      "9 * 1 = 9\n",
      "9 * 2 = 18\n",
      "9 * 3 = 27\n",
      "9 * 4 = 36\n",
      "9 * 5 = 45\n",
      "9 * 6 = 54\n",
      "9 * 7 = 63\n",
      "9 * 8 = 72\n",
      "9 * 9 = 81\n"
     ]
    }
   ],
   "source": [
    "a=int(input(\"구구단을 알려드립니다. 숫자를 입력하세요\"))\n",
    "\n",
    "i=1\n",
    "while i <=9:\n",
    "    print(a,'*',i,'=',a*i)\n",
    "    i+=1"
   ]
  },
  {
   "cell_type": "code",
   "execution_count": 68,
   "id": "44eec21d-3f99-47bc-9a2b-2513c9e8e1b2",
   "metadata": {},
   "outputs": [
    {
     "name": "stdin",
     "output_type": "stream",
     "text": [
      "학생의 수: 5\n",
      "1번 학생의 점수 70\n",
      "2번 학생의 점수 99\n",
      "3번 학생의 점수 55\n",
      "4번 학생의 점수 22\n",
      "5번 학생의 점수 55\n"
     ]
    },
    {
     "name": "stdout",
     "output_type": "stream",
     "text": [
      "평균: 60.2 점\n"
     ]
    }
   ],
   "source": [
    "s =int(input(\"학생의 수:\"))\n",
    "\n",
    "i=1\n",
    "t=0\n",
    "\n",
    "while i <=s:\n",
    "    a=int(input(str(i)+\"번 학생의 점수\"))\n",
    "    t+=a\n",
    "    i+=1\n",
    "print(\"평균:\",float(t/s),\"점\")"
   ]
  },
  {
   "cell_type": "code",
   "execution_count": 70,
   "id": "46e44fba-5f32-45b5-93f6-f6aaf0f6c34c",
   "metadata": {},
   "outputs": [
    {
     "name": "stdin",
     "output_type": "stream",
     "text": [
      "학생의 수 : 3\n",
      "1번 학생의 점수: 77\n",
      "2번 학생의 점수: 88\n",
      "3번 학생의 점수: 99\n"
     ]
    },
    {
     "name": "stdout",
     "output_type": "stream",
     "text": [
      "평균 :88.0점\n"
     ]
    }
   ],
   "source": [
    "tot_score = 0\n",
    "student_number = int(input(\"학생의 수 :\"))\n",
    "\n",
    "i=1\n",
    "\n",
    "while i <= student_number:\n",
    "    tot_score += int(input(str(i)+\"번 학생의 점수:\"))\n",
    "    i +=1\n",
    "\n",
    "print(\"평균 :\",tot_score / student_number , \"점\",sep=\"\")"
   ]
  },
  {
   "cell_type": "code",
   "execution_count": 71,
   "id": "ada56115-4db7-4ea3-8654-878c05e69357",
   "metadata": {},
   "outputs": [
    {
     "name": "stdout",
     "output_type": "stream",
     "text": [
      "97\n",
      "100\n",
      "77\n"
     ]
    }
   ],
   "source": [
    "scores = (97,100,77)\n",
    "i=0\n",
    "while i < len(scores):\n",
    "    print(scores[i])\n",
    "    i+=1"
   ]
  },
  {
   "cell_type": "code",
   "execution_count": 84,
   "id": "cfa1fe41-e1d3-46e2-82df-ec2ce4b317c7",
   "metadata": {},
   "outputs": [
    {
     "name": "stdout",
     "output_type": "stream",
     "text": [
      "79.0\n"
     ]
    }
   ],
   "source": [
    "class_a = (70,60,55,75,95,90,80,80,85,100)\n",
    "\n",
    "i=0\n",
    "j=0\n",
    "while i < len(class_a):\n",
    "    j+=class_a[i]\n",
    "    i+=1\n",
    "\n",
    "print(j/len(class_a))"
   ]
  },
  {
   "cell_type": "markdown",
   "id": "c922616f-749c-4579-a5d0-fa0710138e59",
   "metadata": {},
   "source": [
    "##### break문\n",
    "- for, while문에서 break는 해당 반복문을 완전히 빠져나갑니다.\n",
    "- 보통 반복문 안에서 특정 조건에 부합할 때 해당 반복문을 빠져나가기 위해 씁니다.\n",
    "- 그래서 break는 if문과 함께 쓰이는게 보통\n",
    "\n",
    "1000회 반복\n",
    "- for _ in range(10000):\n",
    "-    print(_)\n",
    "-    if _ ==100:\n",
    "-        break"
   ]
  },
  {
   "cell_type": "code",
   "execution_count": 85,
   "id": "bcfc4163-c36e-45aa-b7d8-91a227ef6198",
   "metadata": {},
   "outputs": [
    {
     "name": "stdout",
     "output_type": "stream",
     "text": [
      "0\n",
      "1\n",
      "2\n",
      "3\n",
      "4\n",
      "5\n"
     ]
    }
   ],
   "source": [
    "for _ in range(10000):\n",
    "    print(_)\n",
    "    if _ ==5:\n",
    "        break"
   ]
  },
  {
   "cell_type": "code",
   "execution_count": 88,
   "id": "3f58c72f-4ba1-4071-a589-26b064733b10",
   "metadata": {},
   "outputs": [
    {
     "name": "stdout",
     "output_type": "stream",
     "text": [
      "Hello world\n",
      "Hello world\n",
      "Hello world\n",
      "Hello world\n",
      "Hello world\n"
     ]
    }
   ],
   "source": [
    "##while문 - 무한 루프의 활동\n",
    "\n",
    "i=0\n",
    "while True:\n",
    "    print(\"Hello world\")\n",
    "    i +=1\n",
    "    if i == 5:\n",
    "        break"
   ]
  },
  {
   "cell_type": "code",
   "execution_count": 90,
   "id": "6d002399-9465-4ed7-978b-38a92fedd6bc",
   "metadata": {},
   "outputs": [
    {
     "name": "stdout",
     "output_type": "stream",
     "text": [
      "5050\n"
     ]
    }
   ],
   "source": [
    "i=0\n",
    "total=0\n",
    "while True:\n",
    "    total +=i\n",
    "    i+=1\n",
    "    if i>100:\n",
    "        break\n",
    "print(total)"
   ]
  },
  {
   "cell_type": "code",
   "execution_count": 91,
   "id": "bd663008-4670-4567-bd34-d19719a35216",
   "metadata": {},
   "outputs": [
    {
     "name": "stdin",
     "output_type": "stream",
     "text": [
      "q를 입력하면 종료됩니다. 진짜?\n",
      "q를 입력하면 종료됩니다. 안되\n",
      "q를 입력하면 종료됩니다. 정말?\n",
      "q를 입력하면 종료됩니다. q\n"
     ]
    },
    {
     "name": "stdout",
     "output_type": "stream",
     "text": [
      "프로그램을 종료합니다.\n"
     ]
    }
   ],
   "source": [
    "# while문 - 무한 루프의 활용\n",
    "# while문을 활용한 무한 루프와 input()을 조합하면 콘ㄴ솔 프로그램에서 원하는 값을 받을 때까지 입력을 받는 프로그램을 구현 할 수 있습니다.\n",
    "# 아래는 사용자로부터 원하는 결과를 입력 받아야 종료되는 프로그램 예제\n",
    "\n",
    "while True:\n",
    "    input_value = input(\"q를 입력하면 종료됩니다.\")\n",
    "    if input_value==\"q\":\n",
    "        break\n",
    "print(\"프로그램을 종료합니다.\")"
   ]
  },
  {
   "cell_type": "code",
   "execution_count": 92,
   "id": "bd0596a3-2b93-468a-99f2-fe9b5144f54c",
   "metadata": {},
   "outputs": [
    {
     "name": "stdout",
     "output_type": "stream",
     "text": [
      "1\t3\t5\t7\t9\t11\t13\t15\t17\t19\t21\t23\t25\t27\t29\t31\t33\t35\t37\t39\t41\t43\t45\t47\t49\t51\t53\t55\t57\t59\t61\t63\t65\t67\t69\t71\t73\t75\t77\t79\t81\t83\t85\t87\t89\t91\t93\t95\t97\t99\t"
     ]
    }
   ],
   "source": [
    "# continue\n",
    "# continue는 제어흐름을 유지하고, continue가 실행된 반복 횟수의 코드 실행만 건너뜁니다.\n",
    "\n",
    "for i in range(100): #0부터 99까지 증가하면서 100번 바녹\n",
    "    if i % 2==0:     #i를 2로 나누었을 때 나머지가 0면 짝수\n",
    "        continue     #아래 코드를 실행하지 않고 건너뜀\n",
    "    print(i,end=\"\\t\")"
   ]
  },
  {
   "cell_type": "code",
   "execution_count": 104,
   "id": "2298aee5-b3a8-4d9d-80f9-4b3fd6c5dc68",
   "metadata": {},
   "outputs": [
    {
     "name": "stdout",
     "output_type": "stream",
     "text": [
      "1\t3\t5\t7\t9\t11\t13\t15\t17\t19\t21\t23\t25\t27\t29\t31\t33\t35\t37\t39\t41\t43\t45\t47\t49\t51\t53\t55\t57\t59\t61\t63\t65\t67\t69\t71\t73\t75\t77\t79\t81\t83\t85\t87\t89\t91\t93\t95\t97\t99\t"
     ]
    }
   ],
   "source": [
    "i = 0\n",
    "\n",
    "while i <100:\n",
    "    i +=1\n",
    "    if i % 2 ==0:\n",
    "        continue\n",
    "    print(i,end=\"\\t\")"
   ]
  },
  {
   "cell_type": "code",
   "execution_count": 107,
   "id": "c2205708-5d51-45ec-94e5-d5944efb80ff",
   "metadata": {},
   "outputs": [
    {
     "name": "stdout",
     "output_type": "stream",
     "text": [
      "3 13 23 33 43 53 63 73 83 93 "
     ]
    }
   ],
   "source": [
    "i = 0\n",
    "while True:\n",
    "    if i % 10 !=3:\n",
    "        i+=1\n",
    "        continue\n",
    "    if i > 100:\n",
    "        break\n",
    "    print(i,end=' ')\n",
    "    i +=1"
   ]
  },
  {
   "cell_type": "code",
   "execution_count": 122,
   "id": "35029232-0aa9-49f9-a96f-4518345dd6bf",
   "metadata": {},
   "outputs": [
    {
     "name": "stdout",
     "output_type": "stream",
     "text": [
      "1 2 3 4 5 6 7 8 9 10 1 2 3 4 5 6 7 8 9 10 "
     ]
    }
   ],
   "source": [
    "for _ in range(1,11):\n",
    "    print(_,end=' ')\n",
    "    \n",
    "i =0\n",
    "while i<10:\n",
    "    i+=1\n",
    "    print(i,end=' ')"
   ]
  },
  {
   "cell_type": "code",
   "execution_count": 138,
   "id": "4eb16539-253f-4525-a074-abeb4fd85ed4",
   "metadata": {},
   "outputs": [
    {
     "name": "stdin",
     "output_type": "stream",
     "text": [
      "시작하는 정수 입력: 1\n",
      "끝나는 정수 입력: 10\n"
     ]
    },
    {
     "name": "stdout",
     "output_type": "stream",
     "text": [
      "1 부터 10 까지의 합은 55 입니다.\n"
     ]
    }
   ],
   "source": [
    "s_value = int(input(\"시작하는 정수 입력:\"))\n",
    "e_value = int(input(\"끝나는 정수 입력:\"))\n",
    "result = 0\n",
    "\n",
    "for _ in range(s_value,e_value+1):\n",
    "    result+=_\n",
    "print(f'{s_value} 부터 {e_value} 까지의 합은 {result} 입니다.')"
   ]
  },
  {
   "cell_type": "code",
   "execution_count": 139,
   "id": "fc4af675-d23b-4f69-8812-03eed5700cf7",
   "metadata": {},
   "outputs": [
    {
     "name": "stdin",
     "output_type": "stream",
     "text": [
      "시작하는 정수 입력: 1\n",
      "끝나는 정수 입력: 10\n"
     ]
    },
    {
     "name": "stdout",
     "output_type": "stream",
     "text": [
      "1 부터 10 까지의 합은 55 입니다.\n"
     ]
    }
   ],
   "source": [
    "t_value = int(input(\"시작하는 정수 입력:\"))\n",
    "d_value = int(input(\"끝나는 정수 입력:\"))\n",
    "\n",
    "t = 0\n",
    "i = t_value\n",
    "\n",
    "while i <=d_value:\n",
    "    t=t+i\n",
    "    i=i+1\n",
    "print(f'{t_value} 부터 {d_value} 까지의 합은 {t} 입니다.')"
   ]
  },
  {
   "cell_type": "code",
   "execution_count": 144,
   "id": "54b5600e-e504-4a54-9c51-ae47c1a527d9",
   "metadata": {},
   "outputs": [
    {
     "name": "stdin",
     "output_type": "stream",
     "text": [
      "시작하는 정수 입력: 4\n",
      "끝나는 정수 입력: 7\n"
     ]
    },
    {
     "name": "stdout",
     "output_type": "stream",
     "text": [
      "4 부터 7 까지의 합은 52 입니다.\n"
     ]
    }
   ],
   "source": [
    "s_value = int(input(\"시작하는 정수 입력:\"))\n",
    "e_value = int(input(\"끝나는 정수 입력:\"))\n",
    "result = 0\n",
    "\n",
    "for _ in range(s_value,e_value+1):\n",
    "    if _ % 2 ==0:\n",
    "        result+=_**2\n",
    "print(f'{s_value} 부터 {e_value} 까지의 합은 {result} 입니다.')"
   ]
  },
  {
   "cell_type": "code",
   "execution_count": 145,
   "id": "b2a9b593-1677-4bb9-8e23-008c51780819",
   "metadata": {},
   "outputs": [
    {
     "name": "stdin",
     "output_type": "stream",
     "text": [
      "시작하는 정수 입력: 4\n",
      "끝나는 정수 입력: 7\n"
     ]
    },
    {
     "name": "stdout",
     "output_type": "stream",
     "text": [
      "4 부터 7 까지의 합은 52 입니다.\n"
     ]
    }
   ],
   "source": [
    "t_value = int(input(\"시작하는 정수 입력:\"))\n",
    "d_value = int(input(\"끝나는 정수 입력:\"))\n",
    "\n",
    "t = 0\n",
    "i = t_value\n",
    "\n",
    "while i <=d_value:\n",
    "    if i % 2 ==0:\n",
    "        t=t+i**2\n",
    "    i=i+1\n",
    "print(f'{t_value} 부터 {d_value} 까지의 합은 {t} 입니다.')"
   ]
  },
  {
   "cell_type": "code",
   "execution_count": 157,
   "id": "1df50171-cecb-4255-8751-a3910eedd8cf",
   "metadata": {},
   "outputs": [
    {
     "name": "stdout",
     "output_type": "stream",
     "text": [
      "79.0\n"
     ]
    }
   ],
   "source": [
    "kor = [70,60,55,75,95,90,80,80,85,100]\n",
    "\n",
    "i=0\n",
    "j=0\n",
    "while i < len(kor):\n",
    "    j+=kor[i]\n",
    "    i+=1\n",
    "\n",
    "print(j/len(kor))"
   ]
  },
  {
   "cell_type": "code",
   "execution_count": 166,
   "id": "b17fd2f6-178c-4394-9582-413e10c30d70",
   "metadata": {},
   "outputs": [
    {
     "name": "stdout",
     "output_type": "stream",
     "text": [
      "79.0\n",
      "79.0\n"
     ]
    }
   ],
   "source": [
    "kor = [70,60,55,75,95,90,80,80,85,100]\n",
    "\n",
    "result = 0\n",
    "\n",
    "for _ in range(len(kor)):\n",
    "    result+=kor[_]\n",
    "print(result/len(kor))\n",
    "\n",
    "\n",
    "kor = [70,60,55,75,95,90,80,80,85,100]\n",
    "result = 0\n",
    "for _ in kor:\n",
    "    result+=_/len(kor)\n",
    "print(result)"
   ]
  },
  {
   "cell_type": "code",
   "execution_count": 180,
   "id": "d7c39005-29c0-46bc-9f46-9d5c38bd74d9",
   "metadata": {},
   "outputs": [
    {
     "name": "stdout",
     "output_type": "stream",
     "text": [
      "166833\n"
     ]
    }
   ],
   "source": [
    "i1 = 0\n",
    "\n",
    "for t1 in range(0,1000):\n",
    "    if t1 % 3 ==0 or t % 5==0:\n",
    "        i1+=t1\n",
    "print(i1)"
   ]
  },
  {
   "cell_type": "code",
   "execution_count": 184,
   "id": "f9c3e59c-6928-4bd0-a85e-b37041822777",
   "metadata": {},
   "outputs": [
    {
     "name": "stdout",
     "output_type": "stream",
     "text": [
      "[0, 1, 2, 3, 4, 5, 6, 7, 8, 9, 10, 11, 12, 13, 14, 15, 16, 17, 18, 19, 20, 21, 22, 23, 24, 25, 26, 27, 28, 29, 30, 31, 32, 33, 34, 35, 36, 37, 38, 39, 40, 41, 42, 43, 44, 45, 46, 47, 48, 49, 50, 51, 52, 53, 54, 55, 56, 57, 58, 59, 60, 61, 62, 63, 64, 65, 66, 67, 68, 69, 70, 71, 72, 73, 74, 75, 76, 77, 78, 79, 80, 81, 82, 83, 84, 85, 86, 87, 88, 89, 90, 91, 92, 93, 94, 95, 96, 97, 98, 99, 100, 101, 102, 103, 104, 105, 106, 107, 108, 109, 110, 111, 112, 113, 114, 115, 116, 117, 118, 119, 120, 121, 122, 123, 124, 125, 126, 127, 128, 129, 130, 131, 132, 133, 134, 135, 136, 137, 138, 139, 140, 141, 142, 143, 144, 145, 146, 147, 148, 149, 150, 151, 152, 153, 154, 155, 156, 157, 158, 159, 160, 161, 162, 163, 164, 165, 166, 167, 168, 169, 170, 171, 172, 173, 174, 175, 176, 177, 178, 179, 180, 181, 182, 183, 184, 185, 186, 187, 188, 189, 190, 191, 192, 193, 194, 195, 196, 197, 198, 199, 200, 201, 202, 203, 204, 205, 206, 207, 208, 209, 210, 211, 212, 213, 214, 215, 216, 217, 218, 219, 220, 221, 222, 223, 224, 225, 226, 227, 228, 229, 230, 231, 232, 233, 234, 235, 236, 237, 238, 239, 240, 241, 242, 243, 244, 245, 246, 247, 248, 249, 250, 251, 252, 253, 254, 255, 256, 257, 258, 259, 260, 261, 262, 263, 264, 265, 266, 267, 268, 269, 270, 271, 272, 273, 274, 275, 276, 277, 278, 279, 280, 281, 282, 283, 284, 285, 286, 287, 288, 289, 290, 291, 292, 293, 294, 295, 296, 297, 298, 299, 300, 301, 302, 303, 304, 305, 306, 307, 308, 309, 310, 311, 312, 313, 314, 315, 316, 317, 318, 319, 320, 321, 322, 323, 324, 325, 326, 327, 328, 329, 330, 331, 332, 333, 334, 335, 336, 337, 338, 339, 340, 341, 342, 343, 344, 345, 346, 347, 348, 349, 350, 351, 352, 353, 354, 355, 356, 357, 358, 359, 360, 361, 362, 363, 364, 365, 366, 367, 368, 369, 370, 371, 372, 373, 374, 375, 376, 377, 378, 379, 380, 381, 382, 383, 384, 385, 386, 387, 388, 389, 390, 391, 392, 393, 394, 395, 396, 397, 398, 399, 400, 401, 402, 403, 404, 405, 406, 407, 408, 409, 410, 411, 412, 413, 414, 415, 416, 417, 418, 419, 420, 421, 422, 423, 424, 425, 426, 427, 428, 429, 430, 431, 432, 433, 434, 435, 436, 437, 438, 439, 440, 441, 442, 443, 444, 445, 446, 447, 448, 449, 450, 451, 452, 453, 454, 455, 456, 457, 458, 459, 460, 461, 462, 463, 464, 465, 466, 467, 468, 469, 470, 471, 472, 473, 474, 475, 476, 477, 478, 479, 480, 481, 482, 483, 484, 485, 486, 487, 488, 489, 490, 491, 492, 493, 494, 495, 496, 497, 498, 499, 500, 501, 502, 503, 504, 505, 506, 507, 508, 509, 510, 511, 512, 513, 514, 515, 516, 517, 518, 519, 520, 521, 522, 523, 524, 525, 526, 527, 528, 529, 530, 531, 532, 533, 534, 535, 536, 537, 538, 539, 540, 541, 542, 543, 544, 545, 546, 547, 548, 549, 550, 551, 552, 553, 554, 555, 556, 557, 558, 559, 560, 561, 562, 563, 564, 565, 566, 567, 568, 569, 570, 571, 572, 573, 574, 575, 576, 577, 578, 579, 580, 581, 582, 583, 584, 585, 586, 587, 588, 589, 590, 591, 592, 593, 594, 595, 596, 597, 598, 599, 600, 601, 602, 603, 604, 605, 606, 607, 608, 609, 610, 611, 612, 613, 614, 615, 616, 617, 618, 619, 620, 621, 622, 623, 624, 625, 626, 627, 628, 629, 630, 631, 632, 633, 634, 635, 636, 637, 638, 639, 640, 641, 642, 643, 644, 645, 646, 647, 648, 649, 650, 651, 652, 653, 654, 655, 656, 657, 658, 659, 660, 661, 662, 663, 664, 665, 666, 667, 668, 669, 670, 671, 672, 673, 674, 675, 676, 677, 678, 679, 680, 681, 682, 683, 684, 685, 686, 687, 688, 689, 690, 691, 692, 693, 694, 695, 696, 697, 698, 699, 700, 701, 702, 703, 704, 705, 706, 707, 708, 709, 710, 711, 712, 713, 714, 715, 716, 717, 718, 719, 720, 721, 722, 723, 724, 725, 726, 727, 728, 729, 730, 731, 732, 733, 734, 735, 736, 737, 738, 739, 740, 741, 742, 743, 744, 745, 746, 747, 748, 749, 750, 751, 752, 753, 754, 755, 756, 757, 758, 759, 760, 761, 762, 763, 764, 765, 766, 767, 768, 769, 770, 771, 772, 773, 774, 775, 776, 777, 778, 779, 780, 781, 782, 783, 784, 785, 786, 787, 788, 789, 790, 791, 792, 793, 794, 795, 796, 797, 798, 799, 800, 801, 802, 803, 804, 805, 806, 807, 808, 809, 810, 811, 812, 813, 814, 815, 816, 817, 818, 819, 820, 821, 822, 823, 824, 825, 826, 827, 828, 829, 830, 831, 832, 833, 834, 835, 836, 837, 838, 839, 840, 841, 842, 843, 844, 845, 846, 847, 848, 849, 850, 851, 852, 853, 854, 855, 856, 857, 858, 859, 860, 861, 862, 863, 864, 865, 866, 867, 868, 869, 870, 871, 872, 873, 874, 875, 876, 877, 878, 879, 880, 881, 882, 883, 884, 885, 886, 887, 888, 889, 890, 891, 892, 893, 894, 895, 896, 897, 898, 899, 900, 901, 902, 903, 904, 905, 906, 907, 908, 909, 910, 911, 912, 913, 914, 915, 916, 917, 918, 919, 920, 921, 922, 923, 924, 925, 926, 927, 928, 929, 930, 931, 932, 933, 934, 935, 936, 937, 938, 939, 940, 941, 942, 943, 944, 945, 946, 947, 948, 949, 950, 951, 952, 953, 954, 955, 956, 957, 958, 959, 960, 961, 962, 963, 964, 965, 966, 967, 968, 969, 970, 971, 972, 973, 974, 975, 976, 977, 978, 979, 980, 981, 982, 983, 984, 985, 986, 987, 988, 989, 990, 991, 992, 993, 994, 995, 996, 997, 998, 999]\n"
     ]
    }
   ],
   "source": [
    "a=0\n",
    "total=0\n",
    "t=list(range(0,1000))\n",
    "\n",
    "while True:\n"
   ]
  },
  {
   "cell_type": "code",
   "execution_count": null,
   "id": "9d316f14-4690-46ae-a78c-cb394e8764c0",
   "metadata": {},
   "outputs": [],
   "source": []
  }
 ],
 "metadata": {
  "kernelspec": {
   "display_name": "Python 3 (ipykernel)",
   "language": "python",
   "name": "python3"
  },
  "language_info": {
   "codemirror_mode": {
    "name": "ipython",
    "version": 3
   },
   "file_extension": ".py",
   "mimetype": "text/x-python",
   "name": "python",
   "nbconvert_exporter": "python",
   "pygments_lexer": "ipython3",
   "version": "3.9.13"
  }
 },
 "nbformat": 4,
 "nbformat_minor": 5
}
