{
 "cells": [
  {
   "cell_type": "markdown",
   "id": "4a91f044-7af2-43c9-95bf-a733b0df40f0",
   "metadata": {},
   "source": [
    "### random 라이브러리\n",
    "\n",
    "- 임의의 수를 생성할 때 사용하는 표준 라이브러리\n",
    "- random randint(시작 정수, 끝 정수) 함수를 활용하면 시작 정수(포함) 부터 끝 정수(포함)까지 범위의 난수를 생성"
   ]
  },
  {
   "cell_type": "code",
   "execution_count": 3,
   "id": "4e352929-dafd-4fda-9a4c-974b25694878",
   "metadata": {},
   "outputs": [
    {
     "name": "stdout",
     "output_type": "stream",
     "text": [
      "[3, 3, 3, 2, 5, 2, 2, 2, 1, 3]\n"
     ]
    }
   ],
   "source": [
    "import random\n",
    "random_list = [random.randint(1,5) for _ in range(10)]\n",
    "print(random_list)"
   ]
  },
  {
   "cell_type": "code",
   "execution_count": 77,
   "id": "bd633986-b2d4-4158-8c4f-0898c25337c6",
   "metadata": {},
   "outputs": [
    {
     "name": "stdin",
     "output_type": "stream",
     "text": [
      "로또 번호 몇 개 드릴까요? 5\n"
     ]
    },
    {
     "name": "stdout",
     "output_type": "stream",
     "text": [
      "[[6, 2, 33, 32, 37, 14], [36, 22, 24, 15, 17, 42], [16, 32, 36, 5, 45, 22], [1, 34, 34, 30, 24, 27], [29, 38, 20, 42, 39, 38]]\n"
     ]
    }
   ],
   "source": [
    "a = int(input(\"로또 번호 몇 개 드릴까요?\"))\n",
    "\n",
    "number=[]\n",
    "\n",
    "i=0\n",
    "\n",
    "while i < 6:\n",
    "    i+=1\n",
    "    random_list = [[random.randint(1,45) for _ in range(6)] for __ in range(a)]\n",
    "    number.append(random_list)\n",
    "print(random_list)\n",
    "\n"
   ]
  },
  {
   "cell_type": "code",
   "execution_count": 93,
   "id": "26ef3fce-cdd8-4c34-99cd-c67d2c6ddb64",
   "metadata": {},
   "outputs": [
    {
     "name": "stdin",
     "output_type": "stream",
     "text": [
      "로또 번호 몇 개 드릴까요? 6\n"
     ]
    },
    {
     "ename": "AttributeError",
     "evalue": "'dict' object has no attribute 'append'",
     "output_type": "error",
     "traceback": [
      "\u001b[1;31m---------------------------------------------------------------------------\u001b[0m",
      "\u001b[1;31mAttributeError\u001b[0m                            Traceback (most recent call last)",
      "\u001b[1;32m~\\AppData\\Local\\Temp\\ipykernel_4628\\3224278911.py\u001b[0m in \u001b[0;36m<module>\u001b[1;34m\u001b[0m\n\u001b[0;32m      8\u001b[0m         \u001b[0mlotto_number\u001b[0m \u001b[1;33m=\u001b[0m \u001b[1;33m{\u001b[0m\u001b[0mrandom\u001b[0m\u001b[1;33m.\u001b[0m\u001b[0mrandint\u001b[0m\u001b[1;33m(\u001b[0m\u001b[1;36m1\u001b[0m\u001b[1;33m,\u001b[0m\u001b[1;36m45\u001b[0m\u001b[1;33m)\u001b[0m \u001b[1;32mfor\u001b[0m \u001b[0m_\u001b[0m \u001b[1;32min\u001b[0m \u001b[0mrange\u001b[0m\u001b[1;33m(\u001b[0m\u001b[1;36m6\u001b[0m\u001b[1;33m)\u001b[0m\u001b[1;33m}\u001b[0m\u001b[1;33m\u001b[0m\u001b[1;33m\u001b[0m\u001b[0m\n\u001b[0;32m      9\u001b[0m         \u001b[1;32mif\u001b[0m \u001b[0mlen\u001b[0m\u001b[1;33m(\u001b[0m\u001b[0mlotto_number\u001b[0m\u001b[1;33m)\u001b[0m \u001b[1;33m==\u001b[0m \u001b[1;36m6\u001b[0m \u001b[1;33m:\u001b[0m\u001b[1;33m\u001b[0m\u001b[1;33m\u001b[0m\u001b[0m\n\u001b[1;32m---> 10\u001b[1;33m             \u001b[0mlotto_numbers\u001b[0m\u001b[1;33m.\u001b[0m\u001b[0mappend\u001b[0m\u001b[1;33m(\u001b[0m\u001b[0mlotto_number\u001b[0m\u001b[1;33m)\u001b[0m\u001b[1;33m\u001b[0m\u001b[1;33m\u001b[0m\u001b[0m\n\u001b[0m\u001b[0;32m     11\u001b[0m     \u001b[0mresult\u001b[0m \u001b[1;33m=\u001b[0m \u001b[0mlist\u001b[0m\u001b[1;33m(\u001b[0m\u001b[0mlotto_numbers\u001b[0m\u001b[1;33m)\u001b[0m\u001b[1;33m\u001b[0m\u001b[1;33m\u001b[0m\u001b[0m\n\u001b[0;32m     12\u001b[0m     \u001b[0mresult\u001b[0m\u001b[1;33m.\u001b[0m\u001b[0msort\u001b[0m\u001b[1;33m(\u001b[0m\u001b[1;33m)\u001b[0m\u001b[1;33m\u001b[0m\u001b[1;33m\u001b[0m\u001b[0m\n",
      "\u001b[1;31mAttributeError\u001b[0m: 'dict' object has no attribute 'append'"
     ]
    }
   ],
   "source": [
    "import random\n",
    "\n",
    "count = int(input(\"로또 번호 몇 개 드릴까요?\"))\n",
    "\n",
    "for i in range(count):\n",
    "    lotto_numbers = {}\n",
    "    while len(lotto_numbers) !=6:\n",
    "        lotto_number = {random.randint(1,45) for _ in range(6)}\n",
    "        if len(lotto_number) == 6 :\n",
    "            lotto_numbers.append(lotto_number)\n",
    "    result = list(lotto_numbers)\n",
    "    result.sort()\n",
    "    print(lotto_numbers)"
   ]
  },
  {
   "cell_type": "code",
   "execution_count": 85,
   "id": "d758b41e-e35d-49f2-af94-b7d467a243f6",
   "metadata": {},
   "outputs": [
    {
     "name": "stdout",
     "output_type": "stream",
     "text": [
      "[5, 11, 16, 29, 35, 45]\n"
     ]
    }
   ],
   "source": [
    "import random\n",
    "\n",
    "lotto = {}\n",
    "\n",
    "while len(lotto) !=6:\n",
    "    lotto = {random.randint(1,45) for _ in range(6)} # 만약 중복이 나온다면 개수가 6개가 아니게 됩니다.\n",
    "\n",
    "result = list(lotto)\n",
    "result.sort()\n",
    "print(result)"
   ]
  },
  {
   "cell_type": "code",
   "execution_count": 75,
   "id": "906b6481-648f-4e71-9474-2b0d8cc9fc27",
   "metadata": {},
   "outputs": [
    {
     "name": "stdin",
     "output_type": "stream",
     "text": [
      "로또 번호 몇 개 드릴까요? 3\n"
     ]
    },
    {
     "name": "stdout",
     "output_type": "stream",
     "text": [
      "[1, 4, 12, 18, 22, 25]\n",
      "[3, 12, 14, 20, 31, 36]\n",
      "[5, 13, 18, 33, 35, 44]\n"
     ]
    }
   ],
   "source": [
    "import random\n",
    "\n",
    "count = int(input(\"로또 번호 몇 개 드릴까요?\"))\n",
    "\n",
    "for i in range(count):\n",
    "    lotto_numbers = []\n",
    "    while len(lotto_numbers) < 6 :\n",
    "        lotto_number = random.randint(1,45)\n",
    "        if lotto_number not in lotto_numbers:\n",
    "            lotto_numbers.append(lotto_number)\n",
    "    lotto_numbers.sort()\n",
    "    print(lotto_numbers)"
   ]
  },
  {
   "cell_type": "code",
   "execution_count": 59,
   "id": "bed02203-4349-4aff-8e36-1a0706658cd2",
   "metadata": {},
   "outputs": [
    {
     "name": "stdin",
     "output_type": "stream",
     "text": [
      "로또 번호 몇 개 드릴까요? 5\n"
     ]
    },
    {
     "name": "stdout",
     "output_type": "stream",
     "text": [
      "[6, 12, 13, 17, 18, 36]\n",
      "[4, 7, 14, 23, 29, 30]\n",
      "[3, 11, 13, 19, 41, 45]\n",
      "[6, 10, 12, 15, 26, 42]\n",
      "[11, 14, 17, 24, 25, 43]\n"
     ]
    }
   ],
   "source": [
    "count = int(input(\"로또 번호 몇 개 드릴까요?\"))\n",
    "\n",
    "for i in range(count):\n",
    "    lotto = [j for j in range(1,46)]\n",
    "    lotto_numbers = []\n",
    "    for _ in range(6):\n",
    "        lotto_number = lotto[random.randint(1, len(lotto) - 1)]\n",
    "        lotto_numbers.append(lotto_number)\n",
    "        lotto.remove(lotto_number)\n",
    "        lotto_numbers.sort()\n",
    "    print(lotto_numbers)\n",
    "                             "
   ]
  },
  {
   "cell_type": "markdown",
   "id": "1487557a-e621-4130-b02a-6663c3fca2bb",
   "metadata": {},
   "source": [
    "### 세트 자료형(Set)\n",
    "\n",
    "- 세트는 딕셔너리(Dictionary)처럼 중괄호 ({})를 사용해서 생성\n",
    "\n",
    "- 세트 자료형은 인덱스를 갖지 않습니다.\n",
    "\n",
    "- 자료형에서 요소는 키와 값 역할 모두 한다고 생각\n",
    "\n",
    "-  {} 는 빈 딕셔너리(Dictionary) 객체를 만듭\n",
    "\n",
    "- 리스트와 마찬가지로 세트 자료형도 컴프리헨션을 지원\n",
    "\n",
    "- 컴프리헨션 바깥을 감싸고 있는게 대괄호([]) 이면 리스트, 중괄호({})이면 세트 세트 컴프리헨션 작성 방법은 리스트 컴프리헨션과 동일\n",
    "\n",
    "### 세트에 값 넣는 방법\n",
    "\n",
    "- 세트 메서드로 add()가 있습니다.\n",
    "- 사용하는 방법은 세트 자료형.add(요소)\n",
    "- add(요소) 메서드는 한 번에 하나의 값만 넣을 수 있음\n",
    "\n",
    "### 요소 삭제하기 remove()\n",
    "- 요소를 삭제하는 방법으로 2가지 존재\n",
    "1. remove()를 활용한 삭제 : 세트 자료형.remove(요소)를 입력\n",
    "2. discard() 를 활용한 삭제 : 세트 자료형.discard(요소) **세트 자료형 내에 없는 요소를 삭제해도 에러가 발생되지 않음\n",
    "\n",
    "\n",
    "### 요소 임의 삭제하기 pop()\n",
    "- 요소를 랜덤하게 삭제하는 메서드 pop()\n",
    "1. 세트 자료형.pop()와 같이 입력 : **pop() 메서드는 삭제하려는 요소를 임의로 선택하고 반환한 뒤 삭제 , 세트 자료형 내에서 더 이상 삭제할 요소가 없다면 KeyError를 발생\n",
    "\n",
    "### 요소 전체 삭제 clear()\n",
    "- 세트 자료형.clear()\n",
    "\n",
    "### 요소 개수(크기) 구하기 len()\n",
    "- 세트 자료형에서도 len() 내장 함수를 활용하여 크기를 구할 수 있음\n",
    "\n",
    "### 합집합 : union() 혹은 Vertical bar(|)\n",
    "- set.union(세트자료형1, 세트자료형2) 의 형태로 사용\n",
    "- 세트 자료형1과 세트자료형2의 값을 합친 것에서 중복 제거\n",
    "- Vetical bar(|, 엔터키 위에 위치)를 활용하여 세트 자료형1 | 세트자료형2 처럼 사용할 수도 있습니다.\n",
    "\n",
    "### 교집합 : intersection() 혹은 &\n",
    "- set.intersection(세트 자료형1, 세트 자료형2)의 형태로 사용 \n",
    "- 세트 자료형1 & 세트자료형2 형태로도 사용\n",
    "\n",
    "### 차집합 : difference() 혹은 -\n",
    "- set.difference(세트 자료형1, 세트 자료형2)의 형태로 사용\n",
    "- 세트 자료형1과 세트자료형2 차집합을 반환\n",
    "- Hyphen(-)을 활용하여 세트 자료형1 - 세트 자료형2 처럼 사용할 수도 있습니다.\n",
    "\n",
    "### 대칭차집합 : symmetric_difference() 혹은 ^\n",
    "- set.symmetric_difference(세트 자료형1, 세트 자료형2)의 형태로 사용\n",
    "- 세트 자료형1과 세트 자료형2 전체 중 중복되지 않은 부분을 반환\n",
    "- Circumflex(^)을 활용하여 세트 자료형1 ^ 세트 자료형2 처럼 사용 가능\n",
    "\n",
    "### update() 혹은 |=\n",
    "- 세트 자료형1.update(세트 자료형2)의 형태로 사용\n",
    "- 세트 자료형1에 세트 자료형2을 추가 반환값은 없습니다\n",
    "- |= 활용하여 세트 자료형1 |= 세트 자료형2 처럼 사용할 수도 있습니다.\n",
    "\n",
    "### intersection_update() 혹은 &=\n",
    "- 세트 자료형1.intersection_update(세트 자료형2)의 형태로 사용\n",
    "- 세트 자료형1에 세트 자료형2과의 차집합을 대입 반환값은 없습니다.\n",
    "- -= 활용하여 세트 자료형1 -= 세트 자료형 2 처럼 사용\n",
    "\n",
    "### symkmetric_difference_update() 혹은 ^=\n",
    "- 세트 자료형1.symmetric_difference_update(세트 자료형2)의 형태로 사용\n",
    "- 세트 자료형1에 세트 자료형2과 겹치지 않은 전체 요소를 대입\n",
    "- 반환값은 없습니다.\n",
    "\n",
    "### 부분집합 issubset()\n",
    "- 세트 자료형1.issubset(세트 자료형2) 의 형태로 사용\n",
    "- 세트 자료형1이 세트 자료형2의 부분집합이면 True를 아니면 False를 반환\n",
    "- subset의 범위는 같다는 것도 포함(<=, 경우에 따라 >=) 가능\n",
    "\n",
    "### 상위집합 issuperseet()\n",
    "- 세트 자료형1.issuperset(세트 자료형2)의 형태로 사용\n",
    "- 세트 자료형1이 세트 자료형2의 상위집합이면 True를 아니면 False를 반환\n",
    "- superset의 범위는 같다는 것도 포함(>=, 경우에 따라 <=) 가능\n",
    "\n",
    "### 진부분집합과 진상위집합 >, <\n",
    "- 진부분(상위)집합은 부분(상위)집합이면서 같지 않을 때를 이야기\n",
    "- <,> 활용하여 표현 가능\n",
    "- 세트 자료형1이 세트 자료형2의 진부분집합인지 확인할 때 세트 자료형1< 세트자료형2 처럼 사용 가능\n",
    "- 이는 세트 자료형2가 세트 자료형1의 진상위집합인지 확인하는 것이기도 함\n",
    "\n",
    "### 세트가 겹치지 않는지 확인 isdisjoint()\n",
    "- 세트 자료형은 isdisjoint() 메서드를 통해서 겹치지 않는지(교집합이 없는지) 확인 가능\n",
    "- 세트 자료형1.isdisjoint(세트 자료형2)와 같은 형태로 작성\n",
    "- 세트 자료형1과 세트 자료형2가 겹치는 요소가 없다면 True 있다면 False를 반환"
   ]
  },
  {
   "cell_type": "code",
   "execution_count": 60,
   "id": "21374729-76a0-4097-b85a-a29838a6093c",
   "metadata": {},
   "outputs": [
    {
     "name": "stdout",
     "output_type": "stream",
     "text": [
      "set() <class 'set'>\n",
      "{1}\n"
     ]
    }
   ],
   "source": [
    "set_variable = set()\n",
    "print(set_variable, type(set_variable))\n",
    "\n",
    "# 정수 1 값을 set_variable에 5차례 넣습니다\n",
    "[set_variable.add(1) for _ in range(5)]\n",
    "\n",
    "# 출력하면 중복된 값이 없는걸 확인 할 수 있습니다.\n",
    "print(set_variable)"
   ]
  },
  {
   "cell_type": "code",
   "execution_count": 103,
   "id": "41ac1a07-1edc-432c-8ad9-5321d0bff848",
   "metadata": {},
   "outputs": [
    {
     "name": "stdout",
     "output_type": "stream",
     "text": [
      "5\n"
     ]
    }
   ],
   "source": [
    "A = {_ for _ in range(1,5)}\n",
    "b = {_ for _ in range(2,6) if _ !=3}\n",
    "\n",
    "print(a)"
   ]
  },
  {
   "cell_type": "code",
   "execution_count": 98,
   "id": "393bb19e-695a-4ece-896e-536fb131af66",
   "metadata": {},
   "outputs": [
    {
     "name": "stdout",
     "output_type": "stream",
     "text": [
      "{1, 2, 3, 4}\n"
     ]
    }
   ],
   "source": [
    "list_sample = [1,2,2,3,3,3,4,4,4,4]\n",
    "\n",
    "print(set(list_sample))\n",
    "\n",
    "### 교집합 : intersection() 혹은 &\n",
    "- set.intersection(세트 자료형1, 세트 자료형2)의 형태로 사용 \n",
    "- 세트 자료형1 & 세트자료형2 형태로도 사용"
   ]
  },
  {
   "cell_type": "code",
   "execution_count": 105,
   "id": "c4b532c8-7ed8-4f11-80c3-bff7cd75fa58",
   "metadata": {},
   "outputs": [
    {
     "name": "stdout",
     "output_type": "stream",
     "text": [
      "[15, 30, 45, 60, 75, 90]\n"
     ]
    }
   ],
   "source": [
    "set3= { _ for _ in range(1,101) if _ % 3 ==0}\n",
    "set5= { __ for __ in range(1,101) if __ % 5 == 0}\n",
    "\n",
    "result_set = set.intersection(set3,set5)\n",
    "\n",
    "result_set = list(result_set)\n",
    "result_set.sort()\n",
    "\n",
    "print(result_set)"
   ]
  },
  {
   "cell_type": "code",
   "execution_count": 117,
   "id": "777fc9c8-f99a-4c8f-a562-d6d701a7bbe2",
   "metadata": {},
   "outputs": [
    {
     "name": "stdout",
     "output_type": "stream",
     "text": [
      "['개인정보 조회', '구매 관리', '근태 관리', '시스템 관리', '인사 관리', '회계 관리']\n"
     ]
    }
   ],
   "source": [
    "role_admin = (\"회계 관리\", \"인사 관리\", \"구매 관리\",\"시스템 관리\")\n",
    "role_hr = (\"인사 관리\",\"개인정보 조회\",\"회계 관리\",\"근태 관리\")\n",
    "role_user = (\"개인정보 조회\",\"근태 관리\")\n",
    "\n",
    "result_role = role_admin + role_hr + role_user\n",
    "\n",
    "result_role = set(result_role)\n",
    "result_role = list(result_role)\n",
    "result_role.sort()\n",
    "\n",
    "print(result_role)"
   ]
  },
  {
   "cell_type": "code",
   "execution_count": 114,
   "id": "4330d838-d63e-4ea2-91e4-a9745540e158",
   "metadata": {},
   "outputs": [
    {
     "name": "stdout",
     "output_type": "stream",
     "text": [
      ",\n",
      "개인정보 조회,구매 관리,근태 관리,시스템 관리,인사 관리,회계 관리"
     ]
    }
   ],
   "source": [
    "role_admin = (\"회계 관리\", \"인사 관리\", \"구매 관리\",\"시스템 관리\")\n",
    "role_hr = (\"인사 관리\",\"개인정보 조회\",\"회계 관리\",\"근태 관리\")\n",
    "role_user = (\"개인정보 조회\",\"근태 관리\")\n",
    "\n",
    "menus = list(set(role_admin + role_hr + role_user))\n",
    "menus.sort()\n",
    "end_char = \",\"\n",
    "for menu in menus:\n",
    "    if menus[-1] == menu:\n",
    "        end_char =\"\"\n",
    "    print(menu,end=end_char)"
   ]
  },
  {
   "cell_type": "code",
   "execution_count": 197,
   "id": "9da2f848-690c-4687-bea7-8165d887acb8",
   "metadata": {},
   "outputs": [
    {
     "name": "stdout",
     "output_type": "stream",
     "text": [
      "2부터 입력하신 수까지의 모든 소수를 찾는 프로그램입니다.\n"
     ]
    },
    {
     "name": "stdin",
     "output_type": "stream",
     "text": [
      "찾는 범위를 입력하세요: 100\n"
     ]
    },
    {
     "name": "stdout",
     "output_type": "stream",
     "text": [
      "2 3 5 7 11 13 17 \n",
      "19 23 29 31 37 41 43 \n",
      "47 53 59 61 67 71 73 \n",
      "79 83 89 97 "
     ]
    }
   ],
   "source": [
    "print(\"2부터 입력하신 수까지의 모든 소수를 찾는 프로그램입니다.\")\n",
    "\n",
    "inData = int(input(\"찾는 범위를 입력하세요:\"))\n",
    "\n",
    "i = 2\n",
    "line = 0\n",
    "\n",
    "while i <=inData:\n",
    "    j=2\n",
    "    while j <=i:\n",
    "        if i % j ==0:\n",
    "            break\n",
    "        j +=1\n",
    "    if i ==j:\n",
    "        print(i, end= ' ')\n",
    "        line = line +1\n",
    "        if line ==7:\n",
    "            line = 0\n",
    "            print()\n",
    "    i+=1"
   ]
  },
  {
   "cell_type": "code",
   "execution_count": 219,
   "id": "45222d11-2e9c-46d4-9e43-0031c395d627",
   "metadata": {},
   "outputs": [],
   "source": [
    "def function_name(message):\n",
    "    x = input(message)\n",
    "    print(x)\n",
    "    return 5+5"
   ]
  },
  {
   "cell_type": "code",
   "execution_count": 220,
   "id": "44898a20-0706-4672-9079-544e2c19e518",
   "metadata": {},
   "outputs": [
    {
     "name": "stdin",
     "output_type": "stream",
     "text": [
      "값을 입력해주세요 sdf\n"
     ]
    },
    {
     "name": "stdout",
     "output_type": "stream",
     "text": [
      "sdf\n"
     ]
    },
    {
     "name": "stdin",
     "output_type": "stream",
     "text": [
      "값을 입력해주세요 sdf\n"
     ]
    },
    {
     "name": "stdout",
     "output_type": "stream",
     "text": [
      "sdf\n"
     ]
    },
    {
     "data": {
      "text/plain": [
       "10"
      ]
     },
     "execution_count": 220,
     "metadata": {},
     "output_type": "execute_result"
    }
   ],
   "source": [
    "function_name(\"값을 입력해주세요\")\n",
    "function_name(\"값을 입력해주세요\")"
   ]
  },
  {
   "cell_type": "code",
   "execution_count": 221,
   "id": "192f8f58-13e0-41a3-bef4-419ed5936b78",
   "metadata": {},
   "outputs": [],
   "source": [
    "def function2():\n",
    "    \"\"\"\n",
    "    Docs String 부분\n",
    "    이곳에 함수의 설명에 대해 적어놓으면 됩니다.\n",
    "    \n",
    "    \"\"\"\n",
    "    pass"
   ]
  },
  {
   "cell_type": "code",
   "execution_count": 224,
   "id": "c94d7bfd-30ca-4a3e-9910-4f59b74688f1",
   "metadata": {},
   "outputs": [
    {
     "name": "stdout",
     "output_type": "stream",
     "text": [
      "\n",
      "    Docs String 부분\n",
      "    이곳에 함수의 설명에 대해 적어놓으면 됩니다.\n",
      "    \n",
      "    \n"
     ]
    }
   ],
   "source": [
    "print(function2.__doc__)"
   ]
  },
  {
   "cell_type": "raw",
   "id": "5ddc63bc-5ff2-4e28-ae42-493a694897c5",
   "metadata": {},
   "source": [
    "def 함수_이름(위치_인자,위치_인자2,*가변_위치,키워드_인자,키워드_인자2,**가변_키워드):\n",
    "    \"\"\"\n",
    "    \n",
    "    Doc String을 적는 곳\n",
    "    \n",
    "    작성자 : 서영호\n",
    "    작성일자 : 2023.01.03\n",
    "    \n",
    "    \"\"\"\n",
    "    함수의 바디\n",
    "    함수의 바디\n",
    "    \n",
    "    return 반환값  "
   ]
  },
  {
   "cell_type": "code",
   "execution_count": 225,
   "id": "e1f63585-9ba2-41e3-9c6d-99c599261d70",
   "metadata": {},
   "outputs": [
    {
     "name": "stdout",
     "output_type": "stream",
     "text": [
      "Built-in mutable sequence.\n",
      "\n",
      "If no argument is given, the constructor creates a new empty list.\n",
      "The argument must be an iterable if specified.\n"
     ]
    }
   ],
   "source": [
    "print(list.__doc__)"
   ]
  },
  {
   "cell_type": "markdown",
   "id": "b8b1a26a-2fc5-4c72-ab73-5b5e012b982a",
   "metadata": {},
   "source": [
    "### 인자(parameter)\n",
    "- 함수(또는 메서드) 정의에서 함수가 받을 수 있는 변수, 함수인자 혹은 매개변수라고 부릅니다.\n",
    "- 인자는 함수 정의절에서 소괄호 안에 정의됩니다.\n",
    "1. 위치-키워드(positional or keyword) : 위치로 혹은 키워드로 전달될 수 있는 인자를 말합니다. 매개변수의 기본 형태\n",
    "2. 위치 전용(positional-only) : /문자를 기준으로 좌측에 위치한 인자를 말합니다.\n",
    "3. 키워드전용(keyword-only): *문자를 기준으로 우측에 위치한 인자\n",
    "4. 가변 위치(var positional) : 위치 매개변수 외에 추가적인 위치 매개변수를 개수에 상관없이 받을 수있습니다. 변수명 앞에 *를 앞에 하나 붙여 표기\n",
    "5. 가변 키워드(var keyword) : 키워드 매개변수 외에 추가적인 키워드 매개변수를 개수에 상관없이 받을 수 있습니다. 변수명 앞에 **를 두개 붙여 표기합니다."
   ]
  },
  {
   "cell_type": "code",
   "execution_count": null,
   "id": "327285a9-e952-4e98-8e66-b3f50597ae8e",
   "metadata": {},
   "outputs": [],
   "source": [
    "# 함수 정의절  *args : 갯수와 상관없이 받아주는 아이 **kargs : 키워드도 갯수와 상관없이 받아주는 아이\n",
    "def function_name(positional, positional2, *args,keyword1=1,**kargs):\n",
    "    pass # body내용"
   ]
  },
  {
   "cell_type": "code",
   "execution_count": 253,
   "id": "c58fe79a-a526-4dad-a673-2ec04b85a15f",
   "metadata": {},
   "outputs": [],
   "source": [
    "## 성적 등급\n",
    "\n",
    "# 함수 정의절\n",
    "\n",
    "# 인자(=매개변수,parameters)\n",
    "\n",
    "def get_grade(score,student_number,name=\"홍길동\"): #기본값을 받은 인자가 맨 뒤로 와야한다\n",
    "    \"\"\"\n",
    "    숫자로된 점수를 넣으시면 학점의 결과를 반환합니다.\n",
    "    \n",
    "    \"\"\"\n",
    "    print(f\"{student_number},{name}의 성적을 확인합니다.\")\n",
    "    if 85 <= score <= 100:\n",
    "        return \"A\"\n",
    "    elif 70 <= score <= 84:\n",
    "        return \"B\"\n",
    "    elif 55 <= score <= 69:\n",
    "        return \"C\"\n",
    "    elif 40 <= score <= 54:\n",
    "        return \"D\"\n",
    "    elif 0 <= score <= 39:\n",
    "        return \"E\""
   ]
  },
  {
   "cell_type": "code",
   "execution_count": 256,
   "id": "7b814348-94b4-4ef8-82ac-325820665790",
   "metadata": {},
   "outputs": [
    {
     "name": "stdout",
     "output_type": "stream",
     "text": [
      "201408143,헐의 성적을 확인합니다.\n"
     ]
    },
    {
     "data": {
      "text/plain": [
       "'A'"
      ]
     },
     "execution_count": 256,
     "metadata": {},
     "output_type": "execute_result"
    }
   ],
   "source": [
    "# 함수 호출\n",
    "# 인수(arguments)\n",
    "get_grade(100,\"201408143\",\"헐\")"
   ]
  },
  {
   "cell_type": "code",
   "execution_count": 229,
   "id": "aec95472-2675-4de2-85d3-9ab6963aeec0",
   "metadata": {},
   "outputs": [
    {
     "name": "stdin",
     "output_type": "stream",
     "text": [
      "점수입력 30\n"
     ]
    },
    {
     "name": "stdout",
     "output_type": "stream",
     "text": [
      "E\n"
     ]
    }
   ],
   "source": [
    "a= int(input(\"점수입력\"))\n",
    "\n",
    "print(get_grade(a))"
   ]
  },
  {
   "cell_type": "code",
   "execution_count": 262,
   "id": "269359e3-1a25-4e66-933b-23284f62379b",
   "metadata": {},
   "outputs": [],
   "source": [
    "# 함수 정의절\n",
    "# 인자(매개변수, parameter) - non-default, default 종류\n",
    "# positional-only : /문자를 기준으로 왼편에 온다.(위치로 인하여 전달 하는 값)\n",
    "def add_number(number1,/,number2):\n",
    "    \"\"\"\n",
    "    숫자 number1과 숫자 number2를 전달 받아 더한 결과를 반환합니다.\n",
    "    \"\"\"\n",
    "    return number1 + number2"
   ]
  },
  {
   "cell_type": "code",
   "execution_count": 265,
   "id": "2a3d5e6b-c368-4bb9-b915-be7b4fd20c91",
   "metadata": {},
   "outputs": [],
   "source": [
    "# 함수 정의절\n",
    "# 인자(매개변수, parameter) - non-default, default 종류\n",
    "# positional-only : /문자를 기준으로 왼편에 온다.(위치로 인하여 전달 하는 값)\n",
    "def add_number(number2,number1 = 3,/):\n",
    "    \"\"\"\n",
    "    숫자 number1과 숫자 number2를 전달 받아 더한 결과를 반환합니다.\n",
    "    \"\"\"\n",
    "    return number1 + number2"
   ]
  },
  {
   "cell_type": "code",
   "execution_count": 260,
   "id": "503de60b-7d62-4efd-af07-098841091ee5",
   "metadata": {},
   "outputs": [
    {
     "name": "stdout",
     "output_type": "stream",
     "text": [
      "\n",
      "    숫자 number1과 숫자 number2를 전달 받아 더한 결과를 반환합니다.\n",
      "    \n"
     ]
    }
   ],
   "source": [
    "print(add_number.__doc__)"
   ]
  },
  {
   "cell_type": "code",
   "execution_count": 272,
   "id": "da634051-23d3-4813-8545-fc2d041e7158",
   "metadata": {},
   "outputs": [
    {
     "name": "stdout",
     "output_type": "stream",
     "text": [
      "5\n"
     ]
    }
   ],
   "source": [
    "# 인수(argument) - positional argument, keyword argument\n",
    "\n",
    "result = add_number(2) # 소괄호 -> call\n",
    "\n",
    "print(result)"
   ]
  },
  {
   "cell_type": "code",
   "execution_count": 277,
   "id": "f10c146a-3ecd-4f2d-97ad-c782d3ba09a8",
   "metadata": {},
   "outputs": [],
   "source": [
    "# 함수 정의절\n",
    "# 인자(매개변수, parameter) - non-default, default 종류\n",
    "# keyword-only : *문자를 기준으로 우측에 온다.\n",
    "def minus_number(*,number1,number2=3):\n",
    "    \"\"\"\n",
    "    숫자 number1과 숫자 number2를 전달 받아 더한 결과를 반환합니다.\n",
    "    \"\"\"\n",
    "    return number1 - number2"
   ]
  },
  {
   "cell_type": "code",
   "execution_count": 278,
   "id": "7fbe7d84-aa0f-49aa-8cf2-6e3bbcdaee4a",
   "metadata": {},
   "outputs": [
    {
     "data": {
      "text/plain": [
       "15"
      ]
     },
     "execution_count": 278,
     "metadata": {},
     "output_type": "execute_result"
    }
   ],
   "source": [
    "# 함수를 호출(Call)\n",
    "# 인수(argument) - positional argument, keyword argument\n",
    "minus_number(number1=20, number2=5)"
   ]
  },
  {
   "cell_type": "code",
   "execution_count": 279,
   "id": "bac96ff6-ed62-4695-a1bd-588f4de4a388",
   "metadata": {},
   "outputs": [],
   "source": [
    "# 함수 정의절\n",
    "# 인자(매개변수, parameter) - non-default, default 종류\n",
    "# positional-only : /문자를 기준으로 왼편에 온다.\n",
    "# keyword-only : *문자를 기준으로 우측에 온다.\n",
    "def multi_number(number1,/,*,number2):\n",
    "    \"\"\"\n",
    "    숫자 number1과 숫자 number2를 전달 받아 더한 결과를 반환합니다.\n",
    "    \"\"\"\n",
    "    return number1 * number2"
   ]
  },
  {
   "cell_type": "code",
   "execution_count": 285,
   "id": "656a432f-4d99-4293-9a7f-65ed449a0f15",
   "metadata": {},
   "outputs": [
    {
     "data": {
      "text/plain": [
       "50"
      ]
     },
     "execution_count": 285,
     "metadata": {},
     "output_type": "execute_result"
    }
   ],
   "source": [
    "multi_number(5,number2=10)"
   ]
  },
  {
   "cell_type": "code",
   "execution_count": 286,
   "id": "b7b83016-fedc-484a-975d-4270c174cee1",
   "metadata": {},
   "outputs": [],
   "source": [
    "def string_line(str_value,/,str_len=70,*,sep=\"#\"):\n",
    "    \"\"\"\n",
    "    str_value는 가운데 오는 텍스트입니다.\n",
    "    str_len은 텍스트의 설정할 길이입니다.\n",
    "    sep는 구분선을 그을때 쓰는 문자입니다.\n",
    "    \"\"\"\n",
    "    print(str_value.center(str_len,sep))"
   ]
  },
  {
   "cell_type": "code",
   "execution_count": 287,
   "id": "8f382333-4b19-47fc-b6d5-e27a40d5f8a9",
   "metadata": {},
   "outputs": [
    {
     "name": "stdout",
     "output_type": "stream",
     "text": [
      "************************구분************************\n"
     ]
    }
   ],
   "source": [
    "string_line(\"구분\",50,sep=\"*\")"
   ]
  },
  {
   "cell_type": "code",
   "execution_count": 288,
   "id": "867dc87a-dff9-4e32-a00d-904b761c36fb",
   "metadata": {},
   "outputs": [
    {
     "data": {
      "text/plain": [
       "50"
      ]
     },
     "execution_count": 288,
     "metadata": {},
     "output_type": "execute_result"
    }
   ],
   "source": [
    "len('************************구분************************')"
   ]
  },
  {
   "cell_type": "code",
   "execution_count": 290,
   "id": "481bad0a-c4a8-4c21-b2df-fe9cead111f7",
   "metadata": {},
   "outputs": [
    {
     "name": "stdout",
     "output_type": "stream",
     "text": [
      "------------------------------------------------절취선-------------------------------------------------\n"
     ]
    }
   ],
   "source": [
    "string_line(\"절취선\",str_len=100,sep=\"-\")"
   ]
  },
  {
   "cell_type": "code",
   "execution_count": 291,
   "id": "de168abd-1abb-45e5-9139-d5b950460e72",
   "metadata": {},
   "outputs": [
    {
     "data": {
      "text/plain": [
       "100"
      ]
     },
     "execution_count": 291,
     "metadata": {},
     "output_type": "execute_result"
    }
   ],
   "source": [
    "len('------------------------------------------------절취선-------------------------------------------------')"
   ]
  },
  {
   "cell_type": "code",
   "execution_count": 292,
   "id": "968c6c83-754e-48d9-927b-552137814af2",
   "metadata": {},
   "outputs": [
    {
     "name": "stdout",
     "output_type": "stream",
     "text": [
      "1 1 1 1 1 1 1 1 1 1\n"
     ]
    }
   ],
   "source": [
    "print(\"1\",\"1\",\"1\",\"1\",\"1\",\"1\",\"1\",\"1\",\"1\",\"1\")"
   ]
  },
  {
   "cell_type": "code",
   "execution_count": 307,
   "id": "d6fde88f-d177-47bb-9853-8ae8ea2087b4",
   "metadata": {},
   "outputs": [],
   "source": [
    "# *args: var positional 가변위치\n",
    "def test_func(a,b,c,*args):\n",
    "    print(f\"a: {a} b: {b}c :{c}\")\n",
    "    print(type(args))\n",
    "    print(args)"
   ]
  },
  {
   "cell_type": "code",
   "execution_count": 308,
   "id": "9b80f8ae-53d9-4d73-a6ba-57d11d038560",
   "metadata": {},
   "outputs": [
    {
     "name": "stdout",
     "output_type": "stream",
     "text": [
      "a: a 위치입니다 b:  b 위치입니다c :c위치입니다\n",
      "<class 'tuple'>\n",
      "('여기는', '어딜까요?', '몇개', '더')\n"
     ]
    }
   ],
   "source": [
    "test_func(\"a 위치입니다\",\" b 위치입니다\",\"c위치입니다\",\"여기는\",\"어딜까요?\",\"몇개\",\"더\")"
   ]
  },
  {
   "cell_type": "code",
   "execution_count": 311,
   "id": "472bfbc8-74fe-40b0-be77-1b26dc36a5aa",
   "metadata": {},
   "outputs": [],
   "source": [
    "# **kargs : var keyword 가변 키워드\n",
    "def test_func2(a=\"a\",b=\"b\",**kargs):\n",
    "    print(a,b)\n",
    "    print(type(kargs))\n",
    "    print(kargs)"
   ]
  },
  {
   "cell_type": "code",
   "execution_count": 313,
   "id": "e9e3af9f-f7bf-48b6-b5ac-06c94fe553cd",
   "metadata": {},
   "outputs": [
    {
     "name": "stdout",
     "output_type": "stream",
     "text": [
      "ab bc\n",
      "<class 'dict'>\n",
      "{'key': 'value', 'key2': 'value2'}\n"
     ]
    }
   ],
   "source": [
    "test_func2(a=\"ab\",b=\"bc\",key=\"value\",key2=\"value2\")"
   ]
  },
  {
   "cell_type": "code",
   "execution_count": 314,
   "id": "edfb75b9-f731-4ce9-aa13-b9a79b82b8af",
   "metadata": {},
   "outputs": [],
   "source": [
    "def plus_ten(sum):\n",
    "    return sum+10\n",
    "plus_ten(70)    "
   ]
  },
  {
   "cell_type": "code",
   "execution_count": 316,
   "id": "ee22df98-0ddc-438c-b7ed-b85e92031291",
   "metadata": {},
   "outputs": [
    {
     "data": {
      "text/plain": [
       "80"
      ]
     },
     "execution_count": 316,
     "metadata": {},
     "output_type": "execute_result"
    }
   ],
   "source": []
  },
  {
   "cell_type": "code",
   "execution_count": null,
   "id": "cef2139c-4f73-4799-8de4-b9a910750e42",
   "metadata": {
    "tags": []
   },
   "outputs": [],
   "source": []
  }
 ],
 "metadata": {
  "kernelspec": {
   "display_name": "Python 3 (ipykernel)",
   "language": "python",
   "name": "python3"
  },
  "language_info": {
   "codemirror_mode": {
    "name": "ipython",
    "version": 3
   },
   "file_extension": ".py",
   "mimetype": "text/x-python",
   "name": "python",
   "nbconvert_exporter": "python",
   "pygments_lexer": "ipython3",
   "version": "3.9.13"
  }
 },
 "nbformat": 4,
 "nbformat_minor": 5
}
