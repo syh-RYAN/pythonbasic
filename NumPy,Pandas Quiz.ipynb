{
 "cells": [
  {
   "cell_type": "markdown",
   "id": "0b1e5f30-bff3-4e1f-b154-5b37eae4505e",
   "metadata": {},
   "source": [
    "(문제1) arange()를 활용하여 array([2,5,8,11,14,17,20])의 값을 갖는 ndarray를 만드세요"
   ]
  },
  {
   "cell_type": "code",
   "execution_count": 5,
   "id": "13dd612c-6d07-49f3-8682-de15a3312cb6",
   "metadata": {},
   "outputs": [
    {
     "data": {
      "text/plain": [
       "array([ 2,  5,  8, 11, 14, 17, 20])"
      ]
     },
     "execution_count": 5,
     "metadata": {},
     "output_type": "execute_result"
    }
   ],
   "source": [
    "import numpy as np\n",
    "np.arange(2,21,3)"
   ]
  },
  {
   "cell_type": "markdown",
   "id": "987c098c-5c03-4e90-8299-b590c0cc74ee",
   "metadata": {},
   "source": [
    "(문제2) 클래스 정의부 중 __init__(self)에서 self에 대해서 설명"
   ]
  },
  {
   "cell_type": "markdown",
   "id": "10368856-3171-4ce8-8d4b-c15c6ea6c90e",
   "metadata": {},
   "source": [
    "인스턴스 자기 자신을 의미"
   ]
  },
  {
   "cell_type": "markdown",
   "id": "84e552dd-6aa8-4e87-bd04-c705a5b738e9",
   "metadata": {},
   "source": [
    "문제(3) 정의할 수 없는 숫자(NaN)의 데이터 타입은 무엇인지 적어보세요"
   ]
  },
  {
   "cell_type": "markdown",
   "id": "656d93d0-625f-4580-9cd3-bf6f33c44a58",
   "metadata": {},
   "source": [
    "float64"
   ]
  },
  {
   "cell_type": "markdown",
   "id": "928ff3c5-adc9-4010-b8fb-9fc92374edeb",
   "metadata": {},
   "source": [
    "(문제4) 넘파이 배열에 대한 설명으로 옳은 것은?"
   ]
  },
  {
   "cell_type": "markdown",
   "id": "43e1b0db-91ca-4492-81d6-6fd3f2c5c65e",
   "metadata": {},
   "source": [
    "3번"
   ]
  },
  {
   "cell_type": "markdown",
   "id": "4b5acdf6-94dd-4c4f-91f3-094133ca4969",
   "metadata": {},
   "source": [
    "(문제5) 다음 실행 결과와 같이 index가 '일','이','삼'이고 values가 1,2,3인 Series"
   ]
  },
  {
   "cell_type": "code",
   "execution_count": 14,
   "id": "1d0bf309-247f-4a74-ba0b-c24398652662",
   "metadata": {},
   "outputs": [
    {
     "data": {
      "text/plain": [
       "일    1\n",
       "이    2\n",
       "삼    3\n",
       "dtype: int64"
      ]
     },
     "execution_count": 14,
     "metadata": {},
     "output_type": "execute_result"
    }
   ],
   "source": [
    "import pandas as pd\n",
    "series = pd.Series([1,2,3],index = ['일','이','삼'])\n",
    "series"
   ]
  },
  {
   "cell_type": "markdown",
   "id": "117be8c2-7178-4823-b2bd-8bc1458d3b5b",
   "metadata": {},
   "source": [
    "(문제6) 브로드캐스팅할 수 없는 것을 모두 고르세요"
   ]
  },
  {
   "cell_type": "markdown",
   "id": "0356bdde-a75f-45af-8203-f50184b1d575",
   "metadata": {},
   "source": [
    "2번,5번"
   ]
  },
  {
   "cell_type": "markdown",
   "id": "bb157e1b-0261-4aa0-ae15-61705736d5f2",
   "metadata": {},
   "source": [
    "(문제7) 다음 중 차원 축소 시키는 연산이 아닌 것을 고르세요"
   ]
  },
  {
   "cell_type": "markdown",
   "id": "4fb65c4e-b1af-4631-81b9-8b6c26af53de",
   "metadata": {},
   "source": [
    "5번"
   ]
  },
  {
   "cell_type": "markdown",
   "id": "b103ae32-e691-44fd-a86a-0f71d0768399",
   "metadata": {},
   "source": [
    "(문제8) 다음 설명 중 옳은 것을 모두 고르세요"
   ]
  },
  {
   "cell_type": "markdown",
   "id": "0c64f0b4-f8f6-4691-9e1a-40b603fb185d",
   "metadata": {},
   "source": [
    "1번,5번"
   ]
  },
  {
   "cell_type": "markdown",
   "id": "12caedb3-25f2-4b4a-82df-e30169a07463",
   "metadata": {},
   "source": [
    "(문제9) DataFrame에 대해  카테고리별 개수를 반환해주는 메서드"
   ]
  },
  {
   "cell_type": "markdown",
   "id": "367f3903-eb66-44d9-8b93-8ab30e907fd8",
   "metadata": {},
   "source": [
    "3번"
   ]
  },
  {
   "cell_type": "markdown",
   "id": "8a3b71a7-b46e-4436-ba10-bb824cde475b",
   "metadata": {},
   "source": [
    "(문제10) 코드의 결과가 DataFrame이 아닌 것을 고르세요"
   ]
  },
  {
   "cell_type": "markdown",
   "id": "404b47f6-5b0a-4c58-b560-9bc26afce026",
   "metadata": {},
   "source": [
    "5번"
   ]
  },
  {
   "cell_type": "code",
   "execution_count": null,
   "id": "90869d74-56ba-4a47-8b41-91b4c2f9091a",
   "metadata": {},
   "outputs": [],
   "source": []
  }
 ],
 "metadata": {
  "kernelspec": {
   "display_name": "Python 3 (ipykernel)",
   "language": "python",
   "name": "python3"
  },
  "language_info": {
   "codemirror_mode": {
    "name": "ipython",
    "version": 3
   },
   "file_extension": ".py",
   "mimetype": "text/x-python",
   "name": "python",
   "nbconvert_exporter": "python",
   "pygments_lexer": "ipython3",
   "version": "3.9.13"
  }
 },
 "nbformat": 4,
 "nbformat_minor": 5
}
